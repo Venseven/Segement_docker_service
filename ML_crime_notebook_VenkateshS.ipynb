{
 "cells": [
  {
   "cell_type": "code",
   "execution_count": 1,
   "metadata": {
    "colab": {
     "base_uri": "https://localhost:8080/"
    },
    "id": "39LTZ-3yL12D",
    "outputId": "c0c48d93-9124-4554-a9ef-d80cfdbb886c"
   },
   "outputs": [
    {
     "name": "stdout",
     "output_type": "stream",
     "text": [
      "Crimes_data.csv  crimes_ML.ipynb\r\n"
     ]
    }
   ],
   "source": [
    "!ls\n"
   ]
  },
  {
   "cell_type": "code",
   "execution_count": 1,
   "metadata": {
    "id": "yE8o4wjGNN57"
   },
   "outputs": [],
   "source": [
    "import os"
   ]
  },
  {
   "cell_type": "code",
   "execution_count": 3,
   "metadata": {
    "id": "EDf_vX25NPqt"
   },
   "outputs": [],
   "source": [
    "# os.chdir(\"./drive/MyDrive/Ford/\")"
   ]
  },
  {
   "cell_type": "code",
   "execution_count": 65,
   "metadata": {
    "colab": {
     "base_uri": "https://localhost:8080/"
    },
    "id": "jqn9ercGf0Tl",
    "outputId": "fdd076f0-4a26-480f-bfd8-7a142f1d42f9"
   },
   "outputs": [
    {
     "name": "stdout",
     "output_type": "stream",
     "text": [
      "Defaulting to user installation because normal site-packages is not writeable\n",
      "Collecting plotly-geo==1.0.0\n",
      "  Downloading plotly_geo-1.0.0-py3-none-any.whl (23.7 MB)\n",
      "\u001b[2K     \u001b[90m━━━━━━━━━━━━━━━━━━━━━━━━━━━━━━━━━━━━━━━━\u001b[0m \u001b[32m23.7/23.7 MB\u001b[0m \u001b[31m25.2 MB/s\u001b[0m eta \u001b[36m0:00:00\u001b[0m00:01\u001b[0m00:01\u001b[0m\n",
      "\u001b[?25hInstalling collected packages: plotly-geo\n",
      "Successfully installed plotly-geo-1.0.0\n",
      "\u001b[33mWARNING: You are using pip version 22.0.4; however, version 22.1.2 is available.\n",
      "You should consider upgrading via the '/usr/bin/python3.8 -m pip install --upgrade pip' command.\u001b[0m\u001b[33m\n",
      "\u001b[0mDefaulting to user installation because normal site-packages is not writeable\n",
      "Collecting geopandas==0.3.0\n",
      "  Downloading geopandas-0.3.0-py2.py3-none-any.whl (888 kB)\n",
      "\u001b[2K     \u001b[90m━━━━━━━━━━━━━━━━━━━━━━━━━━━━━━━━━━━━━━━\u001b[0m \u001b[32m888.7/888.7 KB\u001b[0m \u001b[31m1.5 MB/s\u001b[0m eta \u001b[36m0:00:00\u001b[0m00:01\u001b[0m00:01\u001b[0m\n",
      "\u001b[?25hCollecting descartes\n",
      "  Downloading descartes-1.1.0-py3-none-any.whl (5.8 kB)\n",
      "Collecting shapely\n",
      "  Using cached Shapely-1.8.2-cp38-cp38-manylinux_2_12_x86_64.manylinux2010_x86_64.whl (2.1 MB)\n",
      "Collecting fiona\n",
      "  Downloading Fiona-1.8.21-cp38-cp38-manylinux_2_17_x86_64.manylinux2014_x86_64.whl (16.6 MB)\n",
      "\u001b[2K     \u001b[90m━━━━━━━━━━━━━━━━━━━━━━━━━━━━━━━━━━━━━━━━\u001b[0m \u001b[32m16.6/16.6 MB\u001b[0m \u001b[31m2.0 MB/s\u001b[0m eta \u001b[36m0:00:00\u001b[0m00:01\u001b[0m00:01\u001b[0m\n",
      "\u001b[?25hCollecting pyproj\n",
      "  Downloading pyproj-3.3.1-cp38-cp38-manylinux_2_17_x86_64.manylinux2014_x86_64.whl (7.7 MB)\n",
      "\u001b[2K     \u001b[90m━━━━━━━━━━━━━━━━━━━━━━━━━━━━━━━━━━━━━━━━\u001b[0m \u001b[32m7.7/7.7 MB\u001b[0m \u001b[31m2.3 MB/s\u001b[0m eta \u001b[36m0:00:00\u001b[0m00:01\u001b[0m00:01\u001b[0m\n",
      "\u001b[?25hRequirement already satisfied: pandas in /home/ubuntu/.local/lib/python3.8/site-packages (from geopandas==0.3.0) (1.4.1)\n",
      "Requirement already satisfied: matplotlib in /home/ubuntu/.local/lib/python3.8/site-packages (from descartes->geopandas==0.3.0) (3.5.2)\n",
      "Requirement already satisfied: click>=4.0 in /usr/local/lib/python3.8/dist-packages (from fiona->geopandas==0.3.0) (8.0.4)\n",
      "Requirement already satisfied: click-plugins>=1.0 in /usr/local/lib/python3.8/dist-packages (from fiona->geopandas==0.3.0) (1.1.1)\n",
      "Requirement already satisfied: certifi in /usr/local/lib/python3.8/dist-packages (from fiona->geopandas==0.3.0) (2021.10.8)\n",
      "Requirement already satisfied: attrs>=17 in /usr/local/lib/python3.8/dist-packages (from fiona->geopandas==0.3.0) (21.4.0)\n",
      "Requirement already satisfied: six>=1.7 in /usr/local/lib/python3.8/dist-packages (from fiona->geopandas==0.3.0) (1.16.0)\n",
      "Requirement already satisfied: setuptools in /usr/local/lib/python3.8/dist-packages (from fiona->geopandas==0.3.0) (59.6.0)\n",
      "Collecting cligj>=0.5\n",
      "  Downloading cligj-0.7.2-py3-none-any.whl (7.1 kB)\n",
      "Collecting munch\n",
      "  Downloading munch-2.5.0-py2.py3-none-any.whl (10 kB)\n",
      "Requirement already satisfied: pytz>=2020.1 in /usr/local/lib/python3.8/dist-packages (from pandas->geopandas==0.3.0) (2021.3)\n",
      "Requirement already satisfied: numpy>=1.18.5 in /home/ubuntu/.local/lib/python3.8/site-packages (from pandas->geopandas==0.3.0) (1.22.3)\n",
      "Requirement already satisfied: python-dateutil>=2.8.1 in /usr/local/lib/python3.8/dist-packages (from pandas->geopandas==0.3.0) (2.8.2)\n",
      "Requirement already satisfied: fonttools>=4.22.0 in /home/ubuntu/.local/lib/python3.8/site-packages (from matplotlib->descartes->geopandas==0.3.0) (4.33.3)\n",
      "Requirement already satisfied: pillow>=6.2.0 in /home/ubuntu/.local/lib/python3.8/site-packages (from matplotlib->descartes->geopandas==0.3.0) (9.0.1)\n",
      "Requirement already satisfied: cycler>=0.10 in /home/ubuntu/.local/lib/python3.8/site-packages (from matplotlib->descartes->geopandas==0.3.0) (0.11.0)\n",
      "Requirement already satisfied: pyparsing>=2.2.1 in /usr/local/lib/python3.8/dist-packages (from matplotlib->descartes->geopandas==0.3.0) (3.0.7)\n",
      "Requirement already satisfied: kiwisolver>=1.0.1 in /home/ubuntu/.local/lib/python3.8/site-packages (from matplotlib->descartes->geopandas==0.3.0) (1.4.3)\n",
      "Requirement already satisfied: packaging>=20.0 in /usr/local/lib/python3.8/dist-packages (from matplotlib->descartes->geopandas==0.3.0) (21.3)\n",
      "Installing collected packages: shapely, pyproj, munch, cligj, fiona, descartes, geopandas\n",
      "Successfully installed cligj-0.7.2 descartes-1.1.0 fiona-1.8.21 geopandas-0.3.0 munch-2.5.0 pyproj-3.3.1 shapely-1.8.2\n",
      "\u001b[33mWARNING: You are using pip version 22.0.4; however, version 22.1.2 is available.\n",
      "You should consider upgrading via the '/usr/bin/python3.8 -m pip install --upgrade pip' command.\u001b[0m\u001b[33m\n",
      "\u001b[0mDefaulting to user installation because normal site-packages is not writeable\n",
      "Collecting pyshp==1.2.10\n",
      "  Downloading pyshp-1.2.10.tar.gz (176 kB)\n",
      "\u001b[2K     \u001b[90m━━━━━━━━━━━━━━━━━━━━━━━━━━━━━━━━━━━━━━━\u001b[0m \u001b[32m176.5/176.5 KB\u001b[0m \u001b[31m1.1 MB/s\u001b[0m eta \u001b[36m0:00:00\u001b[0ma \u001b[36m0:00:01\u001b[0m\n",
      "\u001b[?25h  Preparing metadata (setup.py) ... \u001b[?25ldone\n",
      "\u001b[?25hBuilding wheels for collected packages: pyshp\n",
      "  Building wheel for pyshp (setup.py) ... \u001b[?25ldone\n",
      "\u001b[?25h  Created wheel for pyshp: filename=pyshp-1.2.10-py3-none-any.whl size=20493 sha256=fc67529a72a4e592526e31f7520ebe574871d845a07913eccb163926e6c5c7dc\n",
      "  Stored in directory: /home/ubuntu/.cache/pip/wheels/6f/f4/b1/245a940ae91c0aa70a1344c7d827cd85806bd701cb5a9f67e0\n",
      "Successfully built pyshp\n",
      "Installing collected packages: pyshp\n",
      "Successfully installed pyshp-1.2.10\n",
      "\u001b[33mWARNING: You are using pip version 22.0.4; however, version 22.1.2 is available.\n",
      "You should consider upgrading via the '/usr/bin/python3.8 -m pip install --upgrade pip' command.\u001b[0m\u001b[33m\n",
      "\u001b[0mDefaulting to user installation because normal site-packages is not writeable\n",
      "Collecting shapely==1.6.3\n",
      "  Downloading Shapely-1.6.3.tar.gz (223 kB)\n",
      "\u001b[2K     \u001b[90m━━━━━━━━━━━━━━━━━━━━━━━━━━━━━━━━━━━━━━━\u001b[0m \u001b[32m223.0/223.0 KB\u001b[0m \u001b[31m1.3 MB/s\u001b[0m eta \u001b[36m0:00:00\u001b[0ma \u001b[36m0:00:01\u001b[0m\n",
      "\u001b[?25h  Preparing metadata (setup.py) ... \u001b[?25ldone\n",
      "\u001b[?25hBuilding wheels for collected packages: shapely\n",
      "  Building wheel for shapely (setup.py) ... \u001b[?25ldone\n",
      "\u001b[?25h  Created wheel for shapely: filename=Shapely-1.6.3-py2.py3-none-any.whl size=155991 sha256=fedd45c055cb50e491365691f30923580c50b3eefead737939d14c24dbd68137\n",
      "  Stored in directory: /home/ubuntu/.cache/pip/wheels/35/2c/e8/1a453518e7134fefea749a6211fa8428ddce9cd0d17dd29add\n",
      "Successfully built shapely\n",
      "Installing collected packages: shapely\n",
      "  Attempting uninstall: shapely\n",
      "    Found existing installation: Shapely 1.8.2\n",
      "    Uninstalling Shapely-1.8.2:\n",
      "      Successfully uninstalled Shapely-1.8.2\n",
      "Successfully installed shapely-1.6.3\n",
      "\u001b[33mWARNING: You are using pip version 22.0.4; however, version 22.1.2 is available.\n",
      "You should consider upgrading via the '/usr/bin/python3.8 -m pip install --upgrade pip' command.\u001b[0m\u001b[33m\n",
      "\u001b[0m"
     ]
    }
   ],
   "source": [
    "!pip install plotly-geo==1.0.0\n",
    "!pip install geopandas==0.3.0\n",
    "!pip install pyshp==1.2.10\n",
    "!pip install shapely==1.6.3"
   ]
  },
  {
   "cell_type": "code",
   "execution_count": 47,
   "metadata": {
    "id": "8fprOyDHNTtt"
   },
   "outputs": [],
   "source": [
    "import pandas as pd\n",
    "import numpy as np\n",
    "import matplotlib.pyplot as plt\n",
    "import seaborn as sns\n",
    "from dateutil import parser\n",
    "from sklearn import preprocessing\n",
    "from sentence_transformers import SentenceTransformer\n",
    "from factor_analyzer import FactorAnalyzer\n",
    "from factor_analyzer.factor_analyzer import calculate_bartlett_sphericity\n",
    "import itertools\n",
    "from sklearn.model_selection import train_test_split\n",
    "from sklearn.ensemble import RandomForestClassifier,VotingClassifier\n",
    "from sklearn.neighbors import KNeighborsClassifier\n",
    "from sklearn.neural_network import MLPClassifier\n",
    "from sklearn.metrics import precision_score, recall_score, confusion_matrix, classification_report, accuracy_score, f1_score\n",
    "le = preprocessing.LabelEncoder()"
   ]
  },
  {
   "cell_type": "code",
   "execution_count": 39,
   "metadata": {
    "id": "VO-c9hhHOEqt"
   },
   "outputs": [],
   "source": [
    "data =  pd.read_csv(\"Crimes_data.csv\")"
   ]
  },
  {
   "cell_type": "code",
   "execution_count": 40,
   "metadata": {
    "colab": {
     "base_uri": "https://localhost:8080/",
     "height": 177
    },
    "id": "ph2rgF0iOKGL",
    "outputId": "f3346298-a070-4a17-9689-1848535def5c"
   },
   "outputs": [
    {
     "data": {
      "text/html": [
       "<div>\n",
       "<style scoped>\n",
       "    .dataframe tbody tr th:only-of-type {\n",
       "        vertical-align: middle;\n",
       "    }\n",
       "\n",
       "    .dataframe tbody tr th {\n",
       "        vertical-align: top;\n",
       "    }\n",
       "\n",
       "    .dataframe thead th {\n",
       "        text-align: right;\n",
       "    }\n",
       "</style>\n",
       "<table border=\"1\" class=\"dataframe\">\n",
       "  <thead>\n",
       "    <tr style=\"text-align: right;\">\n",
       "      <th></th>\n",
       "      <th>ID</th>\n",
       "      <th>Case Number</th>\n",
       "      <th>Date</th>\n",
       "      <th>Address</th>\n",
       "      <th>Crime Type Code</th>\n",
       "      <th>Primary Crime Type</th>\n",
       "      <th>Crime Description</th>\n",
       "      <th>Location Type</th>\n",
       "      <th>Arrest</th>\n",
       "      <th>Domestic Crime</th>\n",
       "      <th>Beat</th>\n",
       "      <th>District Code</th>\n",
       "      <th>Ward Number</th>\n",
       "      <th>Community Area Code</th>\n",
       "    </tr>\n",
       "  </thead>\n",
       "  <tbody>\n",
       "    <tr>\n",
       "      <th>0</th>\n",
       "      <td>11798117</td>\n",
       "      <td>JC397040</td>\n",
       "      <td>17-08-2019 23:59</td>\n",
       "      <td>058XX W EDDY ST</td>\n",
       "      <td>820</td>\n",
       "      <td>THEFT</td>\n",
       "      <td>$500 AND UNDER</td>\n",
       "      <td>STREET</td>\n",
       "      <td>True</td>\n",
       "      <td>False</td>\n",
       "      <td>1633</td>\n",
       "      <td>16</td>\n",
       "      <td>36.0</td>\n",
       "      <td>15</td>\n",
       "    </tr>\n",
       "  </tbody>\n",
       "</table>\n",
       "</div>"
      ],
      "text/plain": [
       "         ID Case Number              Date          Address Crime Type Code  \\\n",
       "0  11798117    JC397040  17-08-2019 23:59  058XX W EDDY ST             820   \n",
       "\n",
       "  Primary Crime Type Crime Description Location Type  Arrest  Domestic Crime  \\\n",
       "0              THEFT    $500 AND UNDER        STREET    True           False   \n",
       "\n",
       "   Beat  District Code  Ward Number  Community Area Code  \n",
       "0  1633             16         36.0                   15  "
      ]
     },
     "execution_count": 40,
     "metadata": {},
     "output_type": "execute_result"
    }
   ],
   "source": [
    "data.head(1)"
   ]
  },
  {
   "cell_type": "code",
   "execution_count": 41,
   "metadata": {
    "colab": {
     "base_uri": "https://localhost:8080/"
    },
    "id": "CRgeuWLWQTWT",
    "outputId": "31476bb3-c95f-41ef-f77b-da4083c1ff44"
   },
   "outputs": [
    {
     "data": {
      "text/plain": [
       "Index(['ID', 'Case Number', 'Date', 'Address', 'Crime Type Code',\n",
       "       'Primary Crime Type', 'Crime Description', 'Location Type', 'Arrest',\n",
       "       'Domestic Crime', 'Beat', 'District Code', 'Ward Number',\n",
       "       'Community Area Code'],\n",
       "      dtype='object')"
      ]
     },
     "execution_count": 41,
     "metadata": {},
     "output_type": "execute_result"
    }
   ],
   "source": [
    "data.columns"
   ]
  },
  {
   "cell_type": "markdown",
   "metadata": {},
   "source": [
    "> Drop NAN values from dataframe"
   ]
  },
  {
   "cell_type": "code",
   "execution_count": 42,
   "metadata": {
    "id": "3kQbsJqsgaoG"
   },
   "outputs": [],
   "source": [
    "data.dropna(inplace = True)"
   ]
  },
  {
   "cell_type": "markdown",
   "metadata": {},
   "source": [
    "> ID and Case Number are irrelevant to the models. So removing those"
   ]
  },
  {
   "cell_type": "code",
   "execution_count": 43,
   "metadata": {
    "id": "agIa-FwpOLN1"
   },
   "outputs": [],
   "source": [
    "drop_columns = ['ID', 'Case Number']\n",
    "data.drop(columns = drop_columns, inplace = True)"
   ]
  },
  {
   "cell_type": "markdown",
   "metadata": {
    "id": "JdIoZ91TQ_cC"
   },
   "source": [
    "> Spliting datetime into hour, day, month and year"
   ]
  },
  {
   "cell_type": "code",
   "execution_count": 44,
   "metadata": {
    "colab": {
     "base_uri": "https://localhost:8080/",
     "height": 461
    },
    "id": "z_LtD6_tQ9PU",
    "outputId": "bea22eb0-8b1a-4c4d-f1ff-a989a1d8bfa7"
   },
   "outputs": [],
   "source": [
    "\n",
    "data['date2'] = pd.to_datetime(data['Date'])\n",
    "data['Year'] = data['date2'].dt.year\n",
    "data['Month'] = data['date2'].dt.month\n",
    "data['Day'] = data['date2'].dt.day\n",
    "data['Hour'] = data['date2'].dt.hour\n",
    "data['Minute'] = data['date2'].dt.minute\n",
    "data['Second'] = data['date2'].dt.second \n",
    "data = data.drop(['Date'], axis=1) \n",
    "data = data.drop(['date2'], axis=1) \n"
   ]
  },
  {
   "cell_type": "markdown",
   "metadata": {},
   "source": [
    "## Visualizations"
   ]
  },
  {
   "cell_type": "markdown",
   "metadata": {},
   "source": [
    "Visualizations was done by POwerBI as it provides more interactive reports and insights"
   ]
  },
  {
   "cell_type": "code",
   "execution_count": null,
   "metadata": {},
   "outputs": [],
   "source": []
  },
  {
   "cell_type": "markdown",
   "metadata": {
    "id": "D52EJtRxWefD"
   },
   "source": [
    "\n",
    "\n",
    "> Convert into categories\n",
    "\n"
   ]
  },
  {
   "cell_type": "code",
   "execution_count": 35,
   "metadata": {
    "id": "NYyMhnquTksp"
   },
   "outputs": [],
   "source": [
    "categorical_columns = ['Location Type',  'Arrest', 'Domestic Crime', 'Primary Crime Type',  'Address', 'Crime Type Code']\n"
   ]
  },
  {
   "cell_type": "code",
   "execution_count": 36,
   "metadata": {
    "colab": {
     "base_uri": "https://localhost:8080/"
    },
    "id": "xQ2O393iWGkX",
    "outputId": "f5389f9a-1ad0-43e9-d905-3c7447153f55"
   },
   "outputs": [
    {
     "data": {
      "text/plain": [
       "Index(['Address', 'Crime Type Code', 'Primary Crime Type', 'Crime Description',\n",
       "       'Location Type', 'Arrest', 'Domestic Crime', 'Beat', 'District Code',\n",
       "       'Ward Number', 'Community Area Code', 'Year', 'Month', 'Day', 'Hour',\n",
       "       'Minute', 'Second'],\n",
       "      dtype='object')"
      ]
     },
     "execution_count": 36,
     "metadata": {},
     "output_type": "execute_result"
    }
   ],
   "source": [
    "data.columns"
   ]
  },
  {
   "cell_type": "code",
   "execution_count": 37,
   "metadata": {
    "id": "tbtiNpt1WHyw"
   },
   "outputs": [],
   "source": [
    "data = data.apply(lambda x:le.fit_transform(x) if x.name in categorical_columns else x)"
   ]
  },
  {
   "cell_type": "markdown",
   "metadata": {
    "id": "6d4zVLeRcIe_"
   },
   "source": [
    "To benchmark between contextual embeddins vs categorical label vector to understand if the context of the crime correlates with area"
   ]
  },
  {
   "cell_type": "code",
   "execution_count": 14,
   "metadata": {
    "id": "OcqACdSiajyz"
   },
   "outputs": [],
   "source": [
    "data['Crime Description Category'] = le.fit_transform(data['Crime Description'])"
   ]
  },
  {
   "cell_type": "code",
   "execution_count": 15,
   "metadata": {
    "id": "EHJ42flhbmvN"
   },
   "outputs": [],
   "source": [
    "crime_description = data['Crime Description']\n",
    "data.drop(columns = ['Crime Description'], inplace=True)"
   ]
  },
  {
   "cell_type": "code",
   "execution_count": 16,
   "metadata": {
    "id": "hCsMofo3bpvC"
   },
   "outputs": [],
   "source": [
    "# date_columns = ['Date_hoursin', 'Date_hourcos', 'Date_daysin','Date_daycos', 'Date_monthsin', 'Date_monthcos', 'Date_year']\n",
    "date_columns = ['Year', 'Month', 'Day', 'Hour', 'Minute','Second']"
   ]
  },
  {
   "cell_type": "code",
   "execution_count": 17,
   "metadata": {
    "id": "5q0QyjSml7EJ"
   },
   "outputs": [],
   "source": [
    "factor_analysis_columns = [i for i in data.columns if i not in date_columns]"
   ]
  },
  {
   "cell_type": "markdown",
   "metadata": {
    "id": "dJj5NgG7hVMt"
   },
   "source": [
    "The **Kaiser-Meyer-Olkin (KMO)** Test evaluates whether data are appropriate for factor analysis. It assesses the suitability of the model overall and for each observable variable. Value of KMO less than 0.6 is considered inadequate."
   ]
  },
  {
   "cell_type": "code",
   "execution_count": 18,
   "metadata": {
    "id": "p865ebY7fpsG"
   },
   "outputs": [],
   "source": [
    "from factor_analyzer.factor_analyzer import calculate_kmo\n",
    "kmo_all,kmo_model=calculate_kmo(data[factor_analysis_columns])"
   ]
  },
  {
   "cell_type": "code",
   "execution_count": 19,
   "metadata": {
    "colab": {
     "base_uri": "https://localhost:8080/"
    },
    "id": "-6Kvgnr0f-ae",
    "outputId": "b6d75afb-d871-466d-8265-cfd411b1976a"
   },
   "outputs": [
    {
     "data": {
      "text/plain": [
       "0.6614005746224669"
      ]
     },
     "execution_count": 19,
     "metadata": {},
     "output_type": "execute_result"
    }
   ],
   "source": [
    "kmo_model"
   ]
  },
  {
   "cell_type": "markdown",
   "metadata": {},
   "source": [
    "> The eigenvalue quantifies how much of the observed variables' common variance a factor explains.\n",
    "Any factor with an eigenvalue greater than one explains more variance than a single variable. "
   ]
  },
  {
   "cell_type": "code",
   "execution_count": 20,
   "metadata": {
    "colab": {
     "base_uri": "https://localhost:8080/"
    },
    "id": "1boNXlsggimP",
    "outputId": "225868f9-8026-4a67-ad5c-3086b26069dc"
   },
   "outputs": [
    {
     "data": {
      "text/plain": [
       "array([2.95575553e+00, 1.50710222e+00, 1.42679120e+00, 1.11853105e+00,\n",
       "       9.34230326e-01, 8.42559518e-01, 7.25542569e-01, 5.44358390e-01,\n",
       "       4.96451482e-01, 4.48589580e-01, 8.81288844e-05])"
      ]
     },
     "execution_count": 20,
     "metadata": {},
     "output_type": "execute_result"
    }
   ],
   "source": [
    "fa = FactorAnalyzer()\n",
    "fa.fit(data[factor_analysis_columns])\n",
    "eigen_values, vectors = fa.get_eigenvalues()# Check Eigenvalues\n",
    "eigen_values"
   ]
  },
  {
   "cell_type": "code",
   "execution_count": 21,
   "metadata": {
    "colab": {
     "base_uri": "https://localhost:8080/",
     "height": 295
    },
    "id": "1g4zo45ZgqlV",
    "outputId": "86ab4077-d960-4b2a-b7d2-7d5a38911444"
   },
   "outputs": [
    {
     "data": {
      "image/png": "[encoded data removed]",
      "text/plain": [
       "<Figure size 432x288 with 1 Axes>"
      ]
     },
     "metadata": {
      "needs_background": "light"
     },
     "output_type": "display_data"
    }
   ],
   "source": [
    "plt.scatter(range(1,data[factor_analysis_columns].shape[1]+1),eigen_values)\n",
    "plt.plot(range(1,data[factor_analysis_columns].shape[1]+1),eigen_values)\n",
    "plt.title('Scree Plot')\n",
    "plt.xlabel('Factors')\n",
    "plt.ylabel('Eigenvalue')\n",
    "plt.grid()\n",
    "plt.show()"
   ]
  },
  {
   "cell_type": "code",
   "execution_count": 27,
   "metadata": {
    "colab": {
     "base_uri": "https://localhost:8080/"
    },
    "id": "kwNUXlJAiKh2",
    "outputId": "6e037211-206d-4a4a-8475-3661d8c74f25"
   },
   "outputs": [
    {
     "data": {
      "text/plain": [
       "array([2.95575553e+00, 1.50710222e+00, 1.42679120e+00, 1.11853105e+00,\n",
       "       9.34230326e-01, 8.42559518e-01, 7.25542569e-01, 5.44358390e-01,\n",
       "       4.96451482e-01, 4.48589580e-01, 8.81288844e-05])"
      ]
     },
     "execution_count": 27,
     "metadata": {},
     "output_type": "execute_result"
    }
   ],
   "source": [
    "eigen_values\n"
   ]
  },
  {
   "cell_type": "markdown",
   "metadata": {},
   "source": [
    "> Choosing factors which has eigenvalues greater than 1"
   ]
  },
  {
   "cell_type": "code",
   "execution_count": 22,
   "metadata": {
    "id": "Qk_rWc5rizUt"
   },
   "outputs": [],
   "source": [
    "significant_factors = {i: j for i,j in zip(data.columns[:10], eigen_values) if j > 1}"
   ]
  },
  {
   "cell_type": "code",
   "execution_count": 23,
   "metadata": {
    "colab": {
     "base_uri": "https://localhost:8080/"
    },
    "id": "uFWj670oi3MX",
    "outputId": "9034ee5c-2732-4eed-b2de-a67a3b0fe7a9"
   },
   "outputs": [
    {
     "data": {
      "text/plain": [
       "{'Address': 2.95575553242685,\n",
       " 'Crime Type Code': 1.5071022239218457,\n",
       " 'Primary Crime Type': 1.4267911978516812,\n",
       " 'Location Type': 1.1185310514548812}"
      ]
     },
     "execution_count": 23,
     "metadata": {},
     "output_type": "execute_result"
    }
   ],
   "source": [
    "significant_factors"
   ]
  },
  {
   "cell_type": "code",
   "execution_count": 24,
   "metadata": {
    "id": "d6dnpwpWk7nS"
   },
   "outputs": [],
   "source": [
    "overall_factors = [list(significant_factors.keys()), date_columns]"
   ]
  },
  {
   "cell_type": "code",
   "execution_count": 25,
   "metadata": {
    "id": "vj_k6f5jlM26"
   },
   "outputs": [],
   "source": [
    "overall_factors = list(itertools.chain(*overall_factors))"
   ]
  },
  {
   "cell_type": "code",
   "execution_count": 26,
   "metadata": {
    "id": "3KV3nYoHlO_D"
   },
   "outputs": [],
   "source": [
    "final_data = data[overall_factors]"
   ]
  },
  {
   "cell_type": "code",
   "execution_count": 27,
   "metadata": {
    "colab": {
     "base_uri": "https://localhost:8080/",
     "height": 424
    },
    "id": "-NP7mmodmqMZ",
    "outputId": "b85bb3e0-bd2e-4a9c-8429-9a1bf3ec8f21"
   },
   "outputs": [
    {
     "data": {
      "text/html": [
       "<div>\n",
       "<style scoped>\n",
       "    .dataframe tbody tr th:only-of-type {\n",
       "        vertical-align: middle;\n",
       "    }\n",
       "\n",
       "    .dataframe tbody tr th {\n",
       "        vertical-align: top;\n",
       "    }\n",
       "\n",
       "    .dataframe thead th {\n",
       "        text-align: right;\n",
       "    }\n",
       "</style>\n",
       "<table border=\"1\" class=\"dataframe\">\n",
       "  <thead>\n",
       "    <tr style=\"text-align: right;\">\n",
       "      <th></th>\n",
       "      <th>Address</th>\n",
       "      <th>Crime Type Code</th>\n",
       "      <th>Primary Crime Type</th>\n",
       "      <th>Location Type</th>\n",
       "      <th>Year</th>\n",
       "      <th>Month</th>\n",
       "      <th>Day</th>\n",
       "      <th>Hour</th>\n",
       "      <th>Minute</th>\n",
       "      <th>Second</th>\n",
       "    </tr>\n",
       "  </thead>\n",
       "  <tbody>\n",
       "    <tr>\n",
       "      <th>0</th>\n",
       "      <td>18197</td>\n",
       "      <td>287</td>\n",
       "      <td>29</td>\n",
       "      <td>109</td>\n",
       "      <td>2019</td>\n",
       "      <td>8</td>\n",
       "      <td>17</td>\n",
       "      <td>23</td>\n",
       "      <td>59</td>\n",
       "      <td>0</td>\n",
       "    </tr>\n",
       "    <tr>\n",
       "      <th>1</th>\n",
       "      <td>2829</td>\n",
       "      <td>44</td>\n",
       "      <td>6</td>\n",
       "      <td>110</td>\n",
       "      <td>2019</td>\n",
       "      <td>8</td>\n",
       "      <td>17</td>\n",
       "      <td>23</td>\n",
       "      <td>59</td>\n",
       "      <td>0</td>\n",
       "    </tr>\n",
       "    <tr>\n",
       "      <th>2</th>\n",
       "      <td>8305</td>\n",
       "      <td>60</td>\n",
       "      <td>30</td>\n",
       "      <td>106</td>\n",
       "      <td>2019</td>\n",
       "      <td>8</td>\n",
       "      <td>17</td>\n",
       "      <td>23</td>\n",
       "      <td>57</td>\n",
       "      <td>0</td>\n",
       "    </tr>\n",
       "    <tr>\n",
       "      <th>3</th>\n",
       "      <td>22407</td>\n",
       "      <td>60</td>\n",
       "      <td>30</td>\n",
       "      <td>15</td>\n",
       "      <td>2019</td>\n",
       "      <td>8</td>\n",
       "      <td>17</td>\n",
       "      <td>23</td>\n",
       "      <td>55</td>\n",
       "      <td>0</td>\n",
       "    </tr>\n",
       "    <tr>\n",
       "      <th>4</th>\n",
       "      <td>21591</td>\n",
       "      <td>218</td>\n",
       "      <td>2</td>\n",
       "      <td>106</td>\n",
       "      <td>2019</td>\n",
       "      <td>8</td>\n",
       "      <td>17</td>\n",
       "      <td>23</td>\n",
       "      <td>45</td>\n",
       "      <td>0</td>\n",
       "    </tr>\n",
       "    <tr>\n",
       "      <th>...</th>\n",
       "      <td>...</td>\n",
       "      <td>...</td>\n",
       "      <td>...</td>\n",
       "      <td>...</td>\n",
       "      <td>...</td>\n",
       "      <td>...</td>\n",
       "      <td>...</td>\n",
       "      <td>...</td>\n",
       "      <td>...</td>\n",
       "      <td>...</td>\n",
       "    </tr>\n",
       "    <tr>\n",
       "      <th>161937</th>\n",
       "      <td>9891</td>\n",
       "      <td>80</td>\n",
       "      <td>27</td>\n",
       "      <td>95</td>\n",
       "      <td>2019</td>\n",
       "      <td>1</td>\n",
       "      <td>1</td>\n",
       "      <td>0</td>\n",
       "      <td>0</td>\n",
       "      <td>0</td>\n",
       "    </tr>\n",
       "    <tr>\n",
       "      <th>161938</th>\n",
       "      <td>5099</td>\n",
       "      <td>26</td>\n",
       "      <td>8</td>\n",
       "      <td>95</td>\n",
       "      <td>2019</td>\n",
       "      <td>1</td>\n",
       "      <td>1</td>\n",
       "      <td>0</td>\n",
       "      <td>0</td>\n",
       "      <td>0</td>\n",
       "    </tr>\n",
       "    <tr>\n",
       "      <th>161939</th>\n",
       "      <td>14639</td>\n",
       "      <td>26</td>\n",
       "      <td>8</td>\n",
       "      <td>17</td>\n",
       "      <td>2019</td>\n",
       "      <td>1</td>\n",
       "      <td>1</td>\n",
       "      <td>0</td>\n",
       "      <td>0</td>\n",
       "      <td>0</td>\n",
       "    </tr>\n",
       "    <tr>\n",
       "      <th>161940</th>\n",
       "      <td>14657</td>\n",
       "      <td>26</td>\n",
       "      <td>8</td>\n",
       "      <td>84</td>\n",
       "      <td>2019</td>\n",
       "      <td>1</td>\n",
       "      <td>1</td>\n",
       "      <td>0</td>\n",
       "      <td>0</td>\n",
       "      <td>0</td>\n",
       "    </tr>\n",
       "    <tr>\n",
       "      <th>161941</th>\n",
       "      <td>22899</td>\n",
       "      <td>295</td>\n",
       "      <td>16</td>\n",
       "      <td>109</td>\n",
       "      <td>2019</td>\n",
       "      <td>1</td>\n",
       "      <td>1</td>\n",
       "      <td>0</td>\n",
       "      <td>0</td>\n",
       "      <td>0</td>\n",
       "    </tr>\n",
       "  </tbody>\n",
       "</table>\n",
       "<p>161366 rows × 10 columns</p>\n",
       "</div>"
      ],
      "text/plain": [
       "        Address  Crime Type Code  Primary Crime Type  Location Type  Year  \\\n",
       "0         18197              287                  29            109  2019   \n",
       "1          2829               44                   6            110  2019   \n",
       "2          8305               60                  30            106  2019   \n",
       "3         22407               60                  30             15  2019   \n",
       "4         21591              218                   2            106  2019   \n",
       "...         ...              ...                 ...            ...   ...   \n",
       "161937     9891               80                  27             95  2019   \n",
       "161938     5099               26                   8             95  2019   \n",
       "161939    14639               26                   8             17  2019   \n",
       "161940    14657               26                   8             84  2019   \n",
       "161941    22899              295                  16            109  2019   \n",
       "\n",
       "        Month  Day  Hour  Minute  Second  \n",
       "0           8   17    23      59       0  \n",
       "1           8   17    23      59       0  \n",
       "2           8   17    23      57       0  \n",
       "3           8   17    23      55       0  \n",
       "4           8   17    23      45       0  \n",
       "...       ...  ...   ...     ...     ...  \n",
       "161937      1    1     0       0       0  \n",
       "161938      1    1     0       0       0  \n",
       "161939      1    1     0       0       0  \n",
       "161940      1    1     0       0       0  \n",
       "161941      1    1     0       0       0  \n",
       "\n",
       "[161366 rows x 10 columns]"
      ]
     },
     "execution_count": 27,
     "metadata": {},
     "output_type": "execute_result"
    }
   ],
   "source": [
    "final_data"
   ]
  },
  {
   "cell_type": "code",
   "execution_count": 34,
   "metadata": {
    "id": "Zh5BLazdmrVx"
   },
   "outputs": [],
   "source": [
    "label_column = \"Primary Crime Type\"\n",
    "y = final_data[label_column]\n",
    "X = final_data[[i for i in final_data.columns if i!=label_column]]"
   ]
  },
  {
   "cell_type": "code",
   "execution_count": 39,
   "metadata": {
    "id": "abMgBUGGt1kQ"
   },
   "outputs": [],
   "source": [
    "\n",
    "from sklearn.model_selection import cross_validate\n",
    "\n",
    "def cross_validation(model, _X, _y, _cv=5):\n",
    "    '''Function to perform 5 Folds Cross-Validation\n",
    "    Parameters\n",
    "    ----------\n",
    "    model: Python Class, default=None\n",
    "      This is the machine learning algorithm to be used for training.\n",
    "    _X: array\n",
    "       This is the matrix of features.\n",
    "    _y: array\n",
    "       This is the target variable.\n",
    "    _cv: int, default=5\n",
    "      Determines the number of folds for cross-validation.\n",
    "    Returns\n",
    "    -------\n",
    "    The function returns a dictionary containing the metrics 'accuracy', 'precision',\n",
    "    'recall', 'f1' for both training set and validation set.\n",
    "    '''\n",
    "\n",
    "    scoring = ['accuracy']\n",
    "    results = cross_validate(estimator=model,\n",
    "                           X=_X,\n",
    "                           y=_y,\n",
    "                           cv=_cv,\n",
    "                           scoring=scoring,\n",
    "                           return_train_score=True)\n",
    "\n",
    "    return {\n",
    "                \"Training Accuracy scores\": results['train_accuracy'],\n",
    "                \"Mean Training Accuracy\": results['train_accuracy'].mean()*100\n",
    "            }\n",
    "\n",
    "\n"
   ]
  },
  {
   "cell_type": "code",
   "execution_count": 44,
   "metadata": {
    "id": "D_D0GAcYyV5A"
   },
   "outputs": [],
   "source": [
    "rf_model = RandomForestClassifier(n_estimators=70, # Number of trees\n",
    "                                  min_samples_split = 30,\n",
    "                                  bootstrap = True, \n",
    "                                  max_depth = 50, \n",
    "                                  min_samples_leaf = 25)\n",
    "nn_model = MLPClassifier(solver='adam', \n",
    "                         alpha=1e-5,\n",
    "                         hidden_layer_sizes=(40,), \n",
    "                         random_state=1,\n",
    "                         max_iter=1000                         \n",
    "                        )\n",
    "knn_model = KNeighborsClassifier(n_neighbors=3)\n",
    "models = [rf_model, nn_model, knn_model]\n"
   ]
  },
  {
   "cell_type": "code",
   "execution_count": 45,
   "metadata": {},
   "outputs": [
    {
     "name": "stderr",
     "output_type": "stream",
     "text": [
      "/home/ubuntu/.local/lib/python3.8/site-packages/sklearn/model_selection/_split.py:676: UserWarning: The least populated class in y has only 1 members, which is less than n_splits=5.\n",
      "  warnings.warn(\n",
      "/home/ubuntu/.local/lib/python3.8/site-packages/sklearn/model_selection/_split.py:676: UserWarning: The least populated class in y has only 1 members, which is less than n_splits=5.\n",
      "  warnings.warn(\n",
      "/home/ubuntu/.local/lib/python3.8/site-packages/sklearn/model_selection/_split.py:676: UserWarning: The least populated class in y has only 1 members, which is less than n_splits=5.\n",
      "  warnings.warn(\n"
     ]
    }
   ],
   "source": [
    "results =  {}\n",
    "for model in models:\n",
    "    results[f\"{model}\"] = cross_validation(model, X, y, _cv=5)\n"
   ]
  },
  {
   "cell_type": "code",
   "execution_count": 46,
   "metadata": {},
   "outputs": [
    {
     "data": {
      "text/plain": [
       "{'RandomForestClassifier(max_depth=50, min_samples_leaf=25, min_samples_split=30,\\n                       n_estimators=70)': {'Training Accuracy scores': array([0.9601602 , 0.96035416, 0.96310412, 0.96868924, 0.96699279]),\n",
       "  'Mean Training Accuracy': 96.3860101105708},\n",
       " 'MLPClassifier(alpha=1e-05, hidden_layer_sizes=(40,), max_iter=1000,\\n              random_state=1)': {'Training Accuracy scores': array([0.84160908, 0.915557  , 0.90817473, 0.87854492, 0.91599854]),\n",
       "  'Mean Training Accuracy': 89.19768563889366},\n",
       " 'KNeighborsClassifier(n_neighbors=3)': {'Training Accuracy scores': array([0.83216621, 0.83231469, 0.83277172, 0.83272524, 0.83277947]),\n",
       "  'Mean Training Accuracy': 83.25514662548814}}"
      ]
     },
     "execution_count": 46,
     "metadata": {},
     "output_type": "execute_result"
    }
   ],
   "source": [
    "results"
   ]
  },
  {
   "cell_type": "raw",
   "metadata": {},
   "source": [
    "Choosing RF model and perform hyperparamter tuning"
   ]
  },
  {
   "cell_type": "code",
   "execution_count": 48,
   "metadata": {
    "id": "z6lJCZVVoQux",
    "scrolled": true
   },
   "outputs": [],
   "source": [
    "from sklearn.model_selection import GridSearchCV# Create the parameter grid based on the results of random search \n",
    "param_grid = {\n",
    "    'bootstrap': [True],\n",
    "    'max_depth': [80, 90, 100, 110],\n",
    "    'max_features': [2, 3],\n",
    "    'min_samples_leaf': [5,15,25],\n",
    "    'min_samples_split': [8, 10, 12],\n",
    "    'n_estimators': [70, 100, 200, 300, 1000]\n",
    "}# Create a based model\n",
    "rf = RandomForestClassifier()# Instantiate the grid search model\n",
    "grid_search = GridSearchCV(estimator = rf, param_grid = param_grid, \n",
    "                          cv = 3, n_jobs = -1, verbose = 2)"
   ]
  },
  {
   "cell_type": "code",
   "execution_count": 49,
   "metadata": {
    "id": "PxrXuOUGoiZA"
   },
   "outputs": [
    {
     "name": "stdout",
     "output_type": "stream",
     "text": [
      "Fitting 3 folds for each of 360 candidates, totalling 1080 fits\n"
     ]
    },
    {
     "name": "stderr",
     "output_type": "stream",
     "text": [
      "/home/ubuntu/.local/lib/python3.8/site-packages/sklearn/model_selection/_split.py:676: UserWarning: The least populated class in y has only 1 members, which is less than n_splits=3.\n",
      "  warnings.warn(\n"
     ]
    },
    {
     "name": "stdout",
     "output_type": "stream",
     "text": [
      "[CV] END bootstrap=True, max_depth=80, max_features=2, min_samples_leaf=5, min_samples_split=12, n_estimators=70; total time=  14.2s\n",
      "[CV] END bootstrap=True, max_depth=80, max_features=2, min_samples_leaf=5, min_samples_split=12, n_estimators=200; total time=  39.4s\n"
     ]
    },
    {
     "name": "stderr",
     "output_type": "stream",
     "text": [
      "/home/ubuntu/.local/lib/python3.8/site-packages/joblib/externals/loky/process_executor.py:702: UserWarning: A worker stopped while some jobs were given to the executor. This can be caused by a too short worker timeout or by a memory leak.\n",
      "  warnings.warn(\n"
     ]
    },
    {
     "name": "stdout",
     "output_type": "stream",
     "text": [
      "[CV] END bootstrap=True, max_depth=80, max_features=2, min_samples_leaf=5, min_samples_split=10, n_estimators=70; total time=  14.3s\n",
      "[CV] END bootstrap=True, max_depth=80, max_features=2, min_samples_leaf=5, min_samples_split=12, n_estimators=200; total time=  40.7s\n",
      "[CV] END bootstrap=True, max_depth=80, max_features=2, min_samples_leaf=5, min_samples_split=8, n_estimators=70; total time=  14.8s\n",
      "[CV] END bootstrap=True, max_depth=80, max_features=2, min_samples_leaf=5, min_samples_split=12, n_estimators=200; total time=  41.4s\n",
      "[CV] END bootstrap=True, max_depth=80, max_features=2, min_samples_leaf=5, min_samples_split=10, n_estimators=70; total time=  14.7s\n",
      "[CV] END bootstrap=True, max_depth=80, max_features=2, min_samples_leaf=5, min_samples_split=12, n_estimators=300; total time= 1.0min\n",
      "[CV] END bootstrap=True, max_depth=80, max_features=2, min_samples_leaf=5, min_samples_split=10, n_estimators=100; total time=  19.5s\n",
      "[CV] END bootstrap=True, max_depth=80, max_features=2, min_samples_leaf=5, min_samples_split=12, n_estimators=300; total time= 1.0min\n",
      "[CV] END bootstrap=True, max_depth=80, max_features=2, min_samples_leaf=5, min_samples_split=8, n_estimators=100; total time=  20.2s\n",
      "[CV] END bootstrap=True, max_depth=80, max_features=2, min_samples_leaf=5, min_samples_split=12, n_estimators=300; total time= 1.0min\n",
      "[CV] END bootstrap=True, max_depth=80, max_features=2, min_samples_leaf=5, min_samples_split=8, n_estimators=200; total time=  41.1s\n",
      "[CV] END bootstrap=True, max_depth=80, max_features=2, min_samples_leaf=15, min_samples_split=8, n_estimators=300; total time=  55.8s\n",
      "[CV] END bootstrap=True, max_depth=80, max_features=2, min_samples_leaf=5, min_samples_split=10, n_estimators=300; total time= 1.1min\n",
      "[CV] END bootstrap=True, max_depth=80, max_features=2, min_samples_leaf=15, min_samples_split=10, n_estimators=300; total time=  54.6s\n",
      "[CV] END bootstrap=True, max_depth=80, max_features=2, min_samples_leaf=5, min_samples_split=8, n_estimators=100; total time=  21.5s\n",
      "[CV] END bootstrap=True, max_depth=80, max_features=2, min_samples_leaf=15, min_samples_split=8, n_estimators=70; total time=  12.3s\n",
      "[CV] END bootstrap=True, max_depth=80, max_features=2, min_samples_leaf=15, min_samples_split=8, n_estimators=100; total time=  18.7s\n",
      "[CV] END bootstrap=True, max_depth=80, max_features=2, min_samples_leaf=15, min_samples_split=10, n_estimators=70; total time=  13.8s\n",
      "[CV] END bootstrap=True, max_depth=80, max_features=2, min_samples_leaf=15, min_samples_split=10, n_estimators=300; total time=  55.4s\n",
      "[CV] END bootstrap=True, max_depth=80, max_features=2, min_samples_leaf=15, min_samples_split=10, n_estimators=100; total time=  19.4s\n",
      "[CV] END bootstrap=True, max_depth=80, max_features=2, min_samples_leaf=15, min_samples_split=12, n_estimators=70; total time=  13.3s\n",
      "[CV] END bootstrap=True, max_depth=80, max_features=2, min_samples_leaf=15, min_samples_split=12, n_estimators=300; total time=  55.3s\n",
      "[CV] END bootstrap=True, max_depth=80, max_features=2, min_samples_leaf=5, min_samples_split=8, n_estimators=70; total time=  13.8s\n",
      "[CV] END bootstrap=True, max_depth=80, max_features=2, min_samples_leaf=5, min_samples_split=12, n_estimators=70; total time=  13.8s\n",
      "[CV] END bootstrap=True, max_depth=80, max_features=2, min_samples_leaf=15, min_samples_split=8, n_estimators=70; total time=  13.1s\n",
      "[CV] END bootstrap=True, max_depth=80, max_features=2, min_samples_leaf=15, min_samples_split=8, n_estimators=200; total time=  37.3s\n",
      "[CV] END bootstrap=True, max_depth=80, max_features=2, min_samples_leaf=15, min_samples_split=12, n_estimators=70; total time=  12.9s\n",
      "[CV] END bootstrap=True, max_depth=80, max_features=2, min_samples_leaf=15, min_samples_split=12, n_estimators=300; total time=  56.4s\n",
      "[CV] END bootstrap=True, max_depth=80, max_features=2, min_samples_leaf=5, min_samples_split=8, n_estimators=200; total time=  40.4s\n",
      "[CV] END bootstrap=True, max_depth=80, max_features=2, min_samples_leaf=15, min_samples_split=8, n_estimators=200; total time=  38.0s\n",
      "[CV] END bootstrap=True, max_depth=80, max_features=2, min_samples_leaf=15, min_samples_split=12, n_estimators=100; total time=  18.5s\n",
      "[CV] END bootstrap=True, max_depth=80, max_features=2, min_samples_leaf=15, min_samples_split=12, n_estimators=300; total time=  54.9s\n",
      "[CV] END bootstrap=True, max_depth=80, max_features=2, min_samples_leaf=5, min_samples_split=8, n_estimators=100; total time=  20.6s\n",
      "[CV] END bootstrap=True, max_depth=80, max_features=2, min_samples_leaf=5, min_samples_split=12, n_estimators=1000; total time= 3.5min\n",
      "[CV] END bootstrap=True, max_depth=80, max_features=2, min_samples_leaf=5, min_samples_split=10, n_estimators=100; total time=  20.7s\n",
      "[CV] END bootstrap=True, max_depth=80, max_features=2, min_samples_leaf=5, min_samples_split=12, n_estimators=1000; total time= 3.5min\n",
      "[CV] END bootstrap=True, max_depth=80, max_features=2, min_samples_leaf=5, min_samples_split=10, n_estimators=100; total time=  20.2s\n",
      "[CV] END bootstrap=True, max_depth=80, max_features=2, min_samples_leaf=5, min_samples_split=12, n_estimators=1000; total time= 3.5min\n",
      "[CV] END bootstrap=True, max_depth=80, max_features=2, min_samples_leaf=5, min_samples_split=10, n_estimators=200; total time=  41.6s\n",
      "[CV] END bootstrap=True, max_depth=80, max_features=2, min_samples_leaf=15, min_samples_split=8, n_estimators=1000; total time= 3.2min\n",
      "[CV] END bootstrap=True, max_depth=80, max_features=2, min_samples_leaf=5, min_samples_split=12, n_estimators=70; total time=  13.9s\n",
      "[CV] END bootstrap=True, max_depth=80, max_features=2, min_samples_leaf=5, min_samples_split=12, n_estimators=100; total time=  19.7s\n",
      "[CV] END bootstrap=True, max_depth=80, max_features=2, min_samples_leaf=15, min_samples_split=8, n_estimators=70; total time=  13.4s\n",
      "[CV] END bootstrap=True, max_depth=80, max_features=2, min_samples_leaf=15, min_samples_split=8, n_estimators=1000; total time= 3.2min\n",
      "[CV] END bootstrap=True, max_depth=80, max_features=2, min_samples_leaf=5, min_samples_split=10, n_estimators=70; total time=  13.9s\n",
      "[CV] END bootstrap=True, max_depth=80, max_features=2, min_samples_leaf=5, min_samples_split=12, n_estimators=100; total time=  19.9s\n",
      "[CV] END bootstrap=True, max_depth=80, max_features=2, min_samples_leaf=15, min_samples_split=8, n_estimators=100; total time=  17.9s\n",
      "[CV] END bootstrap=True, max_depth=80, max_features=2, min_samples_leaf=15, min_samples_split=8, n_estimators=1000; total time= 3.2min\n",
      "[CV] END bootstrap=True, max_depth=80, max_features=2, min_samples_leaf=5, min_samples_split=8, n_estimators=70; total time=  14.3s\n",
      "[CV] END bootstrap=True, max_depth=80, max_features=2, min_samples_leaf=5, min_samples_split=12, n_estimators=100; total time=  20.7s\n",
      "[CV] END bootstrap=True, max_depth=80, max_features=2, min_samples_leaf=15, min_samples_split=8, n_estimators=100; total time=  19.1s\n",
      "[CV] END bootstrap=True, max_depth=80, max_features=2, min_samples_leaf=15, min_samples_split=10, n_estimators=70; total time=  13.4s\n",
      "[CV] END bootstrap=True, max_depth=80, max_features=2, min_samples_leaf=15, min_samples_split=10, n_estimators=1000; total time= 3.2min\n",
      "[CV] END bootstrap=True, max_depth=80, max_features=2, min_samples_leaf=15, min_samples_split=10, n_estimators=70; total time=  13.5s\n",
      "[CV] END bootstrap=True, max_depth=80, max_features=2, min_samples_leaf=15, min_samples_split=10, n_estimators=1000; total time= 3.2min\n",
      "[CV] END bootstrap=True, max_depth=80, max_features=2, min_samples_leaf=15, min_samples_split=10, n_estimators=100; total time=  20.2s\n",
      "[CV] END bootstrap=True, max_depth=80, max_features=2, min_samples_leaf=15, min_samples_split=10, n_estimators=1000; total time= 3.2min\n",
      "[CV] END bootstrap=True, max_depth=80, max_features=2, min_samples_leaf=5, min_samples_split=8, n_estimators=200; total time=  41.2s\n",
      "[CV] END bootstrap=True, max_depth=80, max_features=2, min_samples_leaf=15, min_samples_split=8, n_estimators=300; total time=  56.6s\n",
      "[CV] END bootstrap=True, max_depth=80, max_features=2, min_samples_leaf=15, min_samples_split=12, n_estimators=1000; total time= 3.2min\n",
      "[CV] END bootstrap=True, max_depth=80, max_features=2, min_samples_leaf=5, min_samples_split=10, n_estimators=200; total time=  41.3s\n",
      "[CV] END bootstrap=True, max_depth=80, max_features=2, min_samples_leaf=15, min_samples_split=8, n_estimators=300; total time=  56.0s\n",
      "[CV] END bootstrap=True, max_depth=80, max_features=2, min_samples_leaf=15, min_samples_split=12, n_estimators=1000; total time= 3.2min\n"
     ]
    },
    {
     "name": "stdout",
     "output_type": "stream",
     "text": [
      "[CV] END bootstrap=True, max_depth=80, max_features=2, min_samples_leaf=15, min_samples_split=12, n_estimators=200; total time=  38.2s\n",
      "[CV] END bootstrap=True, max_depth=80, max_features=2, min_samples_leaf=25, min_samples_split=8, n_estimators=1000; total time= 3.2min\n",
      "[CV] END bootstrap=True, max_depth=80, max_features=2, min_samples_leaf=25, min_samples_split=10, n_estimators=200; total time=  36.4s\n",
      "[CV] END bootstrap=True, max_depth=80, max_features=2, min_samples_leaf=25, min_samples_split=12, n_estimators=100; total time=  20.1s\n",
      "[CV] END bootstrap=True, max_depth=80, max_features=2, min_samples_leaf=25, min_samples_split=12, n_estimators=200; total time=  40.7s\n",
      "[CV] END bootstrap=True, max_depth=80, max_features=3, min_samples_leaf=5, min_samples_split=10, n_estimators=70; total time=  16.7s\n",
      "[CV] END bootstrap=True, max_depth=80, max_features=3, min_samples_leaf=5, min_samples_split=10, n_estimators=300; total time= 1.2min\n",
      "[CV] END bootstrap=True, max_depth=80, max_features=2, min_samples_leaf=5, min_samples_split=8, n_estimators=300; total time= 1.0min\n",
      "[CV] END bootstrap=True, max_depth=80, max_features=2, min_samples_leaf=15, min_samples_split=10, n_estimators=300; total time=  57.0s\n",
      "[CV] END bootstrap=True, max_depth=80, max_features=2, min_samples_leaf=25, min_samples_split=8, n_estimators=300; total time=  52.3s\n",
      "[CV] END bootstrap=True, max_depth=80, max_features=2, min_samples_leaf=25, min_samples_split=12, n_estimators=70; total time=  13.1s\n",
      "[CV] END bootstrap=True, max_depth=80, max_features=2, min_samples_leaf=25, min_samples_split=12, n_estimators=100; total time=  21.7s\n",
      "[CV] END bootstrap=True, max_depth=80, max_features=2, min_samples_leaf=25, min_samples_split=12, n_estimators=300; total time=  58.9s\n",
      "[CV] END bootstrap=True, max_depth=80, max_features=3, min_samples_leaf=5, min_samples_split=10, n_estimators=300; total time= 1.2min\n",
      "[CV] END bootstrap=True, max_depth=80, max_features=2, min_samples_leaf=5, min_samples_split=8, n_estimators=300; total time= 1.0min\n",
      "[CV] END bootstrap=True, max_depth=80, max_features=2, min_samples_leaf=15, min_samples_split=10, n_estimators=200; total time=  37.0s\n",
      "[CV] END bootstrap=True, max_depth=80, max_features=2, min_samples_leaf=25, min_samples_split=8, n_estimators=70; total time=  12.0s\n",
      "[CV] END bootstrap=True, max_depth=80, max_features=2, min_samples_leaf=25, min_samples_split=8, n_estimators=200; total time=  35.4s\n",
      "[CV] END bootstrap=True, max_depth=80, max_features=2, min_samples_leaf=25, min_samples_split=10, n_estimators=100; total time=  17.5s\n",
      "[CV] END bootstrap=True, max_depth=80, max_features=2, min_samples_leaf=25, min_samples_split=10, n_estimators=1000; total time= 3.1min\n",
      "[CV] END bootstrap=True, max_depth=80, max_features=2, min_samples_leaf=5, min_samples_split=10, n_estimators=300; total time= 1.0min\n",
      "[CV] END bootstrap=True, max_depth=80, max_features=2, min_samples_leaf=15, min_samples_split=10, n_estimators=100; total time=  19.1s\n",
      "[CV] END bootstrap=True, max_depth=80, max_features=2, min_samples_leaf=15, min_samples_split=12, n_estimators=100; total time=  18.7s\n",
      "[CV] END bootstrap=True, max_depth=80, max_features=2, min_samples_leaf=25, min_samples_split=8, n_estimators=70; total time=  11.5s\n",
      "[CV] END bootstrap=True, max_depth=80, max_features=2, min_samples_leaf=25, min_samples_split=8, n_estimators=200; total time=  34.3s\n",
      "[CV] END bootstrap=True, max_depth=80, max_features=2, min_samples_leaf=25, min_samples_split=10, n_estimators=100; total time=  17.4s\n",
      "[CV] END bootstrap=True, max_depth=80, max_features=2, min_samples_leaf=25, min_samples_split=10, n_estimators=1000; total time= 3.2min\n",
      "[CV] END bootstrap=True, max_depth=80, max_features=2, min_samples_leaf=5, min_samples_split=10, n_estimators=300; total time= 1.0min\n",
      "[CV] END bootstrap=True, max_depth=80, max_features=2, min_samples_leaf=15, min_samples_split=10, n_estimators=200; total time=  38.1s\n",
      "[CV] END bootstrap=True, max_depth=80, max_features=2, min_samples_leaf=25, min_samples_split=8, n_estimators=100; total time=  17.3s\n",
      "[CV] END bootstrap=True, max_depth=80, max_features=2, min_samples_leaf=25, min_samples_split=8, n_estimators=300; total time=  52.5s\n",
      "[CV] END bootstrap=True, max_depth=80, max_features=2, min_samples_leaf=25, min_samples_split=10, n_estimators=1000; total time= 3.1min\n",
      "[CV] END bootstrap=True, max_depth=80, max_features=2, min_samples_leaf=5, min_samples_split=8, n_estimators=300; total time= 1.0min\n",
      "[CV] END bootstrap=True, max_depth=80, max_features=2, min_samples_leaf=15, min_samples_split=10, n_estimators=200; total time=  36.3s\n",
      "[CV] END bootstrap=True, max_depth=80, max_features=2, min_samples_leaf=25, min_samples_split=8, n_estimators=70; total time=  11.7s\n",
      "[CV] END bootstrap=True, max_depth=80, max_features=2, min_samples_leaf=25, min_samples_split=8, n_estimators=100; total time=  17.5s\n",
      "[CV] END bootstrap=True, max_depth=80, max_features=2, min_samples_leaf=25, min_samples_split=10, n_estimators=70; total time=  12.0s\n",
      "[CV] END bootstrap=True, max_depth=80, max_features=2, min_samples_leaf=25, min_samples_split=10, n_estimators=100; total time=  17.2s\n",
      "[CV] END bootstrap=True, max_depth=80, max_features=2, min_samples_leaf=25, min_samples_split=10, n_estimators=300; total time=  57.6s\n",
      "[CV] END bootstrap=True, max_depth=80, max_features=3, min_samples_leaf=5, min_samples_split=8, n_estimators=100; total time=  24.4s\n",
      "[CV] END bootstrap=True, max_depth=80, max_features=3, min_samples_leaf=5, min_samples_split=10, n_estimators=70; total time=  16.6s\n",
      "[CV] END bootstrap=True, max_depth=80, max_features=3, min_samples_leaf=5, min_samples_split=10, n_estimators=100; total time=  24.1s\n",
      "[CV] END bootstrap=True, max_depth=80, max_features=3, min_samples_leaf=5, min_samples_split=12, n_estimators=100; total time=  24.3s\n",
      "[CV] END bootstrap=True, max_depth=80, max_features=3, min_samples_leaf=5, min_samples_split=12, n_estimators=300; total time= 1.2min\n",
      "[CV] END bootstrap=True, max_depth=80, max_features=2, min_samples_leaf=5, min_samples_split=8, n_estimators=1000; total time= 3.5min\n",
      "[CV] END bootstrap=True, max_depth=80, max_features=2, min_samples_leaf=25, min_samples_split=12, n_estimators=1000; total time= 3.1min\n",
      "[CV] END bootstrap=True, max_depth=80, max_features=2, min_samples_leaf=25, min_samples_split=10, n_estimators=300; total time=  57.2s\n",
      "[CV] END bootstrap=True, max_depth=80, max_features=2, min_samples_leaf=25, min_samples_split=12, n_estimators=1000; total time= 3.1min\n",
      "[CV] END bootstrap=True, max_depth=80, max_features=2, min_samples_leaf=15, min_samples_split=12, n_estimators=100; total time=  19.5s\n",
      "[CV] END bootstrap=True, max_depth=80, max_features=2, min_samples_leaf=25, min_samples_split=8, n_estimators=100; total time=  17.2s\n",
      "[CV] END bootstrap=True, max_depth=80, max_features=2, min_samples_leaf=25, min_samples_split=8, n_estimators=200; total time=  36.0s\n",
      "[CV] END bootstrap=True, max_depth=80, max_features=2, min_samples_leaf=25, min_samples_split=10, n_estimators=300; total time=  58.8s\n",
      "[CV] END bootstrap=True, max_depth=80, max_features=2, min_samples_leaf=25, min_samples_split=12, n_estimators=1000; total time= 3.1min\n",
      "[CV] END bootstrap=True, max_depth=80, max_features=2, min_samples_leaf=25, min_samples_split=10, n_estimators=200; total time=  35.1s\n",
      "[CV] END bootstrap=True, max_depth=80, max_features=2, min_samples_leaf=25, min_samples_split=12, n_estimators=70; total time=  13.8s\n",
      "[CV] END bootstrap=True, max_depth=80, max_features=2, min_samples_leaf=25, min_samples_split=12, n_estimators=200; total time=  40.0s\n",
      "[CV] END bootstrap=True, max_depth=80, max_features=3, min_samples_leaf=5, min_samples_split=8, n_estimators=1000; total time= 4.0min\n",
      "[CV] END bootstrap=True, max_depth=80, max_features=2, min_samples_leaf=15, min_samples_split=12, n_estimators=200; total time=  36.6s\n",
      "[CV] END bootstrap=True, max_depth=80, max_features=2, min_samples_leaf=25, min_samples_split=8, n_estimators=300; total time=  53.6s\n",
      "[CV] END bootstrap=True, max_depth=80, max_features=2, min_samples_leaf=25, min_samples_split=12, n_estimators=70; total time=  13.0s\n",
      "[CV] END bootstrap=True, max_depth=80, max_features=2, min_samples_leaf=25, min_samples_split=12, n_estimators=100; total time=  22.2s\n",
      "[CV] END bootstrap=True, max_depth=80, max_features=2, min_samples_leaf=25, min_samples_split=12, n_estimators=300; total time=  57.9s\n",
      "[CV] END bootstrap=True, max_depth=80, max_features=3, min_samples_leaf=5, min_samples_split=10, n_estimators=1000; total time= 4.0min\n"
     ]
    },
    {
     "name": "stdout",
     "output_type": "stream",
     "text": [
      "[CV] END bootstrap=True, max_depth=80, max_features=3, min_samples_leaf=5, min_samples_split=10, n_estimators=100; total time=  25.5s\n",
      "[CV] END bootstrap=True, max_depth=80, max_features=3, min_samples_leaf=5, min_samples_split=10, n_estimators=1000; total time= 4.0min\n",
      "[CV] END bootstrap=True, max_depth=80, max_features=3, min_samples_leaf=5, min_samples_split=8, n_estimators=200; total time=  48.7s\n",
      "[CV] END bootstrap=True, max_depth=80, max_features=3, min_samples_leaf=5, min_samples_split=12, n_estimators=100; total time=  25.0s\n",
      "[CV] END bootstrap=True, max_depth=80, max_features=3, min_samples_leaf=5, min_samples_split=12, n_estimators=1000; total time= 3.9min\n",
      "[CV] END bootstrap=True, max_depth=80, max_features=2, min_samples_leaf=5, min_samples_split=10, n_estimators=1000; total time= 3.6min\n",
      "[CV] END bootstrap=True, max_depth=80, max_features=3, min_samples_leaf=5, min_samples_split=8, n_estimators=100; total time=  24.8s\n",
      "[CV] END bootstrap=True, max_depth=80, max_features=3, min_samples_leaf=5, min_samples_split=10, n_estimators=70; total time=  16.3s\n",
      "[CV] END bootstrap=True, max_depth=80, max_features=3, min_samples_leaf=5, min_samples_split=10, n_estimators=200; total time=  50.0s\n",
      "[CV] END bootstrap=True, max_depth=80, max_features=3, min_samples_leaf=5, min_samples_split=12, n_estimators=1000; total time= 3.9min\n",
      "[CV] END bootstrap=True, max_depth=80, max_features=2, min_samples_leaf=5, min_samples_split=10, n_estimators=1000; total time= 3.5min\n",
      "[CV] END bootstrap=True, max_depth=80, max_features=3, min_samples_leaf=5, min_samples_split=8, n_estimators=70; total time=  18.1s\n",
      "[CV] END bootstrap=True, max_depth=80, max_features=3, min_samples_leaf=5, min_samples_split=8, n_estimators=300; total time= 1.2min\n",
      "[CV] END bootstrap=True, max_depth=80, max_features=3, min_samples_leaf=5, min_samples_split=12, n_estimators=1000; total time= 4.0min\n",
      "[CV] END bootstrap=True, max_depth=80, max_features=3, min_samples_leaf=5, min_samples_split=10, n_estimators=200; total time=  49.9s\n",
      "[CV] END bootstrap=True, max_depth=80, max_features=3, min_samples_leaf=15, min_samples_split=8, n_estimators=100; total time=  22.5s\n",
      "[CV] END bootstrap=True, max_depth=80, max_features=3, min_samples_leaf=15, min_samples_split=8, n_estimators=1000; total time= 3.7min\n",
      "[CV] END bootstrap=True, max_depth=80, max_features=3, min_samples_leaf=15, min_samples_split=8, n_estimators=100; total time=  21.8s\n",
      "[CV] END bootstrap=True, max_depth=80, max_features=3, min_samples_leaf=15, min_samples_split=8, n_estimators=1000; total time= 3.8min\n",
      "[CV] END bootstrap=True, max_depth=80, max_features=3, min_samples_leaf=5, min_samples_split=8, n_estimators=300; total time= 1.3min\n",
      "[CV] END bootstrap=True, max_depth=80, max_features=3, min_samples_leaf=15, min_samples_split=8, n_estimators=70; total time=  14.6s\n",
      "[CV] END bootstrap=True, max_depth=80, max_features=3, min_samples_leaf=15, min_samples_split=8, n_estimators=300; total time= 1.1min\n",
      "[CV] END bootstrap=True, max_depth=80, max_features=3, min_samples_leaf=15, min_samples_split=12, n_estimators=200; total time=  42.8s\n",
      "[CV] END bootstrap=True, max_depth=80, max_features=3, min_samples_leaf=25, min_samples_split=10, n_estimators=70; total time=  14.2s\n",
      "[CV] END bootstrap=True, max_depth=80, max_features=3, min_samples_leaf=25, min_samples_split=10, n_estimators=100; total time=  22.2s\n",
      "[CV] END bootstrap=True, max_depth=80, max_features=3, min_samples_leaf=25, min_samples_split=10, n_estimators=300; total time= 1.1min\n",
      "[CV] END bootstrap=True, max_depth=90, max_features=2, min_samples_leaf=5, min_samples_split=8, n_estimators=200; total time=  43.5s\n",
      "[CV] END bootstrap=True, max_depth=80, max_features=3, min_samples_leaf=5, min_samples_split=12, n_estimators=100; total time=  25.1s\n",
      "[CV] END bootstrap=True, max_depth=80, max_features=3, min_samples_leaf=15, min_samples_split=8, n_estimators=200; total time=  43.5s\n",
      "[CV] END bootstrap=True, max_depth=80, max_features=3, min_samples_leaf=15, min_samples_split=10, n_estimators=1000; total time= 3.8min\n",
      "[CV] END bootstrap=True, max_depth=80, max_features=2, min_samples_leaf=5, min_samples_split=8, n_estimators=1000; total time= 3.5min\n",
      "[CV] END bootstrap=True, max_depth=80, max_features=3, min_samples_leaf=5, min_samples_split=8, n_estimators=70; total time=  18.4s\n",
      "[CV] END bootstrap=True, max_depth=80, max_features=3, min_samples_leaf=5, min_samples_split=8, n_estimators=200; total time=  48.5s\n",
      "[CV] END bootstrap=True, max_depth=80, max_features=3, min_samples_leaf=5, min_samples_split=12, n_estimators=70; total time=  15.8s\n",
      "[CV] END bootstrap=True, max_depth=80, max_features=3, min_samples_leaf=5, min_samples_split=12, n_estimators=200; total time=  49.7s\n",
      "[CV] END bootstrap=True, max_depth=80, max_features=3, min_samples_leaf=15, min_samples_split=10, n_estimators=100; total time=  21.8s\n",
      "[CV] END bootstrap=True, max_depth=80, max_features=3, min_samples_leaf=15, min_samples_split=10, n_estimators=1000; total time= 3.7min\n",
      "[CV] END bootstrap=True, max_depth=80, max_features=3, min_samples_leaf=5, min_samples_split=12, n_estimators=200; total time=  49.3s\n",
      "[CV] END bootstrap=True, max_depth=80, max_features=3, min_samples_leaf=15, min_samples_split=10, n_estimators=100; total time=  21.6s\n",
      "[CV] END bootstrap=True, max_depth=80, max_features=3, min_samples_leaf=15, min_samples_split=10, n_estimators=1000; total time= 3.8min\n",
      "[CV] END bootstrap=True, max_depth=80, max_features=3, min_samples_leaf=15, min_samples_split=12, n_estimators=100; total time=  23.1s\n",
      "[CV] END bootstrap=True, max_depth=80, max_features=3, min_samples_leaf=25, min_samples_split=8, n_estimators=70; total time=  14.2s\n",
      "[CV] END bootstrap=True, max_depth=80, max_features=3, min_samples_leaf=25, min_samples_split=8, n_estimators=100; total time=  20.5s\n",
      "[CV] END bootstrap=True, max_depth=80, max_features=3, min_samples_leaf=25, min_samples_split=10, n_estimators=70; total time=  14.3s\n",
      "[CV] END bootstrap=True, max_depth=80, max_features=3, min_samples_leaf=25, min_samples_split=10, n_estimators=70; total time=  15.9s\n",
      "[CV] END bootstrap=True, max_depth=80, max_features=3, min_samples_leaf=25, min_samples_split=10, n_estimators=300; total time= 1.1min\n",
      "[CV] END bootstrap=True, max_depth=90, max_features=2, min_samples_leaf=5, min_samples_split=8, n_estimators=70; total time=  16.2s\n",
      "[CV] END bootstrap=True, max_depth=90, max_features=2, min_samples_leaf=5, min_samples_split=8, n_estimators=300; total time= 1.1min\n",
      "[CV] END bootstrap=True, max_depth=80, max_features=3, min_samples_leaf=15, min_samples_split=10, n_estimators=100; total time=  22.3s\n",
      "[CV] END bootstrap=True, max_depth=80, max_features=3, min_samples_leaf=15, min_samples_split=12, n_estimators=100; total time=  22.9s\n",
      "[CV] END bootstrap=True, max_depth=80, max_features=3, min_samples_leaf=15, min_samples_split=12, n_estimators=1000; total time= 3.8min\n",
      "[CV] END bootstrap=True, max_depth=80, max_features=2, min_samples_leaf=5, min_samples_split=10, n_estimators=1000; total time= 3.4min\n",
      "[CV] END bootstrap=True, max_depth=80, max_features=2, min_samples_leaf=25, min_samples_split=12, n_estimators=300; total time=  57.2s\n",
      "[CV] END bootstrap=True, max_depth=80, max_features=3, min_samples_leaf=5, min_samples_split=10, n_estimators=300; total time= 1.2min\n",
      "[CV] END bootstrap=True, max_depth=80, max_features=3, min_samples_leaf=15, min_samples_split=10, n_estimators=70; total time=  16.2s\n",
      "[CV] END bootstrap=True, max_depth=80, max_features=3, min_samples_leaf=15, min_samples_split=10, n_estimators=200; total time=  45.9s\n",
      "[CV] END bootstrap=True, max_depth=80, max_features=3, min_samples_leaf=15, min_samples_split=12, n_estimators=1000; total time= 3.8min\n",
      "[CV] END bootstrap=True, max_depth=90, max_features=2, min_samples_leaf=5, min_samples_split=10, n_estimators=70; total time=  16.0s\n",
      "[CV] END bootstrap=True, max_depth=90, max_features=2, min_samples_leaf=5, min_samples_split=10, n_estimators=300; total time= 1.1min\n",
      "[CV] END bootstrap=True, max_depth=80, max_features=3, min_samples_leaf=25, min_samples_split=12, n_estimators=300; total time= 1.2min\n",
      "[CV] END bootstrap=True, max_depth=90, max_features=2, min_samples_leaf=5, min_samples_split=10, n_estimators=300; total time= 1.1min\n",
      "[CV] END bootstrap=True, max_depth=90, max_features=2, min_samples_leaf=5, min_samples_split=12, n_estimators=70; total time=  13.9s\n",
      "[CV] END bootstrap=True, max_depth=90, max_features=2, min_samples_leaf=5, min_samples_split=12, n_estimators=200; total time=  43.2s\n"
     ]
    },
    {
     "name": "stdout",
     "output_type": "stream",
     "text": [
      "[CV] END bootstrap=True, max_depth=80, max_features=3, min_samples_leaf=15, min_samples_split=10, n_estimators=300; total time= 1.1min\n",
      "[CV] END bootstrap=True, max_depth=80, max_features=3, min_samples_leaf=25, min_samples_split=8, n_estimators=1000; total time= 3.7min\n",
      "[CV] END bootstrap=True, max_depth=90, max_features=2, min_samples_leaf=5, min_samples_split=12, n_estimators=70; total time=  14.3s\n",
      "[CV] END bootstrap=True, max_depth=90, max_features=2, min_samples_leaf=5, min_samples_split=12, n_estimators=200; total time=  46.0s\n",
      "[CV] END bootstrap=True, max_depth=80, max_features=3, min_samples_leaf=5, min_samples_split=8, n_estimators=300; total time= 1.3min\n",
      "[CV] END bootstrap=True, max_depth=80, max_features=3, min_samples_leaf=15, min_samples_split=8, n_estimators=70; total time=  15.4s\n",
      "[CV] END bootstrap=True, max_depth=80, max_features=3, min_samples_leaf=15, min_samples_split=8, n_estimators=200; total time=  46.0s\n",
      "[CV] END bootstrap=True, max_depth=80, max_features=3, min_samples_leaf=15, min_samples_split=12, n_estimators=70; total time=  16.3s\n",
      "[CV] END bootstrap=True, max_depth=80, max_features=3, min_samples_leaf=15, min_samples_split=12, n_estimators=200; total time=  43.4s\n",
      "[CV] END bootstrap=True, max_depth=80, max_features=3, min_samples_leaf=25, min_samples_split=8, n_estimators=1000; total time= 3.7min\n",
      "[CV] END bootstrap=True, max_depth=90, max_features=2, min_samples_leaf=5, min_samples_split=8, n_estimators=300; total time= 1.1min\n",
      "[CV] END bootstrap=True, max_depth=90, max_features=2, min_samples_leaf=5, min_samples_split=12, n_estimators=300; total time= 1.0min\n",
      "[CV] END bootstrap=True, max_depth=80, max_features=3, min_samples_leaf=5, min_samples_split=8, n_estimators=1000; total time= 4.0min\n",
      "[CV] END bootstrap=True, max_depth=80, max_features=3, min_samples_leaf=25, min_samples_split=12, n_estimators=70; total time=  15.2s\n",
      "[CV] END bootstrap=True, max_depth=80, max_features=3, min_samples_leaf=25, min_samples_split=12, n_estimators=100; total time=  21.5s\n",
      "[CV] END bootstrap=True, max_depth=90, max_features=2, min_samples_leaf=5, min_samples_split=8, n_estimators=70; total time=  14.7s\n",
      "[CV] END bootstrap=True, max_depth=90, max_features=2, min_samples_leaf=5, min_samples_split=8, n_estimators=100; total time=  21.3s\n",
      "[CV] END bootstrap=True, max_depth=90, max_features=2, min_samples_leaf=5, min_samples_split=10, n_estimators=70; total time=  14.0s\n",
      "[CV] END bootstrap=True, max_depth=90, max_features=2, min_samples_leaf=5, min_samples_split=10, n_estimators=100; total time=  21.8s\n",
      "[CV] END bootstrap=True, max_depth=90, max_features=2, min_samples_leaf=5, min_samples_split=12, n_estimators=100; total time=  20.7s\n",
      "[CV] END bootstrap=True, max_depth=90, max_features=2, min_samples_leaf=5, min_samples_split=12, n_estimators=300; total time= 1.1min\n",
      "[CV] END bootstrap=True, max_depth=90, max_features=2, min_samples_leaf=5, min_samples_split=8, n_estimators=300; total time= 1.1min\n",
      "[CV] END bootstrap=True, max_depth=90, max_features=2, min_samples_leaf=5, min_samples_split=12, n_estimators=300; total time= 1.1min\n",
      "[CV] END bootstrap=True, max_depth=80, max_features=3, min_samples_leaf=15, min_samples_split=10, n_estimators=200; total time=  46.6s\n",
      "[CV] END bootstrap=True, max_depth=80, max_features=3, min_samples_leaf=25, min_samples_split=8, n_estimators=70; total time=  14.8s\n",
      "[CV] END bootstrap=True, max_depth=80, max_features=3, min_samples_leaf=25, min_samples_split=8, n_estimators=200; total time=  41.1s\n",
      "[CV] END bootstrap=True, max_depth=80, max_features=3, min_samples_leaf=25, min_samples_split=10, n_estimators=100; total time=  22.3s\n",
      "[CV] END bootstrap=True, max_depth=80, max_features=3, min_samples_leaf=25, min_samples_split=10, n_estimators=1000; total time= 3.7min\n",
      "[CV] END bootstrap=True, max_depth=90, max_features=2, min_samples_leaf=5, min_samples_split=10, n_estimators=300; total time= 1.1min\n",
      "[CV] END bootstrap=True, max_depth=90, max_features=2, min_samples_leaf=15, min_samples_split=8, n_estimators=300; total time=  59.4s\n",
      "[CV] END bootstrap=True, max_depth=80, max_features=2, min_samples_leaf=5, min_samples_split=10, n_estimators=200; total time=  40.3s\n",
      "[CV] END bootstrap=True, max_depth=80, max_features=2, min_samples_leaf=15, min_samples_split=8, n_estimators=200; total time=  37.5s\n",
      "[CV] END bootstrap=True, max_depth=80, max_features=2, min_samples_leaf=15, min_samples_split=12, n_estimators=70; total time=  12.5s\n",
      "[CV] END bootstrap=True, max_depth=80, max_features=2, min_samples_leaf=15, min_samples_split=12, n_estimators=200; total time=  37.1s\n",
      "[CV] END bootstrap=True, max_depth=80, max_features=2, min_samples_leaf=25, min_samples_split=10, n_estimators=70; total time=  12.1s\n",
      "[CV] END bootstrap=True, max_depth=80, max_features=2, min_samples_leaf=25, min_samples_split=10, n_estimators=70; total time=  12.2s\n",
      "[CV] END bootstrap=True, max_depth=80, max_features=2, min_samples_leaf=25, min_samples_split=10, n_estimators=200; total time=  35.8s\n",
      "[CV] END bootstrap=True, max_depth=80, max_features=2, min_samples_leaf=25, min_samples_split=12, n_estimators=200; total time=  42.0s\n",
      "[CV] END bootstrap=True, max_depth=80, max_features=3, min_samples_leaf=5, min_samples_split=8, n_estimators=200; total time=  47.7s\n",
      "[CV] END bootstrap=True, max_depth=80, max_features=3, min_samples_leaf=5, min_samples_split=12, n_estimators=70; total time=  16.4s\n",
      "[CV] END bootstrap=True, max_depth=80, max_features=3, min_samples_leaf=5, min_samples_split=12, n_estimators=200; total time=  48.6s\n",
      "[CV] END bootstrap=True, max_depth=80, max_features=3, min_samples_leaf=15, min_samples_split=10, n_estimators=70; total time=  15.8s\n",
      "[CV] END bootstrap=True, max_depth=80, max_features=3, min_samples_leaf=15, min_samples_split=10, n_estimators=300; total time= 1.1min\n",
      "[CV] END bootstrap=True, max_depth=80, max_features=3, min_samples_leaf=25, min_samples_split=8, n_estimators=300; total time= 1.1min\n",
      "[CV] END bootstrap=True, max_depth=80, max_features=3, min_samples_leaf=25, min_samples_split=12, n_estimators=100; total time=  21.7s\n",
      "[CV] END bootstrap=True, max_depth=80, max_features=3, min_samples_leaf=25, min_samples_split=12, n_estimators=1000; total time= 3.7min\n",
      "[CV] END bootstrap=True, max_depth=90, max_features=2, min_samples_leaf=5, min_samples_split=12, n_estimators=200; total time=  44.3s\n",
      "[CV] END bootstrap=True, max_depth=90, max_features=2, min_samples_leaf=15, min_samples_split=10, n_estimators=100; total time=  18.5s\n",
      "[CV] END bootstrap=True, max_depth=90, max_features=2, min_samples_leaf=15, min_samples_split=10, n_estimators=300; total time=  58.3s\n",
      "[CV] END bootstrap=True, max_depth=90, max_features=2, min_samples_leaf=5, min_samples_split=10, n_estimators=100; total time=  22.3s\n",
      "[CV] END bootstrap=True, max_depth=90, max_features=2, min_samples_leaf=5, min_samples_split=12, n_estimators=70; total time=  13.7s\n",
      "[CV] END bootstrap=True, max_depth=90, max_features=2, min_samples_leaf=5, min_samples_split=12, n_estimators=100; total time=  21.7s\n",
      "[CV] END bootstrap=True, max_depth=90, max_features=2, min_samples_leaf=15, min_samples_split=8, n_estimators=70; total time=  13.1s\n",
      "[CV] END bootstrap=True, max_depth=90, max_features=2, min_samples_leaf=15, min_samples_split=8, n_estimators=200; total time=  38.4s\n",
      "[CV] END bootstrap=True, max_depth=90, max_features=2, min_samples_leaf=15, min_samples_split=10, n_estimators=300; total time=  58.8s\n",
      "[CV] END bootstrap=True, max_depth=80, max_features=3, min_samples_leaf=5, min_samples_split=10, n_estimators=200; total time=  50.3s\n",
      "[CV] END bootstrap=True, max_depth=80, max_features=3, min_samples_leaf=15, min_samples_split=8, n_estimators=70; total time=  14.8s\n",
      "[CV] END bootstrap=True, max_depth=80, max_features=3, min_samples_leaf=15, min_samples_split=8, n_estimators=300; total time= 1.2min\n",
      "[CV] END bootstrap=True, max_depth=80, max_features=3, min_samples_leaf=15, min_samples_split=12, n_estimators=300; total time= 1.1min\n",
      "[CV] END bootstrap=True, max_depth=80, max_features=3, min_samples_leaf=25, min_samples_split=10, n_estimators=200; total time=  43.6s\n",
      "[CV] END bootstrap=True, max_depth=80, max_features=3, min_samples_leaf=25, min_samples_split=12, n_estimators=200; total time=  45.0s\n",
      "[CV] END bootstrap=True, max_depth=90, max_features=2, min_samples_leaf=5, min_samples_split=8, n_estimators=1000; total time= 3.6min\n"
     ]
    },
    {
     "name": "stdout",
     "output_type": "stream",
     "text": [
      "[CV] END bootstrap=True, max_depth=80, max_features=2, min_samples_leaf=15, min_samples_split=12, n_estimators=1000; total time= 3.3min\n",
      "[CV] END bootstrap=True, max_depth=80, max_features=3, min_samples_leaf=5, min_samples_split=12, n_estimators=300; total time= 1.2min\n",
      "[CV] END bootstrap=True, max_depth=80, max_features=3, min_samples_leaf=15, min_samples_split=12, n_estimators=70; total time=  15.7s\n",
      "[CV] END bootstrap=True, max_depth=80, max_features=3, min_samples_leaf=15, min_samples_split=12, n_estimators=100; total time=  22.3s\n",
      "[CV] END bootstrap=True, max_depth=80, max_features=3, min_samples_leaf=25, min_samples_split=8, n_estimators=100; total time=  20.7s\n",
      "[CV] END bootstrap=True, max_depth=80, max_features=3, min_samples_leaf=25, min_samples_split=8, n_estimators=300; total time= 1.0min\n",
      "[CV] END bootstrap=True, max_depth=80, max_features=3, min_samples_leaf=25, min_samples_split=12, n_estimators=70; total time=  15.4s\n",
      "[CV] END bootstrap=True, max_depth=80, max_features=3, min_samples_leaf=25, min_samples_split=12, n_estimators=200; total time=  43.9s\n",
      "[CV] END bootstrap=True, max_depth=90, max_features=2, min_samples_leaf=5, min_samples_split=8, n_estimators=1000; total time= 3.6min\n",
      "[CV] END bootstrap=True, max_depth=90, max_features=2, min_samples_leaf=15, min_samples_split=10, n_estimators=70; total time=  13.0s\n",
      "[CV] END bootstrap=True, max_depth=90, max_features=2, min_samples_leaf=15, min_samples_split=10, n_estimators=200; total time=  38.7s\n",
      "[CV] END bootstrap=True, max_depth=90, max_features=2, min_samples_leaf=15, min_samples_split=12, n_estimators=300; total time=  58.1s\n",
      "[CV] END bootstrap=True, max_depth=80, max_features=3, min_samples_leaf=15, min_samples_split=12, n_estimators=300; total time= 1.1min\n",
      "[CV] END bootstrap=True, max_depth=80, max_features=3, min_samples_leaf=25, min_samples_split=10, n_estimators=300; total time= 1.1min\n",
      "[CV] END bootstrap=True, max_depth=90, max_features=2, min_samples_leaf=5, min_samples_split=8, n_estimators=100; total time=  22.5s\n",
      "[CV] END bootstrap=True, max_depth=90, max_features=2, min_samples_leaf=5, min_samples_split=8, n_estimators=1000; total time= 3.5min\n",
      "[CV] END bootstrap=True, max_depth=80, max_features=3, min_samples_leaf=15, min_samples_split=8, n_estimators=1000; total time= 3.8min\n",
      "[CV] END bootstrap=True, max_depth=90, max_features=2, min_samples_leaf=5, min_samples_split=10, n_estimators=100; total time=  21.3s\n",
      "[CV] END bootstrap=True, max_depth=90, max_features=2, min_samples_leaf=5, min_samples_split=10, n_estimators=1000; total time= 3.6min\n",
      "[CV] END bootstrap=True, max_depth=80, max_features=3, min_samples_leaf=5, min_samples_split=8, n_estimators=1000; total time= 4.1min\n",
      "[CV] END bootstrap=True, max_depth=80, max_features=3, min_samples_leaf=25, min_samples_split=12, n_estimators=70; total time=  14.7s\n",
      "[CV] END bootstrap=True, max_depth=80, max_features=3, min_samples_leaf=25, min_samples_split=12, n_estimators=200; total time=  44.4s\n",
      "[CV] END bootstrap=True, max_depth=90, max_features=2, min_samples_leaf=5, min_samples_split=8, n_estimators=200; total time=  43.3s\n",
      "[CV] END bootstrap=True, max_depth=90, max_features=2, min_samples_leaf=5, min_samples_split=10, n_estimators=1000; total time= 3.6min\n",
      "[CV] END bootstrap=True, max_depth=90, max_features=2, min_samples_leaf=5, min_samples_split=8, n_estimators=200; total time=  43.7s\n",
      "[CV] END bootstrap=True, max_depth=90, max_features=2, min_samples_leaf=5, min_samples_split=10, n_estimators=1000; total time= 3.6min\n",
      "[CV] END bootstrap=True, max_depth=90, max_features=2, min_samples_leaf=5, min_samples_split=12, n_estimators=100; total time=  21.6s\n",
      "[CV] END bootstrap=True, max_depth=90, max_features=2, min_samples_leaf=5, min_samples_split=12, n_estimators=1000; total time= 3.5min\n",
      "[CV] END bootstrap=True, max_depth=80, max_features=3, min_samples_leaf=5, min_samples_split=10, n_estimators=1000; total time= 4.1min\n",
      "[CV] END bootstrap=True, max_depth=90, max_features=2, min_samples_leaf=5, min_samples_split=8, n_estimators=70; total time=  15.0s\n",
      "[CV] END bootstrap=True, max_depth=90, max_features=2, min_samples_leaf=5, min_samples_split=8, n_estimators=100; total time=  21.5s\n",
      "[CV] END bootstrap=True, max_depth=90, max_features=2, min_samples_leaf=5, min_samples_split=10, n_estimators=70; total time=  15.0s\n",
      "[CV] END bootstrap=True, max_depth=90, max_features=2, min_samples_leaf=5, min_samples_split=10, n_estimators=200; total time=  44.0s\n",
      "[CV] END bootstrap=True, max_depth=90, max_features=2, min_samples_leaf=5, min_samples_split=12, n_estimators=1000; total time= 3.6min\n",
      "[CV] END bootstrap=True, max_depth=80, max_features=3, min_samples_leaf=15, min_samples_split=10, n_estimators=70; total time=  16.2s\n",
      "[CV] END bootstrap=True, max_depth=80, max_features=3, min_samples_leaf=15, min_samples_split=10, n_estimators=200; total time=  44.6s\n",
      "[CV] END bootstrap=True, max_depth=80, max_features=3, min_samples_leaf=25, min_samples_split=8, n_estimators=100; total time=  20.3s\n",
      "[CV] END bootstrap=True, max_depth=80, max_features=3, min_samples_leaf=25, min_samples_split=8, n_estimators=200; total time=  42.7s\n",
      "[CV] END bootstrap=True, max_depth=80, max_features=3, min_samples_leaf=25, min_samples_split=10, n_estimators=200; total time=  43.3s\n",
      "[CV] END bootstrap=True, max_depth=80, max_features=3, min_samples_leaf=25, min_samples_split=12, n_estimators=300; total time= 1.1min\n",
      "[CV] END bootstrap=True, max_depth=90, max_features=2, min_samples_leaf=5, min_samples_split=10, n_estimators=200; total time=  42.8s\n",
      "[CV] END bootstrap=True, max_depth=90, max_features=2, min_samples_leaf=5, min_samples_split=12, n_estimators=1000; total time= 3.6min\n",
      "[CV] END bootstrap=True, max_depth=90, max_features=2, min_samples_leaf=15, min_samples_split=8, n_estimators=100; total time=  21.2s\n",
      "[CV] END bootstrap=True, max_depth=90, max_features=2, min_samples_leaf=15, min_samples_split=8, n_estimators=1000; total time= 3.3min\n",
      "[CV] END bootstrap=True, max_depth=80, max_features=2, min_samples_leaf=5, min_samples_split=8, n_estimators=1000; total time= 3.5min\n",
      "[CV] END bootstrap=True, max_depth=80, max_features=3, min_samples_leaf=5, min_samples_split=8, n_estimators=70; total time=  17.6s\n",
      "[CV] END bootstrap=True, max_depth=80, max_features=3, min_samples_leaf=5, min_samples_split=8, n_estimators=100; total time=  25.0s\n",
      "[CV] END bootstrap=True, max_depth=80, max_features=3, min_samples_leaf=5, min_samples_split=10, n_estimators=100; total time=  24.8s\n",
      "[CV] END bootstrap=True, max_depth=80, max_features=3, min_samples_leaf=5, min_samples_split=12, n_estimators=70; total time=  17.0s\n",
      "[CV] END bootstrap=True, max_depth=80, max_features=3, min_samples_leaf=5, min_samples_split=12, n_estimators=300; total time= 1.2min\n",
      "[CV] END bootstrap=True, max_depth=80, max_features=3, min_samples_leaf=15, min_samples_split=12, n_estimators=70; total time=  15.6s\n",
      "[CV] END bootstrap=True, max_depth=80, max_features=3, min_samples_leaf=15, min_samples_split=12, n_estimators=200; total time=  44.4s\n",
      "[CV] END bootstrap=True, max_depth=80, max_features=3, min_samples_leaf=25, min_samples_split=8, n_estimators=1000; total time= 3.7min\n",
      "[CV] END bootstrap=True, max_depth=90, max_features=2, min_samples_leaf=15, min_samples_split=8, n_estimators=1000; total time= 3.3min\n",
      "[CV] END bootstrap=True, max_depth=90, max_features=2, min_samples_leaf=15, min_samples_split=8, n_estimators=70; total time=  14.3s\n",
      "[CV] END bootstrap=True, max_depth=90, max_features=2, min_samples_leaf=15, min_samples_split=8, n_estimators=200; total time=  37.2s\n",
      "[CV] END bootstrap=True, max_depth=90, max_features=2, min_samples_leaf=15, min_samples_split=10, n_estimators=1000; total time= 3.3min\n",
      "[CV] END bootstrap=True, max_depth=90, max_features=2, min_samples_leaf=15, min_samples_split=8, n_estimators=200; total time=  38.8s\n",
      "[CV] END bootstrap=True, max_depth=90, max_features=2, min_samples_leaf=15, min_samples_split=12, n_estimators=70; total time=  13.2s\n",
      "[CV] END bootstrap=True, max_depth=90, max_features=2, min_samples_leaf=15, min_samples_split=12, n_estimators=70; total time=  15.0s\n",
      "[CV] END bootstrap=True, max_depth=90, max_features=2, min_samples_leaf=15, min_samples_split=12, n_estimators=1000; total time= 3.3min\n",
      "[CV] END bootstrap=True, max_depth=80, max_features=3, min_samples_leaf=15, min_samples_split=12, n_estimators=300; total time= 1.1min\n",
      "[CV] END bootstrap=True, max_depth=80, max_features=3, min_samples_leaf=25, min_samples_split=10, n_estimators=200; total time=  42.8s\n",
      "[CV] END bootstrap=True, max_depth=80, max_features=3, min_samples_leaf=25, min_samples_split=12, n_estimators=300; total time= 1.2min\n",
      "[CV] END bootstrap=True, max_depth=90, max_features=2, min_samples_leaf=5, min_samples_split=10, n_estimators=200; total time=  44.0s\n",
      "[CV] END bootstrap=True, max_depth=90, max_features=2, min_samples_leaf=15, min_samples_split=8, n_estimators=70; total time=  13.6s\n",
      "[CV] END bootstrap=True, max_depth=90, max_features=2, min_samples_leaf=15, min_samples_split=8, n_estimators=100; total time=  19.7s\n",
      "[CV] END bootstrap=True, max_depth=90, max_features=2, min_samples_leaf=15, min_samples_split=10, n_estimators=100; total time=  17.9s\n",
      "[CV] END bootstrap=True, max_depth=90, max_features=2, min_samples_leaf=15, min_samples_split=10, n_estimators=200; total time=  38.9s\n",
      "[CV] END bootstrap=True, max_depth=90, max_features=2, min_samples_leaf=15, min_samples_split=12, n_estimators=1000; total time= 3.3min\n"
     ]
    },
    {
     "name": "stdout",
     "output_type": "stream",
     "text": [
      "[CV] END bootstrap=True, max_depth=90, max_features=2, min_samples_leaf=25, min_samples_split=8, n_estimators=100; total time=  20.3s\n",
      "[CV] END bootstrap=True, max_depth=90, max_features=2, min_samples_leaf=25, min_samples_split=10, n_estimators=70; total time=  13.0s\n",
      "[CV] END bootstrap=True, max_depth=90, max_features=2, min_samples_leaf=25, min_samples_split=10, n_estimators=200; total time=  38.0s\n",
      "[CV] END bootstrap=True, max_depth=90, max_features=2, min_samples_leaf=25, min_samples_split=12, n_estimators=300; total time=  56.7s\n",
      "[CV] END bootstrap=True, max_depth=90, max_features=3, min_samples_leaf=5, min_samples_split=10, n_estimators=200; total time=  49.2s\n",
      "[CV] END bootstrap=True, max_depth=90, max_features=2, min_samples_leaf=25, min_samples_split=10, n_estimators=100; total time=  19.3s\n",
      "[CV] END bootstrap=True, max_depth=90, max_features=2, min_samples_leaf=25, min_samples_split=12, n_estimators=70; total time=  13.3s\n",
      "[CV] END bootstrap=True, max_depth=90, max_features=2, min_samples_leaf=25, min_samples_split=12, n_estimators=100; total time=  18.3s\n",
      "[CV] END bootstrap=True, max_depth=90, max_features=3, min_samples_leaf=5, min_samples_split=8, n_estimators=70; total time=  19.2s\n",
      "[CV] END bootstrap=True, max_depth=90, max_features=3, min_samples_leaf=5, min_samples_split=8, n_estimators=300; total time= 1.3min\n",
      "[CV] END bootstrap=True, max_depth=90, max_features=3, min_samples_leaf=5, min_samples_split=8, n_estimators=70; total time=  17.7s\n",
      "[CV] END bootstrap=True, max_depth=90, max_features=3, min_samples_leaf=5, min_samples_split=10, n_estimators=70; total time=  17.5s\n",
      "[CV] END bootstrap=True, max_depth=90, max_features=3, min_samples_leaf=5, min_samples_split=10, n_estimators=200; total time=  48.6s\n",
      "[CV] END bootstrap=True, max_depth=90, max_features=2, min_samples_leaf=15, min_samples_split=10, n_estimators=70; total time=  12.9s\n",
      "[CV] END bootstrap=True, max_depth=90, max_features=2, min_samples_leaf=15, min_samples_split=10, n_estimators=100; total time=  19.4s\n",
      "[CV] END bootstrap=True, max_depth=90, max_features=2, min_samples_leaf=15, min_samples_split=12, n_estimators=70; total time=  13.6s\n",
      "[CV] END bootstrap=True, max_depth=90, max_features=2, min_samples_leaf=15, min_samples_split=12, n_estimators=100; total time=  19.6s\n",
      "[CV] END bootstrap=True, max_depth=90, max_features=2, min_samples_leaf=15, min_samples_split=12, n_estimators=1000; total time= 3.3min\n",
      "[CV] END bootstrap=True, max_depth=90, max_features=2, min_samples_leaf=25, min_samples_split=12, n_estimators=200; total time=  38.9s\n",
      "[CV] END bootstrap=True, max_depth=90, max_features=3, min_samples_leaf=5, min_samples_split=8, n_estimators=300; total time= 1.2min\n",
      "[CV] END bootstrap=True, max_depth=90, max_features=2, min_samples_leaf=15, min_samples_split=8, n_estimators=300; total time= 1.0min\n",
      "[CV] END bootstrap=True, max_depth=90, max_features=2, min_samples_leaf=15, min_samples_split=12, n_estimators=200; total time=  40.0s\n",
      "[CV] END bootstrap=True, max_depth=90, max_features=2, min_samples_leaf=25, min_samples_split=8, n_estimators=1000; total time= 3.1min\n",
      "[CV] END bootstrap=True, max_depth=90, max_features=3, min_samples_leaf=5, min_samples_split=10, n_estimators=70; total time=  17.0s\n",
      "[CV] END bootstrap=True, max_depth=90, max_features=3, min_samples_leaf=5, min_samples_split=10, n_estimators=300; total time= 1.2min\n",
      "[CV] END bootstrap=True, max_depth=90, max_features=2, min_samples_leaf=15, min_samples_split=12, n_estimators=300; total time= 1.0min\n",
      "[CV] END bootstrap=True, max_depth=90, max_features=2, min_samples_leaf=25, min_samples_split=10, n_estimators=300; total time=  57.9s\n",
      "[CV] END bootstrap=True, max_depth=90, max_features=3, min_samples_leaf=5, min_samples_split=8, n_estimators=100; total time=  23.9s\n",
      "[CV] END bootstrap=True, max_depth=90, max_features=3, min_samples_leaf=5, min_samples_split=10, n_estimators=70; total time=  17.3s\n",
      "[CV] END bootstrap=True, max_depth=90, max_features=3, min_samples_leaf=5, min_samples_split=10, n_estimators=300; total time= 1.2min\n",
      "[CV] END bootstrap=True, max_depth=90, max_features=2, min_samples_leaf=15, min_samples_split=12, n_estimators=100; total time=  20.0s\n",
      "[CV] END bootstrap=True, max_depth=90, max_features=2, min_samples_leaf=25, min_samples_split=8, n_estimators=70; total time=  13.9s\n",
      "[CV] END bootstrap=True, max_depth=90, max_features=2, min_samples_leaf=25, min_samples_split=8, n_estimators=200; total time=  38.4s\n",
      "[CV] END bootstrap=True, max_depth=90, max_features=2, min_samples_leaf=25, min_samples_split=10, n_estimators=1000; total time= 3.1min\n",
      "[CV] END bootstrap=True, max_depth=90, max_features=2, min_samples_leaf=25, min_samples_split=10, n_estimators=70; total time=  12.4s\n",
      "[CV] END bootstrap=True, max_depth=90, max_features=2, min_samples_leaf=25, min_samples_split=10, n_estimators=1000; total time= 3.1min\n",
      "[CV] END bootstrap=True, max_depth=90, max_features=3, min_samples_leaf=5, min_samples_split=8, n_estimators=200; total time=  48.2s\n",
      "[CV] END bootstrap=True, max_depth=90, max_features=3, min_samples_leaf=5, min_samples_split=12, n_estimators=100; total time=  24.6s\n",
      "[CV] END bootstrap=True, max_depth=90, max_features=3, min_samples_leaf=5, min_samples_split=12, n_estimators=300; total time= 1.2min\n",
      "[CV] END bootstrap=True, max_depth=90, max_features=2, min_samples_leaf=25, min_samples_split=8, n_estimators=100; total time=  20.3s\n",
      "[CV] END bootstrap=True, max_depth=90, max_features=2, min_samples_leaf=25, min_samples_split=10, n_estimators=70; total time=  12.6s\n",
      "[CV] END bootstrap=True, max_depth=90, max_features=2, min_samples_leaf=25, min_samples_split=10, n_estimators=200; total time=  37.3s\n",
      "[CV] END bootstrap=True, max_depth=90, max_features=2, min_samples_leaf=25, min_samples_split=12, n_estimators=300; total time=  56.8s\n",
      "[CV] END bootstrap=True, max_depth=90, max_features=3, min_samples_leaf=5, min_samples_split=10, n_estimators=100; total time=  23.3s\n",
      "[CV] END bootstrap=True, max_depth=90, max_features=3, min_samples_leaf=5, min_samples_split=12, n_estimators=100; total time=  23.8s\n",
      "[CV] END bootstrap=True, max_depth=90, max_features=3, min_samples_leaf=5, min_samples_split=12, n_estimators=300; total time= 1.2min\n",
      "[CV] END bootstrap=True, max_depth=90, max_features=2, min_samples_leaf=25, min_samples_split=10, n_estimators=200; total time=  38.0s\n",
      "[CV] END bootstrap=True, max_depth=90, max_features=2, min_samples_leaf=25, min_samples_split=12, n_estimators=300; total time=  57.5s\n",
      "[CV] END bootstrap=True, max_depth=90, max_features=3, min_samples_leaf=5, min_samples_split=10, n_estimators=200; total time=  46.8s\n",
      "[CV] END bootstrap=True, max_depth=90, max_features=3, min_samples_leaf=5, min_samples_split=12, n_estimators=300; total time= 1.2min\n",
      "[CV] END bootstrap=True, max_depth=90, max_features=2, min_samples_leaf=25, min_samples_split=10, n_estimators=100; total time=  18.5s\n",
      "[CV] END bootstrap=True, max_depth=90, max_features=2, min_samples_leaf=25, min_samples_split=12, n_estimators=70; total time=  13.5s\n",
      "[CV] END bootstrap=True, max_depth=90, max_features=2, min_samples_leaf=25, min_samples_split=12, n_estimators=70; total time=  12.6s\n",
      "[CV] END bootstrap=True, max_depth=90, max_features=2, min_samples_leaf=25, min_samples_split=12, n_estimators=1000; total time= 3.1min\n",
      "[CV] END bootstrap=True, max_depth=90, max_features=2, min_samples_leaf=15, min_samples_split=10, n_estimators=70; total time=  12.7s\n",
      "[CV] END bootstrap=True, max_depth=90, max_features=2, min_samples_leaf=15, min_samples_split=10, n_estimators=200; total time=  39.0s\n",
      "[CV] END bootstrap=True, max_depth=90, max_features=2, min_samples_leaf=15, min_samples_split=12, n_estimators=200; total time=  39.2s\n",
      "[CV] END bootstrap=True, max_depth=90, max_features=2, min_samples_leaf=25, min_samples_split=8, n_estimators=300; total time=  54.3s\n",
      "[CV] END bootstrap=True, max_depth=90, max_features=2, min_samples_leaf=25, min_samples_split=12, n_estimators=100; total time=  18.2s\n",
      "[CV] END bootstrap=True, max_depth=90, max_features=2, min_samples_leaf=25, min_samples_split=12, n_estimators=1000; total time= 3.1min\n",
      "[CV] END bootstrap=True, max_depth=90, max_features=2, min_samples_leaf=25, min_samples_split=12, n_estimators=200; total time=  39.4s\n",
      "[CV] END bootstrap=True, max_depth=90, max_features=3, min_samples_leaf=5, min_samples_split=8, n_estimators=1000; total time= 4.0min\n"
     ]
    },
    {
     "name": "stdout",
     "output_type": "stream",
     "text": [
      "[CV] END bootstrap=True, max_depth=90, max_features=2, min_samples_leaf=15, min_samples_split=8, n_estimators=1000; total time= 3.3min\n",
      "[CV] END bootstrap=True, max_depth=90, max_features=3, min_samples_leaf=5, min_samples_split=8, n_estimators=1000; total time= 4.0min\n",
      "[CV] END bootstrap=True, max_depth=90, max_features=2, min_samples_leaf=15, min_samples_split=10, n_estimators=1000; total time= 3.4min\n",
      "[CV] END bootstrap=True, max_depth=90, max_features=3, min_samples_leaf=5, min_samples_split=10, n_estimators=1000; total time= 3.9min\n",
      "[CV] END bootstrap=True, max_depth=90, max_features=2, min_samples_leaf=15, min_samples_split=10, n_estimators=300; total time= 1.0min\n",
      "[CV] END bootstrap=True, max_depth=90, max_features=2, min_samples_leaf=25, min_samples_split=8, n_estimators=200; total time=  37.1s\n",
      "[CV] END bootstrap=True, max_depth=90, max_features=2, min_samples_leaf=25, min_samples_split=10, n_estimators=300; total time=  55.8s\n",
      "[CV] END bootstrap=True, max_depth=90, max_features=3, min_samples_leaf=5, min_samples_split=8, n_estimators=100; total time=  23.9s\n",
      "[CV] END bootstrap=True, max_depth=90, max_features=3, min_samples_leaf=5, min_samples_split=10, n_estimators=100; total time=  24.6s\n",
      "[CV] END bootstrap=True, max_depth=90, max_features=3, min_samples_leaf=5, min_samples_split=10, n_estimators=1000; total time= 4.0min\n",
      "[CV] END bootstrap=True, max_depth=80, max_features=2, min_samples_leaf=25, min_samples_split=8, n_estimators=1000; total time= 3.2min\n",
      "[CV] END bootstrap=True, max_depth=80, max_features=3, min_samples_leaf=15, min_samples_split=8, n_estimators=200; total time=  44.6s\n",
      "[CV] END bootstrap=True, max_depth=80, max_features=3, min_samples_leaf=15, min_samples_split=10, n_estimators=300; total time= 1.1min\n",
      "[CV] END bootstrap=True, max_depth=80, max_features=3, min_samples_leaf=25, min_samples_split=8, n_estimators=300; total time= 1.1min\n",
      "[CV] END bootstrap=True, max_depth=80, max_features=3, min_samples_leaf=25, min_samples_split=12, n_estimators=100; total time=  21.7s\n",
      "[CV] END bootstrap=True, max_depth=80, max_features=3, min_samples_leaf=25, min_samples_split=12, n_estimators=1000; total time= 3.6min\n",
      "[CV] END bootstrap=True, max_depth=90, max_features=2, min_samples_leaf=25, min_samples_split=8, n_estimators=70; total time=  13.8s\n",
      "[CV] END bootstrap=True, max_depth=90, max_features=2, min_samples_leaf=25, min_samples_split=8, n_estimators=300; total time=  56.3s\n",
      "[CV] END bootstrap=True, max_depth=90, max_features=2, min_samples_leaf=25, min_samples_split=12, n_estimators=200; total time=  39.0s\n",
      "[CV] END bootstrap=True, max_depth=90, max_features=3, min_samples_leaf=5, min_samples_split=8, n_estimators=300; total time= 1.2min\n",
      "[CV] END bootstrap=True, max_depth=90, max_features=3, min_samples_leaf=5, min_samples_split=12, n_estimators=1000; total time= 3.9min\n",
      "[CV] END bootstrap=True, max_depth=90, max_features=3, min_samples_leaf=15, min_samples_split=12, n_estimators=100; total time=  23.2s\n",
      "[CV] END bootstrap=True, max_depth=90, max_features=3, min_samples_leaf=25, min_samples_split=8, n_estimators=70; total time=  14.1s\n",
      "[CV] END bootstrap=True, max_depth=90, max_features=3, min_samples_leaf=25, min_samples_split=8, n_estimators=100; total time=  20.8s\n",
      "[CV] END bootstrap=True, max_depth=90, max_features=3, min_samples_leaf=25, min_samples_split=10, n_estimators=70; total time=  13.9s\n",
      "[CV] END bootstrap=True, max_depth=90, max_features=3, min_samples_leaf=25, min_samples_split=10, n_estimators=100; total time=  24.1s\n",
      "[CV] END bootstrap=True, max_depth=90, max_features=3, min_samples_leaf=25, min_samples_split=10, n_estimators=300; total time= 1.1min\n",
      "[CV] END bootstrap=True, max_depth=100, max_features=2, min_samples_leaf=5, min_samples_split=8, n_estimators=200; total time=  43.0s\n",
      "[CV] END bootstrap=True, max_depth=90, max_features=3, min_samples_leaf=15, min_samples_split=12, n_estimators=70; total time=  16.4s\n",
      "[CV] END bootstrap=True, max_depth=90, max_features=3, min_samples_leaf=15, min_samples_split=12, n_estimators=300; total time= 1.1min\n",
      "[CV] END bootstrap=True, max_depth=90, max_features=3, min_samples_leaf=25, min_samples_split=10, n_estimators=100; total time=  22.1s\n",
      "[CV] END bootstrap=True, max_depth=90, max_features=3, min_samples_leaf=25, min_samples_split=12, n_estimators=70; total time=  16.0s\n",
      "[CV] END bootstrap=True, max_depth=90, max_features=3, min_samples_leaf=25, min_samples_split=12, n_estimators=200; total time=  44.2s\n",
      "[CV] END bootstrap=True, max_depth=100, max_features=2, min_samples_leaf=5, min_samples_split=8, n_estimators=200; total time=  42.8s\n",
      "[CV] END bootstrap=True, max_depth=90, max_features=3, min_samples_leaf=15, min_samples_split=8, n_estimators=70; total time=  15.8s\n",
      "[CV] END bootstrap=True, max_depth=90, max_features=3, min_samples_leaf=15, min_samples_split=8, n_estimators=200; total time=  45.3s\n",
      "[CV] END bootstrap=True, max_depth=90, max_features=3, min_samples_leaf=15, min_samples_split=10, n_estimators=1000; total time= 3.7min\n",
      "[CV] END bootstrap=True, max_depth=90, max_features=3, min_samples_leaf=15, min_samples_split=8, n_estimators=70; total time=  17.8s\n",
      "[CV] END bootstrap=True, max_depth=90, max_features=3, min_samples_leaf=15, min_samples_split=8, n_estimators=200; total time=  45.1s\n",
      "[CV] END bootstrap=True, max_depth=90, max_features=3, min_samples_leaf=15, min_samples_split=10, n_estimators=1000; total time= 3.8min\n",
      "[CV] END bootstrap=True, max_depth=90, max_features=3, min_samples_leaf=5, min_samples_split=12, n_estimators=200; total time=  48.6s\n",
      "[CV] END bootstrap=True, max_depth=90, max_features=3, min_samples_leaf=15, min_samples_split=10, n_estimators=100; total time=  22.7s\n",
      "[CV] END bootstrap=True, max_depth=90, max_features=3, min_samples_leaf=15, min_samples_split=12, n_estimators=70; total time=  15.4s\n",
      "[CV] END bootstrap=True, max_depth=90, max_features=3, min_samples_leaf=15, min_samples_split=12, n_estimators=100; total time=  21.7s\n",
      "[CV] END bootstrap=True, max_depth=90, max_features=3, min_samples_leaf=25, min_samples_split=8, n_estimators=100; total time=  20.6s\n",
      "[CV] END bootstrap=True, max_depth=90, max_features=3, min_samples_leaf=25, min_samples_split=8, n_estimators=300; total time= 1.1min\n",
      "[CV] END bootstrap=True, max_depth=90, max_features=3, min_samples_leaf=25, min_samples_split=12, n_estimators=100; total time=  21.5s\n",
      "[CV] END bootstrap=True, max_depth=100, max_features=2, min_samples_leaf=5, min_samples_split=8, n_estimators=70; total time=  14.4s\n",
      "[CV] END bootstrap=True, max_depth=100, max_features=2, min_samples_leaf=5, min_samples_split=8, n_estimators=100; total time=  21.8s\n",
      "[CV] END bootstrap=True, max_depth=100, max_features=2, min_samples_leaf=5, min_samples_split=10, n_estimators=70; total time=  14.9s\n",
      "[CV] END bootstrap=True, max_depth=100, max_features=2, min_samples_leaf=5, min_samples_split=10, n_estimators=200; total time=  43.1s\n",
      "[CV] END bootstrap=True, max_depth=90, max_features=3, min_samples_leaf=15, min_samples_split=8, n_estimators=300; total time= 1.2min\n",
      "[CV] END bootstrap=True, max_depth=90, max_features=3, min_samples_leaf=15, min_samples_split=12, n_estimators=1000; total time= 3.7min\n",
      "[CV] END bootstrap=True, max_depth=90, max_features=2, min_samples_leaf=25, min_samples_split=8, n_estimators=200; total time=  39.2s\n",
      "[CV] END bootstrap=True, max_depth=90, max_features=2, min_samples_leaf=25, min_samples_split=10, n_estimators=300; total time=  56.1s\n",
      "[CV] END bootstrap=True, max_depth=90, max_features=3, min_samples_leaf=5, min_samples_split=8, n_estimators=200; total time=  49.3s\n",
      "[CV] END bootstrap=True, max_depth=90, max_features=3, min_samples_leaf=5, min_samples_split=12, n_estimators=70; total time=  17.2s\n",
      "[CV] END bootstrap=True, max_depth=90, max_features=3, min_samples_leaf=5, min_samples_split=12, n_estimators=200; total time=  49.2s\n",
      "[CV] END bootstrap=True, max_depth=90, max_features=3, min_samples_leaf=15, min_samples_split=10, n_estimators=70; total time=  15.9s\n",
      "[CV] END bootstrap=True, max_depth=90, max_features=3, min_samples_leaf=15, min_samples_split=10, n_estimators=200; total time=  45.7s\n",
      "[CV] END bootstrap=True, max_depth=90, max_features=3, min_samples_leaf=15, min_samples_split=12, n_estimators=1000; total time= 3.7min\n"
     ]
    },
    {
     "name": "stdout",
     "output_type": "stream",
     "text": [
      "[CV] END bootstrap=True, max_depth=90, max_features=3, min_samples_leaf=5, min_samples_split=8, n_estimators=100; total time=  25.0s\n",
      "[CV] END bootstrap=True, max_depth=90, max_features=3, min_samples_leaf=5, min_samples_split=10, n_estimators=100; total time=  24.1s\n",
      "[CV] END bootstrap=True, max_depth=90, max_features=3, min_samples_leaf=5, min_samples_split=12, n_estimators=70; total time=  16.4s\n",
      "[CV] END bootstrap=True, max_depth=90, max_features=3, min_samples_leaf=5, min_samples_split=12, n_estimators=100; total time=  25.5s\n",
      "[CV] END bootstrap=True, max_depth=90, max_features=3, min_samples_leaf=15, min_samples_split=8, n_estimators=100; total time=  23.1s\n",
      "[CV] END bootstrap=True, max_depth=90, max_features=3, min_samples_leaf=15, min_samples_split=10, n_estimators=70; total time=  15.6s\n",
      "[CV] END bootstrap=True, max_depth=90, max_features=3, min_samples_leaf=15, min_samples_split=10, n_estimators=100; total time=  22.7s\n",
      "[CV] END bootstrap=True, max_depth=90, max_features=3, min_samples_leaf=15, min_samples_split=12, n_estimators=100; total time=  22.3s\n",
      "[CV] END bootstrap=True, max_depth=90, max_features=3, min_samples_leaf=15, min_samples_split=12, n_estimators=1000; total time= 3.8min\n",
      "[CV] END bootstrap=True, max_depth=90, max_features=3, min_samples_leaf=15, min_samples_split=12, n_estimators=300; total time= 1.1min\n",
      "[CV] END bootstrap=True, max_depth=90, max_features=3, min_samples_leaf=25, min_samples_split=10, n_estimators=200; total time=  45.2s\n",
      "[CV] END bootstrap=True, max_depth=90, max_features=3, min_samples_leaf=25, min_samples_split=12, n_estimators=300; total time= 1.1min\n",
      "[CV] END bootstrap=True, max_depth=100, max_features=2, min_samples_leaf=5, min_samples_split=10, n_estimators=300; total time= 1.1min\n",
      "[CV] END bootstrap=True, max_depth=90, max_features=3, min_samples_leaf=25, min_samples_split=12, n_estimators=300; total time= 1.1min\n",
      "[CV] END bootstrap=True, max_depth=100, max_features=2, min_samples_leaf=5, min_samples_split=10, n_estimators=300; total time= 1.1min\n",
      "[CV] END bootstrap=True, max_depth=100, max_features=2, min_samples_leaf=5, min_samples_split=8, n_estimators=200; total time=  43.8s\n",
      "[CV] END bootstrap=True, max_depth=100, max_features=2, min_samples_leaf=5, min_samples_split=10, n_estimators=300; total time= 1.1min\n",
      "[CV] END bootstrap=True, max_depth=90, max_features=3, min_samples_leaf=15, min_samples_split=12, n_estimators=70; total time=  15.7s\n",
      "[CV] END bootstrap=True, max_depth=90, max_features=3, min_samples_leaf=15, min_samples_split=12, n_estimators=200; total time=  42.4s\n",
      "[CV] END bootstrap=True, max_depth=90, max_features=3, min_samples_leaf=25, min_samples_split=8, n_estimators=1000; total time= 3.6min\n",
      "[CV] END bootstrap=True, max_depth=90, max_features=3, min_samples_leaf=15, min_samples_split=8, n_estimators=70; total time=  16.0s\n",
      "[CV] END bootstrap=True, max_depth=90, max_features=3, min_samples_leaf=15, min_samples_split=8, n_estimators=100; total time=  22.4s\n",
      "[CV] END bootstrap=True, max_depth=90, max_features=3, min_samples_leaf=15, min_samples_split=10, n_estimators=100; total time=  21.6s\n",
      "[CV] END bootstrap=True, max_depth=90, max_features=3, min_samples_leaf=15, min_samples_split=10, n_estimators=300; total time= 1.1min\n",
      "[CV] END bootstrap=True, max_depth=90, max_features=3, min_samples_leaf=25, min_samples_split=8, n_estimators=1000; total time= 3.7min\n",
      "[CV] END bootstrap=True, max_depth=90, max_features=3, min_samples_leaf=15, min_samples_split=12, n_estimators=200; total time=  44.4s\n",
      "[CV] END bootstrap=True, max_depth=90, max_features=3, min_samples_leaf=25, min_samples_split=8, n_estimators=1000; total time= 3.7min\n",
      "[CV] END bootstrap=True, max_depth=90, max_features=3, min_samples_leaf=5, min_samples_split=12, n_estimators=1000; total time= 4.0min\n",
      "[CV] END bootstrap=True, max_depth=100, max_features=2, min_samples_leaf=5, min_samples_split=8, n_estimators=300; total time= 1.0min\n",
      "[CV] END bootstrap=True, max_depth=100, max_features=2, min_samples_leaf=5, min_samples_split=12, n_estimators=300; total time= 1.0min\n",
      "[CV] END bootstrap=True, max_depth=100, max_features=2, min_samples_leaf=5, min_samples_split=12, n_estimators=100; total time=  22.6s\n",
      "[CV] END bootstrap=True, max_depth=100, max_features=2, min_samples_leaf=15, min_samples_split=8, n_estimators=70; total time=  12.7s\n",
      "[CV] END bootstrap=True, max_depth=100, max_features=2, min_samples_leaf=15, min_samples_split=8, n_estimators=200; total time=  38.7s\n",
      "[CV] END bootstrap=True, max_depth=100, max_features=2, min_samples_leaf=15, min_samples_split=10, n_estimators=300; total time=  57.1s\n",
      "[CV] END bootstrap=True, max_depth=90, max_features=3, min_samples_leaf=15, min_samples_split=8, n_estimators=100; total time=  21.9s\n",
      "[CV] END bootstrap=True, max_depth=90, max_features=3, min_samples_leaf=15, min_samples_split=8, n_estimators=300; total time= 1.1min\n",
      "[CV] END bootstrap=True, max_depth=90, max_features=3, min_samples_leaf=15, min_samples_split=12, n_estimators=300; total time= 1.1min\n",
      "[CV] END bootstrap=True, max_depth=90, max_features=3, min_samples_leaf=25, min_samples_split=10, n_estimators=200; total time=  42.7s\n",
      "[CV] END bootstrap=True, max_depth=90, max_features=3, min_samples_leaf=25, min_samples_split=12, n_estimators=200; total time=  44.1s\n",
      "[CV] END bootstrap=True, max_depth=100, max_features=2, min_samples_leaf=5, min_samples_split=8, n_estimators=1000; total time= 3.5min\n",
      "[CV] END bootstrap=True, max_depth=90, max_features=3, min_samples_leaf=15, min_samples_split=8, n_estimators=300; total time= 1.1min\n",
      "[CV] END bootstrap=True, max_depth=90, max_features=3, min_samples_leaf=25, min_samples_split=8, n_estimators=70; total time=  14.1s\n",
      "[CV] END bootstrap=True, max_depth=90, max_features=3, min_samples_leaf=25, min_samples_split=8, n_estimators=200; total time=  41.6s\n",
      "[CV] END bootstrap=True, max_depth=90, max_features=3, min_samples_leaf=25, min_samples_split=10, n_estimators=200; total time=  44.6s\n",
      "[CV] END bootstrap=True, max_depth=90, max_features=3, min_samples_leaf=25, min_samples_split=12, n_estimators=200; total time=  44.4s\n",
      "[CV] END bootstrap=True, max_depth=100, max_features=2, min_samples_leaf=5, min_samples_split=8, n_estimators=1000; total time= 3.5min\n",
      "[CV] END bootstrap=True, max_depth=100, max_features=2, min_samples_leaf=15, min_samples_split=10, n_estimators=70; total time=  12.3s\n",
      "[CV] END bootstrap=True, max_depth=100, max_features=2, min_samples_leaf=15, min_samples_split=10, n_estimators=200; total time=  37.6s\n",
      "[CV] END bootstrap=True, max_depth=100, max_features=2, min_samples_leaf=15, min_samples_split=12, n_estimators=300; total time=  58.1s\n",
      "[CV] END bootstrap=True, max_depth=100, max_features=2, min_samples_leaf=15, min_samples_split=10, n_estimators=70; total time=  12.6s\n",
      "[CV] END bootstrap=True, max_depth=100, max_features=2, min_samples_leaf=15, min_samples_split=10, n_estimators=200; total time=  37.6s\n",
      "[CV] END bootstrap=True, max_depth=100, max_features=2, min_samples_leaf=15, min_samples_split=12, n_estimators=300; total time=  57.9s\n",
      "[CV] END bootstrap=True, max_depth=100, max_features=2, min_samples_leaf=15, min_samples_split=8, n_estimators=100; total time=  20.3s\n",
      "[CV] END bootstrap=True, max_depth=100, max_features=2, min_samples_leaf=15, min_samples_split=8, n_estimators=300; total time=  57.0s\n",
      "[CV] END bootstrap=True, max_depth=100, max_features=2, min_samples_leaf=15, min_samples_split=12, n_estimators=300; total time=  58.5s\n",
      "[CV] END bootstrap=True, max_depth=90, max_features=2, min_samples_leaf=25, min_samples_split=12, n_estimators=1000; total time= 3.2min\n",
      "[CV] END bootstrap=True, max_depth=90, max_features=3, min_samples_leaf=15, min_samples_split=12, n_estimators=200; total time=  43.0s\n",
      "[CV] END bootstrap=True, max_depth=90, max_features=3, min_samples_leaf=25, min_samples_split=10, n_estimators=70; total time=  14.2s\n",
      "[CV] END bootstrap=True, max_depth=90, max_features=3, min_samples_leaf=25, min_samples_split=10, n_estimators=70; total time=  16.1s\n",
      "[CV] END bootstrap=True, max_depth=90, max_features=3, min_samples_leaf=25, min_samples_split=10, n_estimators=300; total time= 1.1min\n",
      "[CV] END bootstrap=True, max_depth=100, max_features=2, min_samples_leaf=5, min_samples_split=8, n_estimators=100; total time=  21.7s\n",
      "[CV] END bootstrap=True, max_depth=100, max_features=2, min_samples_leaf=5, min_samples_split=8, n_estimators=1000; total time= 3.5min\n"
     ]
    },
    {
     "name": "stdout",
     "output_type": "stream",
     "text": [
      "[CV] END bootstrap=True, max_depth=90, max_features=3, min_samples_leaf=15, min_samples_split=8, n_estimators=1000; total time= 3.8min\n",
      "[CV] END bootstrap=True, max_depth=100, max_features=2, min_samples_leaf=5, min_samples_split=10, n_estimators=100; total time=  21.3s\n",
      "[CV] END bootstrap=True, max_depth=100, max_features=2, min_samples_leaf=5, min_samples_split=10, n_estimators=1000; total time= 3.5min\n",
      "[CV] END bootstrap=True, max_depth=80, max_features=2, min_samples_leaf=25, min_samples_split=8, n_estimators=1000; total time= 3.2min\n",
      "[CV] END bootstrap=True, max_depth=80, max_features=3, min_samples_leaf=15, min_samples_split=8, n_estimators=100; total time=  21.9s\n",
      "[CV] END bootstrap=True, max_depth=80, max_features=3, min_samples_leaf=15, min_samples_split=8, n_estimators=300; total time= 1.1min\n",
      "[CV] END bootstrap=True, max_depth=80, max_features=3, min_samples_leaf=25, min_samples_split=8, n_estimators=70; total time=  14.5s\n",
      "[CV] END bootstrap=True, max_depth=80, max_features=3, min_samples_leaf=25, min_samples_split=8, n_estimators=200; total time=  41.2s\n",
      "[CV] END bootstrap=True, max_depth=80, max_features=3, min_samples_leaf=25, min_samples_split=10, n_estimators=100; total time=  22.2s\n",
      "[CV] END bootstrap=True, max_depth=80, max_features=3, min_samples_leaf=25, min_samples_split=10, n_estimators=1000; total time= 3.7min\n",
      "[CV] END bootstrap=True, max_depth=90, max_features=2, min_samples_leaf=15, min_samples_split=12, n_estimators=100; total time=  19.9s\n",
      "[CV] END bootstrap=True, max_depth=90, max_features=2, min_samples_leaf=25, min_samples_split=8, n_estimators=70; total time=  14.3s\n",
      "[CV] END bootstrap=True, max_depth=90, max_features=2, min_samples_leaf=25, min_samples_split=8, n_estimators=100; total time=  19.7s\n",
      "[CV] END bootstrap=True, max_depth=90, max_features=2, min_samples_leaf=25, min_samples_split=8, n_estimators=1000; total time= 3.1min\n",
      "[CV] END bootstrap=True, max_depth=90, max_features=3, min_samples_leaf=15, min_samples_split=8, n_estimators=1000; total time= 3.7min\n",
      "[CV] END bootstrap=True, max_depth=100, max_features=2, min_samples_leaf=5, min_samples_split=10, n_estimators=70; total time=  14.9s\n",
      "[CV] END bootstrap=True, max_depth=100, max_features=2, min_samples_leaf=5, min_samples_split=10, n_estimators=200; total time=  42.0s\n",
      "[CV] END bootstrap=True, max_depth=100, max_features=2, min_samples_leaf=5, min_samples_split=12, n_estimators=1000; total time= 3.5min\n",
      "[CV] END bootstrap=True, max_depth=90, max_features=3, min_samples_leaf=15, min_samples_split=10, n_estimators=200; total time=  46.8s\n",
      "[CV] END bootstrap=True, max_depth=90, max_features=3, min_samples_leaf=25, min_samples_split=8, n_estimators=100; total time=  21.9s\n",
      "[CV] END bootstrap=True, max_depth=90, max_features=3, min_samples_leaf=25, min_samples_split=8, n_estimators=300; total time= 1.1min\n",
      "[CV] END bootstrap=True, max_depth=90, max_features=3, min_samples_leaf=25, min_samples_split=12, n_estimators=70; total time=  15.3s\n",
      "[CV] END bootstrap=True, max_depth=90, max_features=3, min_samples_leaf=25, min_samples_split=12, n_estimators=300; total time= 1.1min\n",
      "[CV] END bootstrap=True, max_depth=100, max_features=2, min_samples_leaf=5, min_samples_split=10, n_estimators=200; total time=  42.0s\n",
      "[CV] END bootstrap=True, max_depth=100, max_features=2, min_samples_leaf=5, min_samples_split=12, n_estimators=1000; total time= 3.6min\n",
      "[CV] END bootstrap=True, max_depth=100, max_features=2, min_samples_leaf=5, min_samples_split=12, n_estimators=100; total time=  22.2s\n",
      "[CV] END bootstrap=True, max_depth=100, max_features=2, min_samples_leaf=5, min_samples_split=12, n_estimators=1000; total time= 3.6min\n",
      "[CV] END bootstrap=True, max_depth=80, max_features=3, min_samples_leaf=15, min_samples_split=12, n_estimators=1000; total time= 3.8min\n",
      "[CV] END bootstrap=True, max_depth=90, max_features=2, min_samples_leaf=15, min_samples_split=8, n_estimators=100; total time=  20.0s\n",
      "[CV] END bootstrap=True, max_depth=90, max_features=2, min_samples_leaf=15, min_samples_split=8, n_estimators=300; total time=  58.1s\n",
      "[CV] END bootstrap=True, max_depth=90, max_features=2, min_samples_leaf=15, min_samples_split=12, n_estimators=200; total time=  39.2s\n",
      "[CV] END bootstrap=True, max_depth=90, max_features=2, min_samples_leaf=25, min_samples_split=8, n_estimators=1000; total time= 3.1min\n",
      "[CV] END bootstrap=True, max_depth=90, max_features=3, min_samples_leaf=15, min_samples_split=8, n_estimators=200; total time=  46.9s\n",
      "[CV] END bootstrap=True, max_depth=90, max_features=3, min_samples_leaf=15, min_samples_split=10, n_estimators=1000; total time= 3.7min\n",
      "[CV] END bootstrap=True, max_depth=100, max_features=2, min_samples_leaf=5, min_samples_split=12, n_estimators=70; total time=  14.2s\n",
      "[CV] END bootstrap=True, max_depth=100, max_features=2, min_samples_leaf=5, min_samples_split=12, n_estimators=200; total time=  42.0s\n",
      "[CV] END bootstrap=True, max_depth=100, max_features=2, min_samples_leaf=15, min_samples_split=8, n_estimators=1000; total time= 3.2min\n",
      "[CV] END bootstrap=True, max_depth=90, max_features=3, min_samples_leaf=15, min_samples_split=10, n_estimators=200; total time=  44.4s\n",
      "[CV] END bootstrap=True, max_depth=90, max_features=3, min_samples_leaf=25, min_samples_split=8, n_estimators=70; total time=  13.9s\n",
      "[CV] END bootstrap=True, max_depth=90, max_features=3, min_samples_leaf=25, min_samples_split=8, n_estimators=200; total time=  41.6s\n",
      "[CV] END bootstrap=True, max_depth=90, max_features=3, min_samples_leaf=25, min_samples_split=10, n_estimators=100; total time=  21.3s\n",
      "[CV] END bootstrap=True, max_depth=90, max_features=3, min_samples_leaf=25, min_samples_split=12, n_estimators=70; total time=  15.8s\n",
      "[CV] END bootstrap=True, max_depth=90, max_features=3, min_samples_leaf=25, min_samples_split=12, n_estimators=100; total time=  21.3s\n",
      "[CV] END bootstrap=True, max_depth=100, max_features=2, min_samples_leaf=5, min_samples_split=8, n_estimators=70; total time=  14.9s\n",
      "[CV] END bootstrap=True, max_depth=100, max_features=2, min_samples_leaf=5, min_samples_split=8, n_estimators=100; total time=  22.4s\n",
      "[CV] END bootstrap=True, max_depth=100, max_features=2, min_samples_leaf=5, min_samples_split=10, n_estimators=70; total time=  14.0s\n",
      "[CV] END bootstrap=True, max_depth=100, max_features=2, min_samples_leaf=5, min_samples_split=10, n_estimators=100; total time=  21.9s\n",
      "[CV] END bootstrap=True, max_depth=100, max_features=2, min_samples_leaf=5, min_samples_split=12, n_estimators=70; total time=  14.7s\n",
      "[CV] END bootstrap=True, max_depth=100, max_features=2, min_samples_leaf=5, min_samples_split=12, n_estimators=200; total time=  43.4s\n",
      "[CV] END bootstrap=True, max_depth=100, max_features=2, min_samples_leaf=15, min_samples_split=8, n_estimators=1000; total time= 3.3min\n",
      "[CV] END bootstrap=True, max_depth=100, max_features=2, min_samples_leaf=5, min_samples_split=12, n_estimators=300; total time= 1.0min\n",
      "[CV] END bootstrap=True, max_depth=100, max_features=2, min_samples_leaf=15, min_samples_split=10, n_estimators=1000; total time= 3.2min\n",
      "[CV] END bootstrap=True, max_depth=100, max_features=2, min_samples_leaf=15, min_samples_split=8, n_estimators=70; total time=  13.9s\n",
      "[CV] END bootstrap=True, max_depth=100, max_features=2, min_samples_leaf=15, min_samples_split=8, n_estimators=200; total time=  37.1s\n",
      "[CV] END bootstrap=True, max_depth=100, max_features=2, min_samples_leaf=15, min_samples_split=10, n_estimators=1000; total time= 3.2min\n",
      "[CV] END bootstrap=True, max_depth=100, max_features=2, min_samples_leaf=15, min_samples_split=10, n_estimators=100; total time=  18.4s\n",
      "[CV] END bootstrap=True, max_depth=100, max_features=2, min_samples_leaf=15, min_samples_split=10, n_estimators=1000; total time= 3.3min\n",
      "[CV] END bootstrap=True, max_depth=100, max_features=2, min_samples_leaf=15, min_samples_split=8, n_estimators=200; total time=  39.7s\n",
      "[CV] END bootstrap=True, max_depth=100, max_features=2, min_samples_leaf=15, min_samples_split=12, n_estimators=70; total time=  14.3s\n",
      "[CV] END bootstrap=True, max_depth=100, max_features=2, min_samples_leaf=15, min_samples_split=12, n_estimators=70; total time=  13.2s\n",
      "[CV] END bootstrap=True, max_depth=100, max_features=2, min_samples_leaf=15, min_samples_split=12, n_estimators=1000; total time= 3.2min\n"
     ]
    },
    {
     "name": "stdout",
     "output_type": "stream",
     "text": [
      "[CV] END bootstrap=True, max_depth=90, max_features=2, min_samples_leaf=15, min_samples_split=10, n_estimators=1000; total time= 3.3min\n",
      "[CV] END bootstrap=True, max_depth=90, max_features=3, min_samples_leaf=5, min_samples_split=10, n_estimators=300; total time= 1.2min\n",
      "[CV] END bootstrap=True, max_depth=90, max_features=3, min_samples_leaf=15, min_samples_split=8, n_estimators=1000; total time= 3.8min\n",
      "[CV] END bootstrap=True, max_depth=100, max_features=2, min_samples_leaf=5, min_samples_split=10, n_estimators=100; total time=  21.3s\n",
      "[CV] END bootstrap=True, max_depth=100, max_features=2, min_samples_leaf=5, min_samples_split=12, n_estimators=70; total time=  14.2s\n",
      "[CV] END bootstrap=True, max_depth=100, max_features=2, min_samples_leaf=5, min_samples_split=12, n_estimators=100; total time=  21.7s\n",
      "[CV] END bootstrap=True, max_depth=100, max_features=2, min_samples_leaf=15, min_samples_split=8, n_estimators=70; total time=  12.7s\n",
      "[CV] END bootstrap=True, max_depth=100, max_features=2, min_samples_leaf=15, min_samples_split=8, n_estimators=100; total time=  19.9s\n",
      "[CV] END bootstrap=True, max_depth=100, max_features=2, min_samples_leaf=15, min_samples_split=10, n_estimators=100; total time=  19.0s\n",
      "[CV] END bootstrap=True, max_depth=100, max_features=2, min_samples_leaf=15, min_samples_split=10, n_estimators=200; total time=  39.2s\n",
      "[CV] END bootstrap=True, max_depth=100, max_features=2, min_samples_leaf=15, min_samples_split=12, n_estimators=1000; total time= 3.2min\n",
      "[CV] END bootstrap=True, max_depth=100, max_features=2, min_samples_leaf=25, min_samples_split=12, n_estimators=100; total time=  19.3s\n",
      "[CV] END bootstrap=True, max_depth=100, max_features=3, min_samples_leaf=5, min_samples_split=8, n_estimators=70; total time=  18.6s\n",
      "[CV] END bootstrap=True, max_depth=100, max_features=3, min_samples_leaf=5, min_samples_split=8, n_estimators=300; total time= 1.2min\n",
      "[CV] END bootstrap=True, max_depth=100, max_features=2, min_samples_leaf=25, min_samples_split=10, n_estimators=100; total time=  18.8s\n",
      "[CV] END bootstrap=True, max_depth=100, max_features=2, min_samples_leaf=25, min_samples_split=12, n_estimators=70; total time=  13.5s\n",
      "[CV] END bootstrap=True, max_depth=100, max_features=2, min_samples_leaf=25, min_samples_split=12, n_estimators=200; total time=  37.9s\n",
      "[CV] END bootstrap=True, max_depth=100, max_features=3, min_samples_leaf=5, min_samples_split=8, n_estimators=300; total time= 1.2min\n",
      "[CV] END bootstrap=True, max_depth=100, max_features=2, min_samples_leaf=25, min_samples_split=10, n_estimators=100; total time=  17.6s\n",
      "[CV] END bootstrap=True, max_depth=100, max_features=2, min_samples_leaf=25, min_samples_split=12, n_estimators=70; total time=  13.7s\n",
      "[CV] END bootstrap=True, max_depth=100, max_features=2, min_samples_leaf=25, min_samples_split=12, n_estimators=200; total time=  39.1s\n",
      "[CV] END bootstrap=True, max_depth=100, max_features=3, min_samples_leaf=5, min_samples_split=8, n_estimators=300; total time= 1.2min\n",
      "[CV] END bootstrap=True, max_depth=90, max_features=3, min_samples_leaf=25, min_samples_split=10, n_estimators=1000; total time= 3.7min\n",
      "[CV] END bootstrap=True, max_depth=100, max_features=2, min_samples_leaf=15, min_samples_split=12, n_estimators=100; total time=  18.4s\n",
      "[CV] END bootstrap=True, max_depth=100, max_features=2, min_samples_leaf=15, min_samples_split=12, n_estimators=1000; total time= 3.2min\n",
      "[CV] END bootstrap=True, max_depth=100, max_features=3, min_samples_leaf=5, min_samples_split=10, n_estimators=70; total time=  17.4s\n",
      "[CV] END bootstrap=True, max_depth=100, max_features=3, min_samples_leaf=5, min_samples_split=10, n_estimators=200; total time=  49.2s\n",
      "[CV] END bootstrap=True, max_depth=90, max_features=3, min_samples_leaf=5, min_samples_split=8, n_estimators=1000; total time= 4.0min\n",
      "[CV] END bootstrap=True, max_depth=90, max_features=3, min_samples_leaf=25, min_samples_split=10, n_estimators=1000; total time= 3.7min\n",
      "[CV] END bootstrap=True, max_depth=100, max_features=2, min_samples_leaf=15, min_samples_split=12, n_estimators=100; total time=  19.3s\n",
      "[CV] END bootstrap=True, max_depth=100, max_features=2, min_samples_leaf=25, min_samples_split=8, n_estimators=70; total time=  12.9s\n",
      "[CV] END bootstrap=True, max_depth=100, max_features=2, min_samples_leaf=25, min_samples_split=8, n_estimators=70; total time=  12.7s\n",
      "[CV] END bootstrap=True, max_depth=100, max_features=2, min_samples_leaf=25, min_samples_split=8, n_estimators=1000; total time= 3.0min\n",
      "[CV] END bootstrap=True, max_depth=100, max_features=2, min_samples_leaf=15, min_samples_split=8, n_estimators=100; total time=  20.0s\n",
      "[CV] END bootstrap=True, max_depth=100, max_features=2, min_samples_leaf=15, min_samples_split=8, n_estimators=300; total time=  56.5s\n",
      "[CV] END bootstrap=True, max_depth=100, max_features=2, min_samples_leaf=15, min_samples_split=12, n_estimators=200; total time=  38.3s\n",
      "[CV] END bootstrap=True, max_depth=100, max_features=2, min_samples_leaf=25, min_samples_split=8, n_estimators=1000; total time= 3.1min\n",
      "[CV] END bootstrap=True, max_depth=100, max_features=2, min_samples_leaf=15, min_samples_split=10, n_estimators=300; total time=  59.7s\n",
      "[CV] END bootstrap=True, max_depth=100, max_features=2, min_samples_leaf=25, min_samples_split=8, n_estimators=200; total time=  37.1s\n",
      "[CV] END bootstrap=True, max_depth=100, max_features=2, min_samples_leaf=25, min_samples_split=10, n_estimators=300; total time=  55.9s\n",
      "[CV] END bootstrap=True, max_depth=100, max_features=3, min_samples_leaf=5, min_samples_split=8, n_estimators=100; total time=  24.2s\n",
      "[CV] END bootstrap=True, max_depth=100, max_features=3, min_samples_leaf=5, min_samples_split=10, n_estimators=70; total time=  17.7s\n",
      "[CV] END bootstrap=True, max_depth=100, max_features=3, min_samples_leaf=5, min_samples_split=10, n_estimators=300; total time= 1.2min\n",
      "[CV] END bootstrap=True, max_depth=100, max_features=2, min_samples_leaf=25, min_samples_split=10, n_estimators=70; total time=  13.1s\n",
      "[CV] END bootstrap=True, max_depth=100, max_features=2, min_samples_leaf=25, min_samples_split=10, n_estimators=1000; total time= 3.1min\n",
      "[CV] END bootstrap=True, max_depth=100, max_features=2, min_samples_leaf=25, min_samples_split=10, n_estimators=100; total time=  17.8s\n",
      "[CV] END bootstrap=True, max_depth=100, max_features=2, min_samples_leaf=25, min_samples_split=10, n_estimators=1000; total time= 3.1min\n",
      "[CV] END bootstrap=True, max_depth=100, max_features=3, min_samples_leaf=5, min_samples_split=8, n_estimators=200; total time=  48.6s\n",
      "[CV] END bootstrap=True, max_depth=100, max_features=3, min_samples_leaf=5, min_samples_split=12, n_estimators=100; total time=  24.3s\n",
      "[CV] END bootstrap=True, max_depth=100, max_features=3, min_samples_leaf=5, min_samples_split=12, n_estimators=300; total time= 1.2min\n",
      "[CV] END bootstrap=True, max_depth=100, max_features=2, min_samples_leaf=5, min_samples_split=10, n_estimators=1000; total time= 3.6min\n",
      "[CV] END bootstrap=True, max_depth=100, max_features=2, min_samples_leaf=25, min_samples_split=12, n_estimators=1000; total time= 3.2min\n",
      "[CV] END bootstrap=True, max_depth=100, max_features=2, min_samples_leaf=25, min_samples_split=8, n_estimators=100; total time=  19.1s\n",
      "[CV] END bootstrap=True, max_depth=100, max_features=2, min_samples_leaf=25, min_samples_split=10, n_estimators=70; total time=  12.9s\n",
      "[CV] END bootstrap=True, max_depth=100, max_features=2, min_samples_leaf=25, min_samples_split=10, n_estimators=200; total time=  36.2s\n",
      "[CV] END bootstrap=True, max_depth=100, max_features=2, min_samples_leaf=25, min_samples_split=12, n_estimators=200; total time=  38.0s\n",
      "[CV] END bootstrap=True, max_depth=100, max_features=3, min_samples_leaf=5, min_samples_split=8, n_estimators=1000; total time= 4.0min\n",
      "[CV] END bootstrap=True, max_depth=100, max_features=2, min_samples_leaf=25, min_samples_split=10, n_estimators=300; total time=  57.5s\n",
      "[CV] END bootstrap=True, max_depth=100, max_features=3, min_samples_leaf=5, min_samples_split=8, n_estimators=70; total time=  17.6s\n",
      "[CV] END bootstrap=True, max_depth=100, max_features=3, min_samples_leaf=5, min_samples_split=8, n_estimators=1000; total time= 4.0min\n",
      "[CV] END bootstrap=True, max_depth=90, max_features=3, min_samples_leaf=5, min_samples_split=10, n_estimators=1000; total time= 4.0min\n",
      "[CV] END bootstrap=True, max_depth=90, max_features=3, min_samples_leaf=25, min_samples_split=12, n_estimators=1000; total time= 3.7min\n",
      "[CV] END bootstrap=True, max_depth=100, max_features=2, min_samples_leaf=25, min_samples_split=8, n_estimators=200; total time=  36.3s\n",
      "[CV] END bootstrap=True, max_depth=100, max_features=2, min_samples_leaf=25, min_samples_split=10, n_estimators=300; total time=  56.1s\n",
      "[CV] END bootstrap=True, max_depth=100, max_features=3, min_samples_leaf=5, min_samples_split=8, n_estimators=100; total time=  24.9s\n",
      "[CV] END bootstrap=True, max_depth=100, max_features=3, min_samples_leaf=5, min_samples_split=10, n_estimators=100; total time=  24.5s\n",
      "[CV] END bootstrap=True, max_depth=100, max_features=3, min_samples_leaf=5, min_samples_split=10, n_estimators=1000; total time= 4.0min\n"
     ]
    },
    {
     "name": "stdout",
     "output_type": "stream",
     "text": [
      "[CV] END bootstrap=True, max_depth=100, max_features=2, min_samples_leaf=5, min_samples_split=10, n_estimators=1000; total time= 3.6min\n",
      "[CV] END bootstrap=True, max_depth=100, max_features=2, min_samples_leaf=25, min_samples_split=12, n_estimators=300; total time=  57.9s\n",
      "[CV] END bootstrap=True, max_depth=100, max_features=3, min_samples_leaf=5, min_samples_split=10, n_estimators=200; total time=  48.4s\n",
      "[CV] END bootstrap=True, max_depth=100, max_features=3, min_samples_leaf=5, min_samples_split=12, n_estimators=1000; total time= 3.9min\n",
      "[CV] END bootstrap=True, max_depth=100, max_features=3, min_samples_leaf=5, min_samples_split=8, n_estimators=100; total time=  24.8s\n",
      "[CV] END bootstrap=True, max_depth=100, max_features=3, min_samples_leaf=5, min_samples_split=10, n_estimators=100; total time=  23.7s\n",
      "[CV] END bootstrap=True, max_depth=100, max_features=3, min_samples_leaf=5, min_samples_split=12, n_estimators=70; total time=  15.9s\n",
      "[CV] END bootstrap=True, max_depth=100, max_features=3, min_samples_leaf=5, min_samples_split=12, n_estimators=100; total time=  24.6s\n",
      "[CV] END bootstrap=True, max_depth=100, max_features=3, min_samples_leaf=15, min_samples_split=8, n_estimators=100; total time=  21.8s\n",
      "[CV] END bootstrap=True, max_depth=100, max_features=3, min_samples_leaf=15, min_samples_split=8, n_estimators=1000; total time= 3.7min\n",
      "[CV] END bootstrap=True, max_depth=100, max_features=3, min_samples_leaf=15, min_samples_split=8, n_estimators=100; total time=  23.1s\n",
      "[CV] END bootstrap=True, max_depth=100, max_features=3, min_samples_leaf=15, min_samples_split=8, n_estimators=1000; total time= 3.8min\n",
      "[CV] END bootstrap=True, max_depth=100, max_features=3, min_samples_leaf=5, min_samples_split=10, n_estimators=300; total time= 1.2min\n",
      "[CV] END bootstrap=True, max_depth=100, max_features=3, min_samples_leaf=15, min_samples_split=10, n_estimators=70; total time=  15.4s\n",
      "[CV] END bootstrap=True, max_depth=100, max_features=3, min_samples_leaf=15, min_samples_split=10, n_estimators=200; total time=  44.9s\n",
      "[CV] END bootstrap=True, max_depth=100, max_features=3, min_samples_leaf=25, min_samples_split=8, n_estimators=70; total time=  13.9s\n",
      "[CV] END bootstrap=True, max_depth=100, max_features=3, min_samples_leaf=25, min_samples_split=8, n_estimators=100; total time=  20.8s\n",
      "[CV] END bootstrap=True, max_depth=100, max_features=3, min_samples_leaf=25, min_samples_split=10, n_estimators=70; total time=  14.7s\n",
      "[CV] END bootstrap=True, max_depth=100, max_features=3, min_samples_leaf=25, min_samples_split=10, n_estimators=100; total time=  22.9s\n",
      "[CV] END bootstrap=True, max_depth=100, max_features=3, min_samples_leaf=25, min_samples_split=10, n_estimators=300; total time= 1.1min\n",
      "[CV] END bootstrap=True, max_depth=110, max_features=2, min_samples_leaf=5, min_samples_split=8, n_estimators=200; total time=  42.3s\n",
      "[CV] END bootstrap=True, max_depth=100, max_features=3, min_samples_leaf=15, min_samples_split=8, n_estimators=70; total time=  15.5s\n",
      "[CV] END bootstrap=True, max_depth=100, max_features=3, min_samples_leaf=15, min_samples_split=8, n_estimators=200; total time=  43.7s\n",
      "[CV] END bootstrap=True, max_depth=100, max_features=3, min_samples_leaf=15, min_samples_split=10, n_estimators=1000; total time= 3.7min\n",
      "[CV] END bootstrap=True, max_depth=100, max_features=3, min_samples_leaf=15, min_samples_split=8, n_estimators=70; total time=  16.0s\n",
      "[CV] END bootstrap=True, max_depth=100, max_features=3, min_samples_leaf=15, min_samples_split=8, n_estimators=200; total time=  43.9s\n",
      "[CV] END bootstrap=True, max_depth=100, max_features=3, min_samples_leaf=15, min_samples_split=10, n_estimators=1000; total time= 3.8min\n",
      "[CV] END bootstrap=True, max_depth=100, max_features=3, min_samples_leaf=15, min_samples_split=8, n_estimators=200; total time=  45.5s\n",
      "[CV] END bootstrap=True, max_depth=100, max_features=3, min_samples_leaf=15, min_samples_split=10, n_estimators=1000; total time= 3.8min\n",
      "[CV] END bootstrap=True, max_depth=100, max_features=3, min_samples_leaf=5, min_samples_split=12, n_estimators=300; total time= 1.3min\n",
      "[CV] END bootstrap=True, max_depth=100, max_features=3, min_samples_leaf=15, min_samples_split=12, n_estimators=100; total time=  22.1s\n",
      "[CV] END bootstrap=True, max_depth=100, max_features=3, min_samples_leaf=25, min_samples_split=8, n_estimators=70; total time=  14.0s\n",
      "[CV] END bootstrap=True, max_depth=100, max_features=3, min_samples_leaf=25, min_samples_split=8, n_estimators=200; total time=  42.3s\n",
      "[CV] END bootstrap=True, max_depth=100, max_features=3, min_samples_leaf=25, min_samples_split=10, n_estimators=200; total time=  44.2s\n",
      "[CV] END bootstrap=True, max_depth=100, max_features=3, min_samples_leaf=25, min_samples_split=12, n_estimators=200; total time=  43.7s\n",
      "[CV] END bootstrap=True, max_depth=110, max_features=2, min_samples_leaf=5, min_samples_split=8, n_estimators=300; total time= 1.1min\n",
      "[CV] END bootstrap=True, max_depth=100, max_features=3, min_samples_leaf=5, min_samples_split=8, n_estimators=200; total time=  49.1s\n",
      "[CV] END bootstrap=True, max_depth=100, max_features=3, min_samples_leaf=5, min_samples_split=12, n_estimators=70; total time=  16.7s\n",
      "[CV] END bootstrap=True, max_depth=100, max_features=3, min_samples_leaf=5, min_samples_split=12, n_estimators=200; total time=  49.5s\n",
      "[CV] END bootstrap=True, max_depth=100, max_features=3, min_samples_leaf=15, min_samples_split=10, n_estimators=70; total time=  15.4s\n",
      "[CV] END bootstrap=True, max_depth=100, max_features=3, min_samples_leaf=15, min_samples_split=10, n_estimators=200; total time=  46.1s\n",
      "[CV] END bootstrap=True, max_depth=100, max_features=3, min_samples_leaf=25, min_samples_split=8, n_estimators=70; total time=  14.2s\n",
      "[CV] END bootstrap=True, max_depth=100, max_features=3, min_samples_leaf=25, min_samples_split=8, n_estimators=200; total time=  42.6s\n",
      "[CV] END bootstrap=True, max_depth=100, max_features=3, min_samples_leaf=25, min_samples_split=10, n_estimators=200; total time=  43.8s\n",
      "[CV] END bootstrap=True, max_depth=100, max_features=3, min_samples_leaf=25, min_samples_split=12, n_estimators=200; total time=  44.4s\n",
      "[CV] END bootstrap=True, max_depth=110, max_features=2, min_samples_leaf=5, min_samples_split=8, n_estimators=300; total time= 1.1min\n",
      "[CV] END bootstrap=True, max_depth=100, max_features=3, min_samples_leaf=15, min_samples_split=8, n_estimators=300; total time= 1.2min\n",
      "[CV] END bootstrap=True, max_depth=100, max_features=3, min_samples_leaf=15, min_samples_split=12, n_estimators=300; total time= 1.1min\n",
      "[CV] END bootstrap=True, max_depth=100, max_features=3, min_samples_leaf=25, min_samples_split=10, n_estimators=200; total time=  44.5s\n",
      "[CV] END bootstrap=True, max_depth=100, max_features=3, min_samples_leaf=25, min_samples_split=12, n_estimators=300; total time= 1.1min\n",
      "[CV] END bootstrap=True, max_depth=110, max_features=2, min_samples_leaf=5, min_samples_split=10, n_estimators=200; total time=  44.1s\n",
      "[CV] END bootstrap=True, max_depth=100, max_features=2, min_samples_leaf=15, min_samples_split=8, n_estimators=300; total time=  58.6s\n",
      "[CV] END bootstrap=True, max_depth=100, max_features=2, min_samples_leaf=15, min_samples_split=12, n_estimators=200; total time=  39.1s\n",
      "[CV] END bootstrap=True, max_depth=100, max_features=2, min_samples_leaf=25, min_samples_split=8, n_estimators=300; total time=  53.9s\n",
      "[CV] END bootstrap=True, max_depth=100, max_features=2, min_samples_leaf=25, min_samples_split=12, n_estimators=100; total time=  18.3s\n",
      "[CV] END bootstrap=True, max_depth=100, max_features=3, min_samples_leaf=5, min_samples_split=8, n_estimators=70; total time=  18.2s\n",
      "[CV] END bootstrap=True, max_depth=100, max_features=3, min_samples_leaf=5, min_samples_split=8, n_estimators=200; total time=  47.4s\n",
      "[CV] END bootstrap=True, max_depth=100, max_features=3, min_samples_leaf=5, min_samples_split=12, n_estimators=70; total time=  16.3s\n",
      "[CV] END bootstrap=True, max_depth=100, max_features=3, min_samples_leaf=5, min_samples_split=12, n_estimators=200; total time=  49.0s\n",
      "[CV] END bootstrap=True, max_depth=100, max_features=3, min_samples_leaf=15, min_samples_split=10, n_estimators=70; total time=  16.0s\n",
      "[CV] END bootstrap=True, max_depth=100, max_features=3, min_samples_leaf=15, min_samples_split=10, n_estimators=100; total time=  23.6s\n",
      "[CV] END bootstrap=True, max_depth=100, max_features=3, min_samples_leaf=15, min_samples_split=12, n_estimators=100; total time=  22.9s\n",
      "[CV] END bootstrap=True, max_depth=100, max_features=3, min_samples_leaf=15, min_samples_split=12, n_estimators=1000; total time= 3.8min\n"
     ]
    },
    {
     "name": "stdout",
     "output_type": "stream",
     "text": [
      "[CV] END bootstrap=True, max_depth=110, max_features=2, min_samples_leaf=5, min_samples_split=10, n_estimators=70; total time=  14.6s\n",
      "[CV] END bootstrap=True, max_depth=110, max_features=2, min_samples_leaf=5, min_samples_split=10, n_estimators=300; total time= 1.1min\n",
      "[CV] END bootstrap=True, max_depth=100, max_features=3, min_samples_leaf=25, min_samples_split=12, n_estimators=300; total time= 1.1min\n",
      "[CV] END bootstrap=True, max_depth=110, max_features=2, min_samples_leaf=5, min_samples_split=10, n_estimators=300; total time= 1.0min\n",
      "[CV] END bootstrap=True, max_depth=110, max_features=2, min_samples_leaf=5, min_samples_split=8, n_estimators=200; total time=  44.5s\n",
      "[CV] END bootstrap=True, max_depth=110, max_features=2, min_samples_leaf=5, min_samples_split=10, n_estimators=300; total time= 1.1min\n",
      "[CV] END bootstrap=True, max_depth=110, max_features=2, min_samples_leaf=5, min_samples_split=12, n_estimators=70; total time=  14.4s\n",
      "[CV] END bootstrap=True, max_depth=110, max_features=2, min_samples_leaf=5, min_samples_split=12, n_estimators=200; total time=  42.8s\n",
      "[CV] END bootstrap=True, max_depth=100, max_features=3, min_samples_leaf=5, min_samples_split=12, n_estimators=200; total time=  48.4s\n",
      "[CV] END bootstrap=True, max_depth=100, max_features=3, min_samples_leaf=15, min_samples_split=10, n_estimators=100; total time=  22.0s\n",
      "[CV] END bootstrap=True, max_depth=100, max_features=3, min_samples_leaf=15, min_samples_split=12, n_estimators=70; total time=  16.1s\n",
      "[CV] END bootstrap=True, max_depth=100, max_features=3, min_samples_leaf=15, min_samples_split=12, n_estimators=200; total time=  43.5s\n",
      "[CV] END bootstrap=True, max_depth=100, max_features=3, min_samples_leaf=25, min_samples_split=8, n_estimators=1000; total time= 3.7min\n",
      "[CV] END bootstrap=True, max_depth=100, max_features=3, min_samples_leaf=15, min_samples_split=10, n_estimators=300; total time= 1.1min\n",
      "[CV] END bootstrap=True, max_depth=100, max_features=3, min_samples_leaf=25, min_samples_split=8, n_estimators=1000; total time= 3.7min\n",
      "[CV] END bootstrap=True, max_depth=100, max_features=2, min_samples_leaf=25, min_samples_split=10, n_estimators=200; total time=  37.0s\n",
      "[CV] END bootstrap=True, max_depth=100, max_features=2, min_samples_leaf=25, min_samples_split=12, n_estimators=300; total time=  56.0s\n",
      "[CV] END bootstrap=True, max_depth=100, max_features=3, min_samples_leaf=5, min_samples_split=10, n_estimators=100; total time=  24.8s\n",
      "[CV] END bootstrap=True, max_depth=100, max_features=3, min_samples_leaf=5, min_samples_split=12, n_estimators=100; total time=  24.7s\n",
      "[CV] END bootstrap=True, max_depth=100, max_features=3, min_samples_leaf=5, min_samples_split=12, n_estimators=300; total time= 1.2min\n",
      "[CV] END bootstrap=True, max_depth=100, max_features=3, min_samples_leaf=15, min_samples_split=12, n_estimators=70; total time=  15.6s\n",
      "[CV] END bootstrap=True, max_depth=100, max_features=3, min_samples_leaf=15, min_samples_split=12, n_estimators=200; total time=  43.0s\n",
      "[CV] END bootstrap=True, max_depth=100, max_features=3, min_samples_leaf=25, min_samples_split=8, n_estimators=1000; total time= 3.7min\n",
      "[CV] END bootstrap=True, max_depth=110, max_features=2, min_samples_leaf=15, min_samples_split=10, n_estimators=100; total time=  19.8s\n",
      "[CV] END bootstrap=True, max_depth=110, max_features=2, min_samples_leaf=15, min_samples_split=10, n_estimators=300; total time=  57.3s\n",
      "[CV] END bootstrap=True, max_depth=110, max_features=2, min_samples_leaf=15, min_samples_split=10, n_estimators=100; total time=  18.5s\n",
      "[CV] END bootstrap=True, max_depth=110, max_features=2, min_samples_leaf=15, min_samples_split=10, n_estimators=300; total time=  59.5s\n",
      "[CV] END bootstrap=True, max_depth=100, max_features=3, min_samples_leaf=15, min_samples_split=12, n_estimators=70; total time=  15.8s\n",
      "[CV] END bootstrap=True, max_depth=100, max_features=3, min_samples_leaf=15, min_samples_split=12, n_estimators=300; total time= 1.1min\n",
      "[CV] END bootstrap=True, max_depth=100, max_features=3, min_samples_leaf=25, min_samples_split=10, n_estimators=100; total time=  21.8s\n",
      "[CV] END bootstrap=True, max_depth=100, max_features=3, min_samples_leaf=25, min_samples_split=12, n_estimators=70; total time=  14.6s\n",
      "[CV] END bootstrap=True, max_depth=100, max_features=3, min_samples_leaf=25, min_samples_split=12, n_estimators=100; total time=  21.4s\n",
      "[CV] END bootstrap=True, max_depth=100, max_features=3, min_samples_leaf=25, min_samples_split=12, n_estimators=1000; total time= 3.7min\n",
      "[CV] END bootstrap=True, max_depth=100, max_features=3, min_samples_leaf=5, min_samples_split=12, n_estimators=1000; total time= 4.1min\n",
      "[CV] END bootstrap=True, max_depth=110, max_features=2, min_samples_leaf=5, min_samples_split=8, n_estimators=1000; total time= 3.5min\n",
      "[CV] END bootstrap=True, max_depth=100, max_features=3, min_samples_leaf=5, min_samples_split=12, n_estimators=1000; total time= 4.0min\n",
      "[CV] END bootstrap=True, max_depth=110, max_features=2, min_samples_leaf=5, min_samples_split=8, n_estimators=1000; total time= 3.6min\n",
      "[CV] END bootstrap=True, max_depth=110, max_features=2, min_samples_leaf=15, min_samples_split=10, n_estimators=70; total time=  12.6s\n",
      "[CV] END bootstrap=True, max_depth=110, max_features=2, min_samples_leaf=15, min_samples_split=10, n_estimators=200; total time=  39.1s\n",
      "[CV] END bootstrap=True, max_depth=110, max_features=2, min_samples_leaf=15, min_samples_split=12, n_estimators=300; total time=  58.4s\n",
      "[CV] END bootstrap=True, max_depth=100, max_features=3, min_samples_leaf=15, min_samples_split=12, n_estimators=200; total time=  45.3s\n",
      "[CV] END bootstrap=True, max_depth=100, max_features=3, min_samples_leaf=25, min_samples_split=10, n_estimators=70; total time=  14.3s\n",
      "[CV] END bootstrap=True, max_depth=100, max_features=3, min_samples_leaf=25, min_samples_split=10, n_estimators=70; total time=  16.0s\n",
      "[CV] END bootstrap=True, max_depth=100, max_features=3, min_samples_leaf=25, min_samples_split=10, n_estimators=300; total time= 1.1min\n",
      "[CV] END bootstrap=True, max_depth=110, max_features=2, min_samples_leaf=5, min_samples_split=8, n_estimators=100; total time=  21.7s\n",
      "[CV] END bootstrap=True, max_depth=110, max_features=2, min_samples_leaf=5, min_samples_split=8, n_estimators=1000; total time= 3.5min\n",
      "[CV] END bootstrap=True, max_depth=110, max_features=2, min_samples_leaf=5, min_samples_split=10, n_estimators=100; total time=  22.4s\n",
      "[CV] END bootstrap=True, max_depth=110, max_features=2, min_samples_leaf=5, min_samples_split=10, n_estimators=1000; total time= 3.6min\n",
      "[CV] END bootstrap=True, max_depth=90, max_features=3, min_samples_leaf=5, min_samples_split=12, n_estimators=1000; total time= 4.0min\n",
      "[CV] END bootstrap=True, max_depth=100, max_features=2, min_samples_leaf=5, min_samples_split=8, n_estimators=300; total time= 1.1min\n",
      "[CV] END bootstrap=True, max_depth=100, max_features=2, min_samples_leaf=5, min_samples_split=12, n_estimators=200; total time=  42.2s\n",
      "[CV] END bootstrap=True, max_depth=100, max_features=2, min_samples_leaf=15, min_samples_split=10, n_estimators=70; total time=  12.8s\n",
      "[CV] END bootstrap=True, max_depth=100, max_features=2, min_samples_leaf=15, min_samples_split=10, n_estimators=100; total time=  19.3s\n",
      "[CV] END bootstrap=True, max_depth=100, max_features=2, min_samples_leaf=15, min_samples_split=12, n_estimators=70; total time=  13.4s\n",
      "[CV] END bootstrap=True, max_depth=100, max_features=2, min_samples_leaf=15, min_samples_split=12, n_estimators=100; total time=  19.1s\n",
      "[CV] END bootstrap=True, max_depth=100, max_features=2, min_samples_leaf=25, min_samples_split=8, n_estimators=70; total time=  13.6s\n",
      "[CV] END bootstrap=True, max_depth=100, max_features=2, min_samples_leaf=25, min_samples_split=8, n_estimators=100; total time=  19.6s\n",
      "[CV] END bootstrap=True, max_depth=100, max_features=2, min_samples_leaf=25, min_samples_split=10, n_estimators=70; total time=  13.4s\n",
      "[CV] END bootstrap=True, max_depth=100, max_features=2, min_samples_leaf=25, min_samples_split=10, n_estimators=200; total time=  37.3s\n",
      "[CV] END bootstrap=True, max_depth=100, max_features=2, min_samples_leaf=25, min_samples_split=12, n_estimators=300; total time=  58.0s\n",
      "[CV] END bootstrap=True, max_depth=100, max_features=3, min_samples_leaf=5, min_samples_split=10, n_estimators=200; total time=  49.4s\n",
      "[CV] END bootstrap=True, max_depth=100, max_features=3, min_samples_leaf=15, min_samples_split=8, n_estimators=70; total time=  15.3s\n",
      "[CV] END bootstrap=True, max_depth=100, max_features=3, min_samples_leaf=15, min_samples_split=8, n_estimators=100; total time=  23.2s\n",
      "[CV] END bootstrap=True, max_depth=100, max_features=3, min_samples_leaf=15, min_samples_split=10, n_estimators=100; total time=  22.6s\n",
      "[CV] END bootstrap=True, max_depth=100, max_features=3, min_samples_leaf=15, min_samples_split=10, n_estimators=300; total time= 1.1min\n",
      "[CV] END bootstrap=True, max_depth=100, max_features=3, min_samples_leaf=25, min_samples_split=8, n_estimators=300; total time= 1.1min\n",
      "[CV] END bootstrap=True, max_depth=100, max_features=3, min_samples_leaf=25, min_samples_split=12, n_estimators=200; total time=  46.4s\n",
      "[CV] END bootstrap=True, max_depth=110, max_features=2, min_samples_leaf=5, min_samples_split=8, n_estimators=200; total time=  41.8s\n",
      "[CV] END bootstrap=True, max_depth=110, max_features=2, min_samples_leaf=5, min_samples_split=10, n_estimators=1000; total time= 3.6min\n"
     ]
    },
    {
     "name": "stdout",
     "output_type": "stream",
     "text": [
      "[CV] END bootstrap=True, max_depth=110, max_features=2, min_samples_leaf=5, min_samples_split=12, n_estimators=100; total time=  21.2s\n",
      "[CV] END bootstrap=True, max_depth=110, max_features=2, min_samples_leaf=5, min_samples_split=12, n_estimators=1000; total time= 3.5min\n",
      "[CV] END bootstrap=True, max_depth=100, max_features=3, min_samples_leaf=15, min_samples_split=10, n_estimators=300; total time= 1.1min\n",
      "[CV] END bootstrap=True, max_depth=100, max_features=3, min_samples_leaf=25, min_samples_split=8, n_estimators=300; total time= 1.1min\n",
      "[CV] END bootstrap=True, max_depth=100, max_features=3, min_samples_leaf=25, min_samples_split=12, n_estimators=70; total time=  15.6s\n",
      "[CV] END bootstrap=True, max_depth=100, max_features=3, min_samples_leaf=25, min_samples_split=12, n_estimators=300; total time= 1.1min\n",
      "[CV] END bootstrap=True, max_depth=110, max_features=2, min_samples_leaf=5, min_samples_split=10, n_estimators=200; total time=  42.2s\n",
      "[CV] END bootstrap=True, max_depth=110, max_features=2, min_samples_leaf=5, min_samples_split=12, n_estimators=1000; total time= 3.6min\n",
      "[CV] END bootstrap=True, max_depth=110, max_features=2, min_samples_leaf=15, min_samples_split=8, n_estimators=100; total time=  20.5s\n",
      "[CV] END bootstrap=True, max_depth=110, max_features=2, min_samples_leaf=15, min_samples_split=8, n_estimators=1000; total time= 3.2min\n",
      "[CV] END bootstrap=True, max_depth=100, max_features=3, min_samples_leaf=5, min_samples_split=10, n_estimators=1000; total time= 4.1min\n",
      "[CV] END bootstrap=True, max_depth=110, max_features=2, min_samples_leaf=5, min_samples_split=8, n_estimators=70; total time=  15.1s\n",
      "[CV] END bootstrap=True, max_depth=110, max_features=2, min_samples_leaf=5, min_samples_split=8, n_estimators=100; total time=  22.0s\n",
      "[CV] END bootstrap=True, max_depth=110, max_features=2, min_samples_leaf=5, min_samples_split=10, n_estimators=70; total time=  14.5s\n",
      "[CV] END bootstrap=True, max_depth=110, max_features=2, min_samples_leaf=5, min_samples_split=10, n_estimators=200; total time=  43.0s\n",
      "[CV] END bootstrap=True, max_depth=110, max_features=2, min_samples_leaf=5, min_samples_split=12, n_estimators=300; total time= 1.0min\n",
      "[CV] END bootstrap=True, max_depth=110, max_features=2, min_samples_leaf=15, min_samples_split=10, n_estimators=1000; total time= 3.2min\n",
      "[CV] END bootstrap=True, max_depth=110, max_features=2, min_samples_leaf=5, min_samples_split=12, n_estimators=300; total time= 1.1min\n",
      "[CV] END bootstrap=True, max_depth=110, max_features=2, min_samples_leaf=15, min_samples_split=10, n_estimators=1000; total time= 3.2min\n",
      "[CV] END bootstrap=True, max_depth=110, max_features=2, min_samples_leaf=5, min_samples_split=12, n_estimators=300; total time= 1.1min\n",
      "[CV] END bootstrap=True, max_depth=110, max_features=2, min_samples_leaf=15, min_samples_split=10, n_estimators=1000; total time= 3.3min\n",
      "[CV] END bootstrap=True, max_depth=80, max_features=3, min_samples_leaf=25, min_samples_split=12, n_estimators=1000; total time= 3.8min\n",
      "[CV] END bootstrap=True, max_depth=90, max_features=2, min_samples_leaf=25, min_samples_split=8, n_estimators=300; total time=  56.8s\n",
      "[CV] END bootstrap=True, max_depth=90, max_features=2, min_samples_leaf=25, min_samples_split=12, n_estimators=100; total time=  18.0s\n",
      "[CV] END bootstrap=True, max_depth=90, max_features=3, min_samples_leaf=5, min_samples_split=8, n_estimators=70; total time=  18.5s\n",
      "[CV] END bootstrap=True, max_depth=90, max_features=3, min_samples_leaf=5, min_samples_split=8, n_estimators=200; total time=  48.0s\n",
      "[CV] END bootstrap=True, max_depth=90, max_features=3, min_samples_leaf=5, min_samples_split=12, n_estimators=70; total time=  17.3s\n",
      "[CV] END bootstrap=True, max_depth=90, max_features=3, min_samples_leaf=5, min_samples_split=12, n_estimators=200; total time=  49.0s\n",
      "[CV] END bootstrap=True, max_depth=90, max_features=3, min_samples_leaf=15, min_samples_split=10, n_estimators=70; total time=  16.2s\n",
      "[CV] END bootstrap=True, max_depth=90, max_features=3, min_samples_leaf=15, min_samples_split=10, n_estimators=300; total time= 1.1min\n",
      "[CV] END bootstrap=True, max_depth=90, max_features=3, min_samples_leaf=25, min_samples_split=8, n_estimators=200; total time=  42.5s\n",
      "[CV] END bootstrap=True, max_depth=90, max_features=3, min_samples_leaf=25, min_samples_split=10, n_estimators=300; total time= 1.1min\n",
      "[CV] END bootstrap=True, max_depth=100, max_features=2, min_samples_leaf=5, min_samples_split=8, n_estimators=70; total time=  15.0s\n",
      "[CV] END bootstrap=True, max_depth=100, max_features=2, min_samples_leaf=5, min_samples_split=8, n_estimators=300; total time= 1.1min\n",
      "[CV] END bootstrap=True, max_depth=100, max_features=2, min_samples_leaf=5, min_samples_split=12, n_estimators=300; total time= 1.0min\n",
      "[CV] END bootstrap=True, max_depth=100, max_features=2, min_samples_leaf=15, min_samples_split=10, n_estimators=300; total time=  58.4s\n",
      "[CV] END bootstrap=True, max_depth=100, max_features=2, min_samples_leaf=25, min_samples_split=8, n_estimators=100; total time=  17.8s\n",
      "[CV] END bootstrap=True, max_depth=100, max_features=2, min_samples_leaf=25, min_samples_split=8, n_estimators=1000; total time= 3.1min\n",
      "[CV] END bootstrap=True, max_depth=100, max_features=3, min_samples_leaf=15, min_samples_split=8, n_estimators=300; total time= 1.1min\n",
      "[CV] END bootstrap=True, max_depth=100, max_features=3, min_samples_leaf=15, min_samples_split=12, n_estimators=1000; total time= 3.7min\n",
      "[CV] END bootstrap=True, max_depth=110, max_features=2, min_samples_leaf=15, min_samples_split=8, n_estimators=70; total time=  13.0s\n",
      "[CV] END bootstrap=True, max_depth=110, max_features=2, min_samples_leaf=15, min_samples_split=8, n_estimators=200; total time=  37.3s\n",
      "[CV] END bootstrap=True, max_depth=110, max_features=2, min_samples_leaf=15, min_samples_split=10, n_estimators=200; total time=  38.7s\n",
      "[CV] END bootstrap=True, max_depth=110, max_features=2, min_samples_leaf=15, min_samples_split=12, n_estimators=1000; total time= 3.2min\n",
      "[CV] END bootstrap=True, max_depth=110, max_features=2, min_samples_leaf=15, min_samples_split=8, n_estimators=200; total time=  37.7s\n",
      "[CV] END bootstrap=True, max_depth=110, max_features=2, min_samples_leaf=15, min_samples_split=12, n_estimators=70; total time=  13.0s\n",
      "[CV] END bootstrap=True, max_depth=110, max_features=2, min_samples_leaf=15, min_samples_split=12, n_estimators=70; total time=  14.1s\n",
      "[CV] END bootstrap=True, max_depth=110, max_features=2, min_samples_leaf=15, min_samples_split=12, n_estimators=1000; total time= 3.3min\n",
      "[CV] END bootstrap=True, max_depth=110, max_features=2, min_samples_leaf=25, min_samples_split=10, n_estimators=100; total time=  18.8s\n",
      "[CV] END bootstrap=True, max_depth=110, max_features=2, min_samples_leaf=25, min_samples_split=12, n_estimators=70; total time=  13.1s\n",
      "[CV] END bootstrap=True, max_depth=110, max_features=2, min_samples_leaf=25, min_samples_split=12, n_estimators=100; total time=  18.2s\n",
      "[CV] END bootstrap=True, max_depth=110, max_features=3, min_samples_leaf=5, min_samples_split=8, n_estimators=70; total time=  18.4s\n",
      "[CV] END bootstrap=True, max_depth=110, max_features=3, min_samples_leaf=5, min_samples_split=8, n_estimators=300; total time= 1.2min\n",
      "[CV] END bootstrap=True, max_depth=90, max_features=3, min_samples_leaf=25, min_samples_split=10, n_estimators=1000; total time= 3.7min\n",
      "[CV] END bootstrap=True, max_depth=100, max_features=2, min_samples_leaf=15, min_samples_split=12, n_estimators=200; total time=  39.7s\n",
      "[CV] END bootstrap=True, max_depth=100, max_features=2, min_samples_leaf=25, min_samples_split=8, n_estimators=300; total time=  53.7s\n",
      "[CV] END bootstrap=True, max_depth=100, max_features=2, min_samples_leaf=25, min_samples_split=12, n_estimators=100; total time=  17.9s\n",
      "[CV] END bootstrap=True, max_depth=100, max_features=2, min_samples_leaf=25, min_samples_split=12, n_estimators=1000; total time= 3.1min\n",
      "[CV] END bootstrap=True, max_depth=100, max_features=3, min_samples_leaf=15, min_samples_split=12, n_estimators=300; total time= 1.1min\n",
      "[CV] END bootstrap=True, max_depth=100, max_features=3, min_samples_leaf=25, min_samples_split=10, n_estimators=100; total time=  21.6s\n",
      "[CV] END bootstrap=True, max_depth=100, max_features=3, min_samples_leaf=25, min_samples_split=10, n_estimators=1000; total time= 3.6min\n",
      "[CV] END bootstrap=True, max_depth=110, max_features=2, min_samples_leaf=15, min_samples_split=12, n_estimators=100; total time=  18.9s\n",
      "[CV] END bootstrap=True, max_depth=110, max_features=2, min_samples_leaf=15, min_samples_split=12, n_estimators=1000; total time= 3.2min\n"
     ]
    },
    {
     "name": "stdout",
     "output_type": "stream",
     "text": [
      "[CV] END bootstrap=True, max_depth=110, max_features=2, min_samples_leaf=5, min_samples_split=12, n_estimators=100; total time=  21.5s\n",
      "[CV] END bootstrap=True, max_depth=110, max_features=2, min_samples_leaf=15, min_samples_split=8, n_estimators=70; total time=  13.1s\n",
      "[CV] END bootstrap=True, max_depth=110, max_features=2, min_samples_leaf=15, min_samples_split=8, n_estimators=100; total time=  19.9s\n",
      "[CV] END bootstrap=True, max_depth=110, max_features=2, min_samples_leaf=15, min_samples_split=10, n_estimators=70; total time=  12.4s\n",
      "[CV] END bootstrap=True, max_depth=110, max_features=2, min_samples_leaf=15, min_samples_split=10, n_estimators=200; total time=  37.7s\n",
      "[CV] END bootstrap=True, max_depth=110, max_features=2, min_samples_leaf=15, min_samples_split=12, n_estimators=200; total time=  40.1s\n",
      "[CV] END bootstrap=True, max_depth=110, max_features=2, min_samples_leaf=25, min_samples_split=8, n_estimators=300; total time=  54.9s\n",
      "[CV] END bootstrap=True, max_depth=110, max_features=2, min_samples_leaf=25, min_samples_split=12, n_estimators=200; total time=  39.1s\n",
      "[CV] END bootstrap=True, max_depth=110, max_features=3, min_samples_leaf=5, min_samples_split=8, n_estimators=300; total time= 1.2min\n",
      "[CV] END bootstrap=True, max_depth=110, max_features=2, min_samples_leaf=25, min_samples_split=12, n_estimators=200; total time=  38.8s\n",
      "[CV] END bootstrap=True, max_depth=110, max_features=3, min_samples_leaf=5, min_samples_split=8, n_estimators=300; total time= 1.2min\n",
      "[CV] END bootstrap=True, max_depth=110, max_features=3, min_samples_leaf=5, min_samples_split=10, n_estimators=70; total time=  18.3s\n",
      "[CV] END bootstrap=True, max_depth=110, max_features=3, min_samples_leaf=5, min_samples_split=10, n_estimators=200; total time=  48.6s\n",
      "[CV] END bootstrap=True, max_depth=110, max_features=2, min_samples_leaf=25, min_samples_split=10, n_estimators=70; total time=  12.9s\n",
      "[CV] END bootstrap=True, max_depth=110, max_features=2, min_samples_leaf=25, min_samples_split=10, n_estimators=300; total time=  57.8s\n",
      "[CV] END bootstrap=True, max_depth=110, max_features=3, min_samples_leaf=5, min_samples_split=8, n_estimators=100; total time=  24.3s\n",
      "[CV] END bootstrap=True, max_depth=110, max_features=3, min_samples_leaf=5, min_samples_split=10, n_estimators=70; total time=  17.5s\n",
      "[CV] END bootstrap=True, max_depth=110, max_features=3, min_samples_leaf=5, min_samples_split=10, n_estimators=300; total time= 1.2min\n",
      "[CV] END bootstrap=True, max_depth=110, max_features=2, min_samples_leaf=25, min_samples_split=8, n_estimators=200; total time=  37.2s\n",
      "[CV] END bootstrap=True, max_depth=110, max_features=2, min_samples_leaf=25, min_samples_split=10, n_estimators=1000; total time= 3.1min\n",
      "[CV] END bootstrap=True, max_depth=100, max_features=3, min_samples_leaf=5, min_samples_split=10, n_estimators=1000; total time= 4.1min\n",
      "[CV] END bootstrap=True, max_depth=100, max_features=3, min_samples_leaf=25, min_samples_split=12, n_estimators=1000; total time= 3.7min\n",
      "[CV] END bootstrap=True, max_depth=110, max_features=2, min_samples_leaf=25, min_samples_split=8, n_estimators=200; total time=  36.8s\n",
      "[CV] END bootstrap=True, max_depth=110, max_features=2, min_samples_leaf=25, min_samples_split=10, n_estimators=1000; total time= 3.2min\n",
      "[CV] END bootstrap=True, max_depth=110, max_features=3, min_samples_leaf=5, min_samples_split=8, n_estimators=200; total time=  48.6s\n",
      "[CV] END bootstrap=True, max_depth=110, max_features=3, min_samples_leaf=5, min_samples_split=12, n_estimators=100; total time=  23.5s\n",
      "[CV] END bootstrap=True, max_depth=110, max_features=3, min_samples_leaf=5, min_samples_split=12, n_estimators=300; total time= 1.2min\n",
      "[CV] END bootstrap=True, max_depth=110, max_features=2, min_samples_leaf=25, min_samples_split=8, n_estimators=300; total time=  56.5s\n",
      "[CV] END bootstrap=True, max_depth=110, max_features=2, min_samples_leaf=25, min_samples_split=12, n_estimators=70; total time=  13.1s\n",
      "[CV] END bootstrap=True, max_depth=110, max_features=2, min_samples_leaf=25, min_samples_split=12, n_estimators=1000; total time= 3.1min\n",
      "[CV] END bootstrap=True, max_depth=110, max_features=2, min_samples_leaf=25, min_samples_split=10, n_estimators=200; total time=  38.2s\n",
      "[CV] END bootstrap=True, max_depth=110, max_features=2, min_samples_leaf=25, min_samples_split=12, n_estimators=1000; total time= 3.1min\n",
      "[CV] END bootstrap=True, max_depth=110, max_features=2, min_samples_leaf=15, min_samples_split=8, n_estimators=300; total time=  59.3s\n",
      "[CV] END bootstrap=True, max_depth=110, max_features=2, min_samples_leaf=15, min_samples_split=12, n_estimators=300; total time=  59.3s\n",
      "[CV] END bootstrap=True, max_depth=110, max_features=2, min_samples_leaf=25, min_samples_split=10, n_estimators=100; total time=  18.0s\n",
      "[CV] END bootstrap=True, max_depth=110, max_features=2, min_samples_leaf=25, min_samples_split=12, n_estimators=70; total time=  13.8s\n",
      "[CV] END bootstrap=True, max_depth=110, max_features=2, min_samples_leaf=25, min_samples_split=12, n_estimators=100; total time=  18.2s\n",
      "[CV] END bootstrap=True, max_depth=110, max_features=2, min_samples_leaf=25, min_samples_split=12, n_estimators=1000; total time= 3.1min\n",
      "[CV] END bootstrap=True, max_depth=100, max_features=3, min_samples_leaf=5, min_samples_split=8, n_estimators=1000; total time= 4.0min\n",
      "[CV] END bootstrap=True, max_depth=100, max_features=3, min_samples_leaf=25, min_samples_split=12, n_estimators=70; total time=  14.9s\n",
      "[CV] END bootstrap=True, max_depth=100, max_features=3, min_samples_leaf=25, min_samples_split=12, n_estimators=100; total time=  22.3s\n",
      "[CV] END bootstrap=True, max_depth=110, max_features=2, min_samples_leaf=5, min_samples_split=8, n_estimators=70; total time=  14.7s\n",
      "[CV] END bootstrap=True, max_depth=110, max_features=2, min_samples_leaf=5, min_samples_split=8, n_estimators=100; total time=  21.6s\n",
      "[CV] END bootstrap=True, max_depth=110, max_features=2, min_samples_leaf=5, min_samples_split=10, n_estimators=70; total time=  14.2s\n",
      "[CV] END bootstrap=True, max_depth=110, max_features=2, min_samples_leaf=5, min_samples_split=10, n_estimators=100; total time=  21.6s\n",
      "[CV] END bootstrap=True, max_depth=110, max_features=2, min_samples_leaf=5, min_samples_split=12, n_estimators=70; total time=  14.2s\n",
      "[CV] END bootstrap=True, max_depth=110, max_features=2, min_samples_leaf=5, min_samples_split=12, n_estimators=100; total time=  21.2s\n",
      "[CV] END bootstrap=True, max_depth=110, max_features=2, min_samples_leaf=15, min_samples_split=8, n_estimators=100; total time=  19.6s\n",
      "[CV] END bootstrap=True, max_depth=110, max_features=2, min_samples_leaf=15, min_samples_split=8, n_estimators=300; total time=  57.3s\n",
      "[CV] END bootstrap=True, max_depth=110, max_features=2, min_samples_leaf=15, min_samples_split=12, n_estimators=100; total time=  19.2s\n",
      "[CV] END bootstrap=True, max_depth=110, max_features=2, min_samples_leaf=25, min_samples_split=8, n_estimators=70; total time=  13.8s\n",
      "[CV] END bootstrap=True, max_depth=110, max_features=2, min_samples_leaf=25, min_samples_split=8, n_estimators=100; total time=  19.1s\n",
      "[CV] END bootstrap=True, max_depth=110, max_features=2, min_samples_leaf=25, min_samples_split=10, n_estimators=70; total time=  12.8s\n",
      "[CV] END bootstrap=True, max_depth=110, max_features=2, min_samples_leaf=25, min_samples_split=10, n_estimators=300; total time=  56.4s\n",
      "[CV] END bootstrap=True, max_depth=110, max_features=3, min_samples_leaf=5, min_samples_split=8, n_estimators=70; total time=  18.8s\n",
      "[CV] END bootstrap=True, max_depth=110, max_features=3, min_samples_leaf=5, min_samples_split=8, n_estimators=1000; total time= 4.0min\n",
      "[CV] END bootstrap=True, max_depth=110, max_features=2, min_samples_leaf=25, min_samples_split=12, n_estimators=200; total time=  39.4s\n",
      "[CV] END bootstrap=True, max_depth=110, max_features=3, min_samples_leaf=5, min_samples_split=8, n_estimators=1000; total time= 4.0min\n",
      "[CV] END bootstrap=True, max_depth=110, max_features=2, min_samples_leaf=15, min_samples_split=8, n_estimators=1000; total time= 3.2min\n",
      "[CV] END bootstrap=True, max_depth=110, max_features=3, min_samples_leaf=5, min_samples_split=8, n_estimators=1000; total time= 4.0min\n",
      "[CV] END bootstrap=True, max_depth=90, max_features=3, min_samples_leaf=25, min_samples_split=12, n_estimators=1000; total time= 3.7min\n",
      "[CV] END bootstrap=True, max_depth=100, max_features=2, min_samples_leaf=25, min_samples_split=8, n_estimators=200; total time=  37.7s\n",
      "[CV] END bootstrap=True, max_depth=100, max_features=2, min_samples_leaf=25, min_samples_split=10, n_estimators=1000; total time= 3.1min\n",
      "[CV] END bootstrap=True, max_depth=100, max_features=3, min_samples_leaf=15, min_samples_split=10, n_estimators=200; total time=  46.2s\n",
      "[CV] END bootstrap=True, max_depth=100, max_features=3, min_samples_leaf=25, min_samples_split=8, n_estimators=100; total time=  20.2s\n",
      "[CV] END bootstrap=True, max_depth=100, max_features=3, min_samples_leaf=25, min_samples_split=8, n_estimators=200; total time=  43.3s\n",
      "[CV] END bootstrap=True, max_depth=100, max_features=3, min_samples_leaf=25, min_samples_split=10, n_estimators=300; total time= 1.1min\n",
      "[CV] END bootstrap=True, max_depth=110, max_features=2, min_samples_leaf=5, min_samples_split=8, n_estimators=70; total time=  16.3s\n",
      "[CV] END bootstrap=True, max_depth=110, max_features=2, min_samples_leaf=5, min_samples_split=8, n_estimators=300; total time= 1.1min\n",
      "[CV] END bootstrap=True, max_depth=110, max_features=2, min_samples_leaf=5, min_samples_split=12, n_estimators=200; total time=  41.5s\n",
      "[CV] END bootstrap=True, max_depth=110, max_features=2, min_samples_leaf=15, min_samples_split=10, n_estimators=70; total time=  12.5s\n",
      "[CV] END bootstrap=True, max_depth=110, max_features=2, min_samples_leaf=15, min_samples_split=10, n_estimators=100; total time=  19.2s\n",
      "[CV] END bootstrap=True, max_depth=110, max_features=2, min_samples_leaf=15, min_samples_split=12, n_estimators=70; total time=  13.5s\n",
      "[CV] END bootstrap=True, max_depth=110, max_features=2, min_samples_leaf=15, min_samples_split=12, n_estimators=100; total time=  18.6s\n",
      "[CV] END bootstrap=True, max_depth=110, max_features=2, min_samples_leaf=25, min_samples_split=8, n_estimators=70; total time=  12.9s\n",
      "[CV] END bootstrap=True, max_depth=110, max_features=2, min_samples_leaf=25, min_samples_split=8, n_estimators=70; total time=  13.4s\n",
      "[CV] END bootstrap=True, max_depth=110, max_features=2, min_samples_leaf=25, min_samples_split=8, n_estimators=300; total time=  53.8s\n",
      "[CV] END bootstrap=True, max_depth=110, max_features=2, min_samples_leaf=25, min_samples_split=12, n_estimators=100; total time=  18.2s\n",
      "[CV] END bootstrap=True, max_depth=110, max_features=3, min_samples_leaf=5, min_samples_split=8, n_estimators=70; total time=  18.3s\n",
      "[CV] END bootstrap=True, max_depth=110, max_features=3, min_samples_leaf=5, min_samples_split=8, n_estimators=200; total time=  47.0s\n",
      "[CV] END bootstrap=True, max_depth=110, max_features=3, min_samples_leaf=5, min_samples_split=10, n_estimators=1000; total time= 4.0min\n"
     ]
    },
    {
     "name": "stdout",
     "output_type": "stream",
     "text": [
      "[CV] END bootstrap=True, max_depth=110, max_features=2, min_samples_leaf=25, min_samples_split=8, n_estimators=100; total time=  18.7s\n",
      "[CV] END bootstrap=True, max_depth=110, max_features=2, min_samples_leaf=25, min_samples_split=10, n_estimators=70; total time=  12.6s\n",
      "[CV] END bootstrap=True, max_depth=110, max_features=2, min_samples_leaf=25, min_samples_split=10, n_estimators=200; total time=  36.8s\n",
      "[CV] END bootstrap=True, max_depth=110, max_features=2, min_samples_leaf=25, min_samples_split=12, n_estimators=300; total time=  58.0s\n",
      "[CV] END bootstrap=True, max_depth=110, max_features=3, min_samples_leaf=5, min_samples_split=10, n_estimators=200; total time=  47.3s\n",
      "[CV] END bootstrap=True, max_depth=110, max_features=3, min_samples_leaf=5, min_samples_split=12, n_estimators=1000; total time= 3.9min\n",
      "[CV] END bootstrap=True, max_depth=110, max_features=2, min_samples_leaf=5, min_samples_split=12, n_estimators=1000; total time= 3.5min\n",
      "[CV] END bootstrap=True, max_depth=110, max_features=3, min_samples_leaf=5, min_samples_split=8, n_estimators=200; total time=  48.3s\n",
      "[CV] END bootstrap=True, max_depth=110, max_features=3, min_samples_leaf=5, min_samples_split=12, n_estimators=70; total time=  16.8s\n",
      "[CV] END bootstrap=True, max_depth=110, max_features=3, min_samples_leaf=5, min_samples_split=12, n_estimators=200; total time=  47.3s\n",
      "[CV] END bootstrap=True, max_depth=110, max_features=3, min_samples_leaf=15, min_samples_split=8, n_estimators=1000; total time= 3.5min\n",
      "[CV] END bootstrap=True, max_depth=110, max_features=3, min_samples_leaf=5, min_samples_split=8, n_estimators=100; total time=  24.5s\n",
      "[CV] END bootstrap=True, max_depth=110, max_features=3, min_samples_leaf=5, min_samples_split=10, n_estimators=100; total time=  23.8s\n",
      "[CV] END bootstrap=True, max_depth=110, max_features=3, min_samples_leaf=5, min_samples_split=12, n_estimators=70; total time=  16.4s\n",
      "[CV] END bootstrap=True, max_depth=110, max_features=3, min_samples_leaf=5, min_samples_split=12, n_estimators=100; total time=  24.5s\n",
      "[CV] END bootstrap=True, max_depth=110, max_features=3, min_samples_leaf=15, min_samples_split=8, n_estimators=100; total time=  23.0s\n",
      "[CV] END bootstrap=True, max_depth=110, max_features=3, min_samples_leaf=15, min_samples_split=8, n_estimators=1000; total time= 3.7min\n",
      "[CV] END bootstrap=True, max_depth=110, max_features=3, min_samples_leaf=5, min_samples_split=12, n_estimators=200; total time=  48.8s\n",
      "[CV] END bootstrap=True, max_depth=110, max_features=3, min_samples_leaf=15, min_samples_split=10, n_estimators=100; total time=  23.6s\n",
      "[CV] END bootstrap=True, max_depth=110, max_features=3, min_samples_leaf=15, min_samples_split=10, n_estimators=1000; total time= 3.5min\n",
      "[CV] END bootstrap=True, max_depth=110, max_features=3, min_samples_leaf=15, min_samples_split=8, n_estimators=70; total time=  16.1s\n",
      "[CV] END bootstrap=True, max_depth=110, max_features=3, min_samples_leaf=15, min_samples_split=8, n_estimators=200; total time=  44.9s\n",
      "[CV] END bootstrap=True, max_depth=110, max_features=3, min_samples_leaf=15, min_samples_split=10, n_estimators=1000; total time= 3.6min\n",
      "[CV] END bootstrap=True, max_depth=110, max_features=3, min_samples_leaf=5, min_samples_split=12, n_estimators=300; total time= 1.2min\n",
      "[CV] END bootstrap=True, max_depth=110, max_features=3, min_samples_leaf=15, min_samples_split=12, n_estimators=100; total time=  22.1s\n",
      "[CV] END bootstrap=True, max_depth=110, max_features=3, min_samples_leaf=15, min_samples_split=12, n_estimators=1000; total time= 3.3min\n",
      "[CV] END bootstrap=True, max_depth=110, max_features=3, min_samples_leaf=15, min_samples_split=10, n_estimators=100; total time=  23.6s\n",
      "[CV] END bootstrap=True, max_depth=110, max_features=3, min_samples_leaf=15, min_samples_split=12, n_estimators=100; total time=  22.0s\n",
      "[CV] END bootstrap=True, max_depth=110, max_features=3, min_samples_leaf=15, min_samples_split=12, n_estimators=1000; total time= 3.3min\n",
      "[CV] END bootstrap=True, max_depth=110, max_features=2, min_samples_leaf=25, min_samples_split=10, n_estimators=200; total time=  37.4s\n",
      "[CV] END bootstrap=True, max_depth=110, max_features=2, min_samples_leaf=25, min_samples_split=12, n_estimators=300; total time=  57.5s\n",
      "[CV] END bootstrap=True, max_depth=110, max_features=3, min_samples_leaf=5, min_samples_split=10, n_estimators=200; total time=  47.8s\n",
      "[CV] END bootstrap=True, max_depth=110, max_features=3, min_samples_leaf=15, min_samples_split=8, n_estimators=70; total time=  15.6s\n",
      "[CV] END bootstrap=True, max_depth=110, max_features=3, min_samples_leaf=15, min_samples_split=8, n_estimators=100; total time=  22.8s\n",
      "[CV] END bootstrap=True, max_depth=110, max_features=3, min_samples_leaf=15, min_samples_split=10, n_estimators=100; total time=  22.6s\n",
      "[CV] END bootstrap=True, max_depth=110, max_features=3, min_samples_leaf=15, min_samples_split=10, n_estimators=300; total time= 1.1min\n",
      "[CV] END bootstrap=True, max_depth=110, max_features=3, min_samples_leaf=25, min_samples_split=8, n_estimators=1000; total time= 2.9min\n",
      "[CV] END bootstrap=True, max_depth=110, max_features=3, min_samples_leaf=15, min_samples_split=12, n_estimators=100; total time=  22.2s\n",
      "[CV] END bootstrap=True, max_depth=110, max_features=3, min_samples_leaf=25, min_samples_split=8, n_estimators=100; total time=  21.2s\n",
      "[CV] END bootstrap=True, max_depth=110, max_features=3, min_samples_leaf=25, min_samples_split=8, n_estimators=1000; total time= 3.0min\n",
      "[CV] END bootstrap=True, max_depth=110, max_features=3, min_samples_leaf=15, min_samples_split=12, n_estimators=200; total time=  43.5s\n",
      "[CV] END bootstrap=True, max_depth=110, max_features=3, min_samples_leaf=25, min_samples_split=8, n_estimators=1000; total time= 3.0min\n",
      "[CV] END bootstrap=True, max_depth=110, max_features=3, min_samples_leaf=15, min_samples_split=12, n_estimators=70; total time=  15.9s\n",
      "[CV] END bootstrap=True, max_depth=110, max_features=3, min_samples_leaf=15, min_samples_split=12, n_estimators=300; total time= 1.1min\n",
      "[CV] END bootstrap=True, max_depth=110, max_features=3, min_samples_leaf=25, min_samples_split=10, n_estimators=100; total time=  22.5s\n",
      "[CV] END bootstrap=True, max_depth=110, max_features=3, min_samples_leaf=25, min_samples_split=10, n_estimators=1000; total time= 2.7min\n"
     ]
    },
    {
     "data": {
      "text/plain": [
       "{'bootstrap': True,\n",
       " 'max_depth': 100,\n",
       " 'max_features': 3,\n",
       " 'min_samples_leaf': 5,\n",
       " 'min_samples_split': 12,\n",
       " 'n_estimators': 200}"
      ]
     },
     "execution_count": 49,
     "metadata": {},
     "output_type": "execute_result"
    },
    {
     "name": "stdout",
     "output_type": "stream",
     "text": [
      "[CV] END bootstrap=True, max_depth=100, max_features=3, min_samples_leaf=15, min_samples_split=8, n_estimators=1000; total time= 3.8min\n",
      "[CV] END bootstrap=True, max_depth=110, max_features=2, min_samples_leaf=5, min_samples_split=10, n_estimators=100; total time=  22.2s\n",
      "[CV] END bootstrap=True, max_depth=110, max_features=2, min_samples_leaf=5, min_samples_split=12, n_estimators=70; total time=  14.7s\n",
      "[CV] END bootstrap=True, max_depth=110, max_features=2, min_samples_leaf=5, min_samples_split=12, n_estimators=200; total time=  42.6s\n",
      "[CV] END bootstrap=True, max_depth=110, max_features=2, min_samples_leaf=15, min_samples_split=8, n_estimators=300; total time=  55.8s\n",
      "[CV] END bootstrap=True, max_depth=110, max_features=2, min_samples_leaf=15, min_samples_split=12, n_estimators=200; total time=  39.4s\n",
      "[CV] END bootstrap=True, max_depth=110, max_features=2, min_samples_leaf=25, min_samples_split=8, n_estimators=1000; total time= 3.1min\n",
      "[CV] END bootstrap=True, max_depth=110, max_features=3, min_samples_leaf=15, min_samples_split=8, n_estimators=200; total time=  46.2s\n",
      "[CV] END bootstrap=True, max_depth=110, max_features=3, min_samples_leaf=15, min_samples_split=12, n_estimators=70; total time=  15.9s\n",
      "[CV] END bootstrap=True, max_depth=110, max_features=3, min_samples_leaf=15, min_samples_split=12, n_estimators=200; total time=  43.5s\n",
      "[CV] END bootstrap=True, max_depth=110, max_features=3, min_samples_leaf=25, min_samples_split=8, n_estimators=300; total time= 1.1min\n",
      "[CV] END bootstrap=True, max_depth=110, max_features=3, min_samples_leaf=25, min_samples_split=12, n_estimators=100; total time=  22.5s\n",
      "[CV] END bootstrap=True, max_depth=110, max_features=3, min_samples_leaf=25, min_samples_split=12, n_estimators=70; total time=  15.5s\n",
      "[CV] END bootstrap=True, max_depth=110, max_features=3, min_samples_leaf=25, min_samples_split=12, n_estimators=100; total time=  21.8s\n",
      "[CV] END bootstrap=True, max_depth=110, max_features=2, min_samples_leaf=5, min_samples_split=10, n_estimators=1000; total time= 3.6min\n",
      "[CV] END bootstrap=True, max_depth=110, max_features=2, min_samples_leaf=25, min_samples_split=12, n_estimators=300; total time=  56.9s\n",
      "[CV] END bootstrap=True, max_depth=110, max_features=3, min_samples_leaf=5, min_samples_split=10, n_estimators=100; total time=  23.3s\n",
      "[CV] END bootstrap=True, max_depth=110, max_features=3, min_samples_leaf=5, min_samples_split=12, n_estimators=100; total time=  23.4s\n",
      "[CV] END bootstrap=True, max_depth=110, max_features=3, min_samples_leaf=5, min_samples_split=12, n_estimators=300; total time= 1.2min\n",
      "[CV] END bootstrap=True, max_depth=110, max_features=3, min_samples_leaf=15, min_samples_split=12, n_estimators=70; total time=  16.4s\n",
      "[CV] END bootstrap=True, max_depth=110, max_features=3, min_samples_leaf=15, min_samples_split=12, n_estimators=200; total time=  44.0s\n",
      "[CV] END bootstrap=True, max_depth=110, max_features=3, min_samples_leaf=25, min_samples_split=10, n_estimators=70; total time=  14.0s\n",
      "[CV] END bootstrap=True, max_depth=110, max_features=3, min_samples_leaf=25, min_samples_split=10, n_estimators=70; total time=  15.7s\n",
      "[CV] END bootstrap=True, max_depth=110, max_features=3, min_samples_leaf=25, min_samples_split=10, n_estimators=300; total time= 1.1min\n",
      "[CV] END bootstrap=True, max_depth=110, max_features=3, min_samples_leaf=15, min_samples_split=8, n_estimators=100; total time=  23.1s\n",
      "[CV] END bootstrap=True, max_depth=110, max_features=3, min_samples_leaf=15, min_samples_split=8, n_estimators=300; total time= 1.2min\n",
      "[CV] END bootstrap=True, max_depth=110, max_features=3, min_samples_leaf=25, min_samples_split=8, n_estimators=100; total time=  20.5s\n",
      "[CV] END bootstrap=True, max_depth=110, max_features=3, min_samples_leaf=25, min_samples_split=8, n_estimators=200; total time=  41.8s\n",
      "[CV] END bootstrap=True, max_depth=110, max_features=3, min_samples_leaf=25, min_samples_split=10, n_estimators=300; total time= 1.0min\n",
      "[CV] END bootstrap=True, max_depth=110, max_features=3, min_samples_leaf=5, min_samples_split=10, n_estimators=300; total time= 1.2min\n",
      "[CV] END bootstrap=True, max_depth=110, max_features=3, min_samples_leaf=15, min_samples_split=10, n_estimators=70; total time=  16.5s\n",
      "[CV] END bootstrap=True, max_depth=110, max_features=3, min_samples_leaf=15, min_samples_split=10, n_estimators=200; total time=  46.3s\n",
      "[CV] END bootstrap=True, max_depth=110, max_features=3, min_samples_leaf=25, min_samples_split=8, n_estimators=70; total time=  14.0s\n",
      "[CV] END bootstrap=True, max_depth=110, max_features=3, min_samples_leaf=25, min_samples_split=8, n_estimators=100; total time=  20.4s\n",
      "[CV] END bootstrap=True, max_depth=110, max_features=3, min_samples_leaf=25, min_samples_split=10, n_estimators=70; total time=  14.7s\n",
      "[CV] END bootstrap=True, max_depth=110, max_features=3, min_samples_leaf=25, min_samples_split=10, n_estimators=100; total time=  22.7s\n",
      "[CV] END bootstrap=True, max_depth=110, max_features=3, min_samples_leaf=25, min_samples_split=10, n_estimators=300; total time= 1.1min\n",
      "[CV] END bootstrap=True, max_depth=80, max_features=3, min_samples_leaf=25, min_samples_split=10, n_estimators=1000; total time= 3.8min\n",
      "[CV] END bootstrap=True, max_depth=90, max_features=2, min_samples_leaf=15, min_samples_split=12, n_estimators=300; total time=  56.8s\n",
      "[CV] END bootstrap=True, max_depth=90, max_features=2, min_samples_leaf=25, min_samples_split=10, n_estimators=100; total time=  18.4s\n",
      "[CV] END bootstrap=True, max_depth=90, max_features=2, min_samples_leaf=25, min_samples_split=10, n_estimators=1000; total time= 3.1min\n",
      "[CV] END bootstrap=True, max_depth=90, max_features=3, min_samples_leaf=15, min_samples_split=10, n_estimators=300; total time= 1.1min\n",
      "[CV] END bootstrap=True, max_depth=90, max_features=3, min_samples_leaf=25, min_samples_split=8, n_estimators=300; total time= 1.1min\n",
      "[CV] END bootstrap=True, max_depth=90, max_features=3, min_samples_leaf=25, min_samples_split=12, n_estimators=100; total time=  21.9s\n",
      "[CV] END bootstrap=True, max_depth=90, max_features=3, min_samples_leaf=25, min_samples_split=12, n_estimators=1000; total time= 3.7min\n",
      "[CV] END bootstrap=True, max_depth=100, max_features=2, min_samples_leaf=25, min_samples_split=8, n_estimators=300; total time=  55.4s\n",
      "[CV] END bootstrap=True, max_depth=100, max_features=2, min_samples_leaf=25, min_samples_split=12, n_estimators=70; total time=  12.9s\n",
      "[CV] END bootstrap=True, max_depth=100, max_features=2, min_samples_leaf=25, min_samples_split=12, n_estimators=1000; total time= 3.1min\n",
      "[CV] END bootstrap=True, max_depth=100, max_features=3, min_samples_leaf=15, min_samples_split=12, n_estimators=100; total time=  22.3s\n",
      "[CV] END bootstrap=True, max_depth=100, max_features=3, min_samples_leaf=25, min_samples_split=8, n_estimators=100; total time=  20.7s\n",
      "[CV] END bootstrap=True, max_depth=100, max_features=3, min_samples_leaf=25, min_samples_split=8, n_estimators=300; total time= 1.1min\n",
      "[CV] END bootstrap=True, max_depth=100, max_features=3, min_samples_leaf=25, min_samples_split=12, n_estimators=100; total time=  22.3s\n",
      "[CV] END bootstrap=True, max_depth=100, max_features=3, min_samples_leaf=25, min_samples_split=12, n_estimators=1000; total time= 3.7min\n",
      "[CV] END bootstrap=True, max_depth=110, max_features=2, min_samples_leaf=25, min_samples_split=8, n_estimators=200; total time=  36.8s\n",
      "[CV] END bootstrap=True, max_depth=110, max_features=2, min_samples_leaf=25, min_samples_split=10, n_estimators=300; total time=  56.6s\n",
      "[CV] END bootstrap=True, max_depth=110, max_features=3, min_samples_leaf=5, min_samples_split=8, n_estimators=100; total time=  25.8s\n",
      "[CV] END bootstrap=True, max_depth=110, max_features=3, min_samples_leaf=5, min_samples_split=10, n_estimators=100; total time=  24.9s\n",
      "[CV] END bootstrap=True, max_depth=110, max_features=3, min_samples_leaf=5, min_samples_split=12, n_estimators=70; total time=  16.9s\n",
      "[CV] END bootstrap=True, max_depth=110, max_features=3, min_samples_leaf=5, min_samples_split=12, n_estimators=200; total time=  49.0s\n",
      "[CV] END bootstrap=True, max_depth=110, max_features=3, min_samples_leaf=15, min_samples_split=10, n_estimators=70; total time=  15.7s\n",
      "[CV] END bootstrap=True, max_depth=110, max_features=3, min_samples_leaf=15, min_samples_split=10, n_estimators=200; total time=  46.0s\n",
      "[CV] END bootstrap=True, max_depth=110, max_features=3, min_samples_leaf=25, min_samples_split=8, n_estimators=70; total time=  14.6s\n",
      "[CV] END bootstrap=True, max_depth=110, max_features=3, min_samples_leaf=25, min_samples_split=8, n_estimators=200; total time=  42.3s\n",
      "[CV] END bootstrap=True, max_depth=110, max_features=3, min_samples_leaf=25, min_samples_split=10, n_estimators=100; total time=  22.2s\n",
      "[CV] END bootstrap=True, max_depth=110, max_features=3, min_samples_leaf=25, min_samples_split=12, n_estimators=70; total time=  15.5s\n",
      "[CV] END bootstrap=True, max_depth=110, max_features=3, min_samples_leaf=25, min_samples_split=12, n_estimators=200; total time=  44.7s\n"
     ]
    },
    {
     "name": "stdout",
     "output_type": "stream",
     "text": [
      "[CV] END bootstrap=True, max_depth=110, max_features=3, min_samples_leaf=5, min_samples_split=12, n_estimators=1000; total time= 4.0min\n",
      "[CV] END bootstrap=True, max_depth=110, max_features=3, min_samples_leaf=15, min_samples_split=10, n_estimators=70; total time=  15.7s\n",
      "[CV] END bootstrap=True, max_depth=110, max_features=3, min_samples_leaf=15, min_samples_split=10, n_estimators=200; total time=  45.6s\n",
      "[CV] END bootstrap=True, max_depth=110, max_features=3, min_samples_leaf=25, min_samples_split=8, n_estimators=70; total time=  14.1s\n",
      "[CV] END bootstrap=True, max_depth=110, max_features=3, min_samples_leaf=25, min_samples_split=8, n_estimators=200; total time=  42.7s\n",
      "[CV] END bootstrap=True, max_depth=110, max_features=3, min_samples_leaf=25, min_samples_split=10, n_estimators=200; total time=  43.2s\n",
      "[CV] END bootstrap=True, max_depth=110, max_features=3, min_samples_leaf=25, min_samples_split=12, n_estimators=200; total time=  44.0s\n",
      "[CV] END bootstrap=True, max_depth=110, max_features=3, min_samples_leaf=15, min_samples_split=8, n_estimators=70; total time=  16.2s\n",
      "[CV] END bootstrap=True, max_depth=110, max_features=3, min_samples_leaf=15, min_samples_split=8, n_estimators=300; total time= 1.1min\n",
      "[CV] END bootstrap=True, max_depth=110, max_features=3, min_samples_leaf=15, min_samples_split=12, n_estimators=300; total time= 1.1min\n",
      "[CV] END bootstrap=True, max_depth=110, max_features=3, min_samples_leaf=25, min_samples_split=10, n_estimators=200; total time=  44.7s\n",
      "[CV] END bootstrap=True, max_depth=110, max_features=3, min_samples_leaf=25, min_samples_split=12, n_estimators=200; total time=  43.1s\n",
      "[CV] END bootstrap=True, max_depth=110, max_features=3, min_samples_leaf=5, min_samples_split=12, n_estimators=1000; total time= 4.0min\n",
      "[CV] END bootstrap=True, max_depth=110, max_features=2, min_samples_leaf=15, min_samples_split=8, n_estimators=1000; total time= 3.3min\n",
      "[CV] END bootstrap=True, max_depth=110, max_features=3, min_samples_leaf=5, min_samples_split=10, n_estimators=70; total time=  17.4s\n",
      "[CV] END bootstrap=True, max_depth=110, max_features=3, min_samples_leaf=5, min_samples_split=10, n_estimators=300; total time= 1.2min\n",
      "[CV] END bootstrap=True, max_depth=110, max_features=3, min_samples_leaf=15, min_samples_split=8, n_estimators=1000; total time= 3.7min\n",
      "[CV] END bootstrap=True, max_depth=110, max_features=3, min_samples_leaf=5, min_samples_split=10, n_estimators=1000; total time= 4.0min\n",
      "[CV] END bootstrap=True, max_depth=110, max_features=3, min_samples_leaf=25, min_samples_split=12, n_estimators=300; total time=  54.9s\n",
      "[CV] END bootstrap=True, max_depth=110, max_features=3, min_samples_leaf=15, min_samples_split=10, n_estimators=300; total time= 1.1min\n",
      "[CV] END bootstrap=True, max_depth=110, max_features=3, min_samples_leaf=25, min_samples_split=8, n_estimators=300; total time= 1.1min\n",
      "[CV] END bootstrap=True, max_depth=110, max_features=3, min_samples_leaf=25, min_samples_split=12, n_estimators=70; total time=  15.6s\n",
      "[CV] END bootstrap=True, max_depth=110, max_features=3, min_samples_leaf=25, min_samples_split=12, n_estimators=300; total time= 1.0min\n",
      "[CV] END bootstrap=True, max_depth=110, max_features=3, min_samples_leaf=15, min_samples_split=12, n_estimators=300; total time= 1.1min\n",
      "[CV] END bootstrap=True, max_depth=110, max_features=3, min_samples_leaf=25, min_samples_split=10, n_estimators=200; total time=  43.3s\n",
      "[CV] END bootstrap=True, max_depth=110, max_features=3, min_samples_leaf=25, min_samples_split=12, n_estimators=300; total time= 1.0min\n",
      "[CV] END bootstrap=True, max_depth=100, max_features=3, min_samples_leaf=25, min_samples_split=10, n_estimators=1000; total time= 3.8min\n",
      "[CV] END bootstrap=True, max_depth=110, max_features=2, min_samples_leaf=15, min_samples_split=12, n_estimators=200; total time=  39.1s\n",
      "[CV] END bootstrap=True, max_depth=110, max_features=2, min_samples_leaf=25, min_samples_split=8, n_estimators=1000; total time= 3.1min\n",
      "[CV] END bootstrap=True, max_depth=110, max_features=3, min_samples_leaf=15, min_samples_split=8, n_estimators=200; total time=  46.9s\n",
      "[CV] END bootstrap=True, max_depth=110, max_features=3, min_samples_leaf=15, min_samples_split=10, n_estimators=1000; total time= 3.4min\n",
      "[CV] END bootstrap=True, max_depth=100, max_features=2, min_samples_leaf=15, min_samples_split=8, n_estimators=1000; total time= 3.3min\n",
      "[CV] END bootstrap=True, max_depth=100, max_features=3, min_samples_leaf=5, min_samples_split=10, n_estimators=70; total time=  16.8s\n",
      "[CV] END bootstrap=True, max_depth=100, max_features=3, min_samples_leaf=5, min_samples_split=10, n_estimators=300; total time= 1.2min\n",
      "[CV] END bootstrap=True, max_depth=100, max_features=3, min_samples_leaf=15, min_samples_split=8, n_estimators=300; total time= 1.1min\n",
      "[CV] END bootstrap=True, max_depth=100, max_features=3, min_samples_leaf=15, min_samples_split=12, n_estimators=1000; total time= 3.8min\n",
      "[CV] END bootstrap=True, max_depth=110, max_features=2, min_samples_leaf=15, min_samples_split=8, n_estimators=70; total time=  13.2s\n",
      "[CV] END bootstrap=True, max_depth=110, max_features=2, min_samples_leaf=15, min_samples_split=8, n_estimators=200; total time=  37.7s\n",
      "[CV] END bootstrap=True, max_depth=110, max_features=2, min_samples_leaf=15, min_samples_split=10, n_estimators=300; total time=  56.7s\n",
      "[CV] END bootstrap=True, max_depth=110, max_features=2, min_samples_leaf=25, min_samples_split=8, n_estimators=100; total time=  18.8s\n",
      "[CV] END bootstrap=True, max_depth=110, max_features=2, min_samples_leaf=25, min_samples_split=8, n_estimators=1000; total time= 3.1min\n",
      "[CV] END bootstrap=True, max_depth=110, max_features=3, min_samples_leaf=15, min_samples_split=8, n_estimators=300; total time= 1.1min\n",
      "[CV] END bootstrap=True, max_depth=110, max_features=3, min_samples_leaf=15, min_samples_split=12, n_estimators=1000; total time= 3.1min\n",
      "[CV] END bootstrap=True, max_depth=110, max_features=3, min_samples_leaf=25, min_samples_split=10, n_estimators=1000; total time= 2.6min\n",
      "[CV] END bootstrap=True, max_depth=110, max_features=3, min_samples_leaf=25, min_samples_split=10, n_estimators=1000; total time= 2.6min\n",
      "[CV] END bootstrap=True, max_depth=100, max_features=3, min_samples_leaf=25, min_samples_split=10, n_estimators=1000; total time= 3.7min\n",
      "[CV] END bootstrap=True, max_depth=110, max_features=2, min_samples_leaf=15, min_samples_split=12, n_estimators=300; total time=  57.7s\n",
      "[CV] END bootstrap=True, max_depth=110, max_features=2, min_samples_leaf=25, min_samples_split=10, n_estimators=100; total time=  17.8s\n",
      "[CV] END bootstrap=True, max_depth=110, max_features=2, min_samples_leaf=25, min_samples_split=10, n_estimators=1000; total time= 3.1min\n",
      "[CV] END bootstrap=True, max_depth=110, max_features=3, min_samples_leaf=15, min_samples_split=10, n_estimators=300; total time= 1.1min\n",
      "[CV] END bootstrap=True, max_depth=110, max_features=3, min_samples_leaf=25, min_samples_split=8, n_estimators=300; total time= 1.1min\n",
      "[CV] END bootstrap=True, max_depth=110, max_features=3, min_samples_leaf=25, min_samples_split=12, n_estimators=100; total time=  22.1s\n",
      "[CV] END bootstrap=True, max_depth=110, max_features=3, min_samples_leaf=25, min_samples_split=12, n_estimators=1000; total time= 2.3min\n",
      "[CV] END bootstrap=True, max_depth=110, max_features=3, min_samples_leaf=5, min_samples_split=10, n_estimators=1000; total time= 4.0min\n",
      "[CV] END bootstrap=True, max_depth=110, max_features=3, min_samples_leaf=25, min_samples_split=12, n_estimators=1000; total time= 2.4min\n",
      "[CV] END bootstrap=True, max_depth=110, max_features=3, min_samples_leaf=25, min_samples_split=12, n_estimators=1000; total time= 2.4min\n"
     ]
    }
   ],
   "source": [
    "grid_search.fit(X, y)\n"
   ]
  },
  {
   "cell_type": "code",
   "execution_count": 50,
   "metadata": {},
   "outputs": [
    {
     "data": {
      "text/plain": [
       "{'bootstrap': True,\n",
       " 'max_depth': 100,\n",
       " 'max_features': 3,\n",
       " 'min_samples_leaf': 5,\n",
       " 'min_samples_split': 12,\n",
       " 'n_estimators': 200}"
      ]
     },
     "execution_count": 50,
     "metadata": {},
     "output_type": "execute_result"
    }
   ],
   "source": [
    "grid_search.best_params_"
   ]
  },
  {
   "cell_type": "code",
   "execution_count": 58,
   "metadata": {},
   "outputs": [],
   "source": [
    "param_dict = grid_search.best_params_"
   ]
  },
  {
   "cell_type": "code",
   "execution_count": 60,
   "metadata": {},
   "outputs": [],
   "source": [
    "rf = RandomForestClassifier(bootstrap = param_dict[\"bootstrap\"],max_depth = param_dict[\"max_depth\"], max_features = param_dict[\"max_features\"], min_samples_leaf = param_dict[\"min_samples_leaf\"],min_samples_split = param_dict[\"min_samples_split\"],n_estimators = param_dict[\"n_estimators\"]    )"
   ]
  },
  {
   "cell_type": "code",
   "execution_count": 61,
   "metadata": {},
   "outputs": [],
   "source": [
    "X_train, X_test, y_train, y_test = train_test_split(X,y, train_size = 0.8, test_size = 0.2)"
   ]
  },
  {
   "cell_type": "code",
   "execution_count": 62,
   "metadata": {},
   "outputs": [
    {
     "data": {
      "text/plain": [
       "RandomForestClassifier(max_depth=100, max_features=3, min_samples_leaf=5,\n",
       "                       min_samples_split=12, n_estimators=200)"
      ]
     },
     "execution_count": 62,
     "metadata": {},
     "output_type": "execute_result"
    }
   ],
   "source": [
    "rf.fit(X_train, y_train)"
   ]
  },
  {
   "cell_type": "code",
   "execution_count": 63,
   "metadata": {},
   "outputs": [],
   "source": [
    "y_pred_test = rf.predict(X_test)"
   ]
  },
  {
   "cell_type": "code",
   "execution_count": 66,
   "metadata": {},
   "outputs": [
    {
     "name": "stdout",
     "output_type": "stream",
     "text": [
      "              precision    recall  f1-score   support\n",
      "\n",
      "           0       0.86      0.26      0.40        46\n",
      "           1       0.96      1.00      0.98      2685\n",
      "           2       0.97      1.00      0.99      6414\n",
      "           3       1.00      0.99      1.00      1159\n",
      "           4       1.00      0.27      0.42        26\n",
      "           5       0.97      0.78      0.87       200\n",
      "           6       1.00      0.99      0.99      3259\n",
      "           7       0.95      0.99      0.97       844\n",
      "           8       0.99      1.00      1.00      1999\n",
      "           9       1.00      0.42      0.59        24\n",
      "          10       1.00      0.58      0.74        72\n",
      "          11       0.00      0.00      0.00         2\n",
      "          12       0.99      0.85      0.92       185\n",
      "          13       0.00      0.00      0.00        22\n",
      "          14       0.00      0.00      0.00        19\n",
      "          15       1.00      0.26      0.41        31\n",
      "          16       1.00      1.00      1.00      1149\n",
      "          17       0.97      1.00      0.98      1789\n",
      "          19       0.00      0.00      0.00         8\n",
      "          20       0.91      0.91      0.91       313\n",
      "          21       0.00      0.00      0.00         1\n",
      "          22       0.97      0.95      0.96      2184\n",
      "          23       0.93      0.90      0.91        89\n",
      "          25       0.98      0.43      0.60       208\n",
      "          26       0.93      0.99      0.96      1000\n",
      "          27       0.81      0.74      0.77       160\n",
      "          28       0.00      0.00      0.00        39\n",
      "          29       1.00      1.00      1.00      7538\n",
      "          30       0.95      0.98      0.96       809\n",
      "\n",
      "    accuracy                           0.98     32274\n",
      "   macro avg       0.76      0.63      0.67     32274\n",
      "weighted avg       0.98      0.98      0.98     32274\n",
      "\n"
     ]
    },
    {
     "name": "stderr",
     "output_type": "stream",
     "text": [
      "/home/ubuntu/.local/lib/python3.8/site-packages/sklearn/metrics/_classification.py:1318: UndefinedMetricWarning: Precision and F-score are ill-defined and being set to 0.0 in labels with no predicted samples. Use `zero_division` parameter to control this behavior.\n",
      "  _warn_prf(average, modifier, msg_start, len(result))\n",
      "/home/ubuntu/.local/lib/python3.8/site-packages/sklearn/metrics/_classification.py:1318: UndefinedMetricWarning: Precision and F-score are ill-defined and being set to 0.0 in labels with no predicted samples. Use `zero_division` parameter to control this behavior.\n",
      "  _warn_prf(average, modifier, msg_start, len(result))\n",
      "/home/ubuntu/.local/lib/python3.8/site-packages/sklearn/metrics/_classification.py:1318: UndefinedMetricWarning: Precision and F-score are ill-defined and being set to 0.0 in labels with no predicted samples. Use `zero_division` parameter to control this behavior.\n",
      "  _warn_prf(average, modifier, msg_start, len(result))\n"
     ]
    }
   ],
   "source": [
    "print(classification_report(y_test, y_pred_test))"
   ]
  },
  {
   "cell_type": "code",
   "execution_count": null,
   "metadata": {},
   "outputs": [],
   "source": []
  }
 ],
 "metadata": {
  "accelerator": "GPU",
  "colab": {
   "collapsed_sections": [],
   "name": "crimes ML",
   "provenance": []
  },
  "gpuClass": "standard",
  "kernelspec": {
   "display_name": "Python 3 (ipykernel)",
   "language": "python",
   "name": "python3"
  },
  "language_info": {
   "codemirror_mode": {
    "name": "ipython",
    "version": 3
   },
   "file_extension": ".py",
   "mimetype": "text/x-python",
   "name": "python",
   "nbconvert_exporter": "python",
   "pygments_lexer": "ipython3",
   "version": "3.8.10"
  }
 },
 "nbformat": 4,
 "nbformat_minor": 1
}
